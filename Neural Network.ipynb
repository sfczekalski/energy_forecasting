{
 "cells": [
  {
   "cell_type": "raw",
   "metadata": {},
   "source": [
    "Input data consist of values of current observations along with its lagged values"
   ]
  },
  {
   "cell_type": "code",
   "execution_count": 1,
   "metadata": {},
   "outputs": [
    {
     "data": {
      "text/html": [
       "<div>\n",
       "<style scoped>\n",
       "    .dataframe tbody tr th:only-of-type {\n",
       "        vertical-align: middle;\n",
       "    }\n",
       "\n",
       "    .dataframe tbody tr th {\n",
       "        vertical-align: top;\n",
       "    }\n",
       "\n",
       "    .dataframe thead th {\n",
       "        text-align: right;\n",
       "    }\n",
       "</style>\n",
       "<table border=\"1\" class=\"dataframe\">\n",
       "  <thead>\n",
       "    <tr style=\"text-align: right;\">\n",
       "      <th></th>\n",
       "      <th>Energia(t-3)</th>\n",
       "      <th>Temp_zewn(t-3)</th>\n",
       "      <th>V_wiatru(t-3)</th>\n",
       "      <th>Wilg(t-3)</th>\n",
       "      <th>Zachm(t-3)</th>\n",
       "      <th>Energia(t-2)</th>\n",
       "      <th>Temp_zewn(t-2)</th>\n",
       "      <th>V_wiatru(t-2)</th>\n",
       "      <th>Wilg(t-2)</th>\n",
       "      <th>Zachm(t-2)</th>\n",
       "      <th>...</th>\n",
       "      <th>Wilg(t-1)</th>\n",
       "      <th>Zachm(t-1)</th>\n",
       "      <th>Energia(t)</th>\n",
       "      <th>Temp_zewn(t)</th>\n",
       "      <th>V_wiatru(t)</th>\n",
       "      <th>Wilg(t)</th>\n",
       "      <th>Zachm(t)</th>\n",
       "      <th>Dlug_dnia</th>\n",
       "      <th>Typ_dnia</th>\n",
       "      <th>Pora_roku</th>\n",
       "    </tr>\n",
       "    <tr>\n",
       "      <th>Data czas</th>\n",
       "      <th></th>\n",
       "      <th></th>\n",
       "      <th></th>\n",
       "      <th></th>\n",
       "      <th></th>\n",
       "      <th></th>\n",
       "      <th></th>\n",
       "      <th></th>\n",
       "      <th></th>\n",
       "      <th></th>\n",
       "      <th></th>\n",
       "      <th></th>\n",
       "      <th></th>\n",
       "      <th></th>\n",
       "      <th></th>\n",
       "      <th></th>\n",
       "      <th></th>\n",
       "      <th></th>\n",
       "      <th></th>\n",
       "      <th></th>\n",
       "      <th></th>\n",
       "    </tr>\n",
       "  </thead>\n",
       "  <tbody>\n",
       "    <tr>\n",
       "      <th>2016-01-04</th>\n",
       "      <td>93506.054</td>\n",
       "      <td>-3.691304</td>\n",
       "      <td>3.260870</td>\n",
       "      <td>78.565217</td>\n",
       "      <td>7.304348</td>\n",
       "      <td>112776.240</td>\n",
       "      <td>-9.341667</td>\n",
       "      <td>4.416667</td>\n",
       "      <td>70.083333</td>\n",
       "      <td>1.416667</td>\n",
       "      <td>...</td>\n",
       "      <td>68.458333</td>\n",
       "      <td>0.041667</td>\n",
       "      <td>125575.794</td>\n",
       "      <td>-9.908333</td>\n",
       "      <td>3.750000</td>\n",
       "      <td>55.125000</td>\n",
       "      <td>0.000000</td>\n",
       "      <td>7.517</td>\n",
       "      <td>1.0</td>\n",
       "      <td>4.0</td>\n",
       "    </tr>\n",
       "    <tr>\n",
       "      <th>2016-01-05</th>\n",
       "      <td>112776.240</td>\n",
       "      <td>-9.341667</td>\n",
       "      <td>4.416667</td>\n",
       "      <td>70.083333</td>\n",
       "      <td>1.416667</td>\n",
       "      <td>122962.116</td>\n",
       "      <td>-11.200000</td>\n",
       "      <td>3.708333</td>\n",
       "      <td>68.458333</td>\n",
       "      <td>0.041667</td>\n",
       "      <td>...</td>\n",
       "      <td>55.125000</td>\n",
       "      <td>0.000000</td>\n",
       "      <td>131745.917</td>\n",
       "      <td>-10.616667</td>\n",
       "      <td>1.916667</td>\n",
       "      <td>61.916667</td>\n",
       "      <td>1.333333</td>\n",
       "      <td>7.550</td>\n",
       "      <td>1.0</td>\n",
       "      <td>4.0</td>\n",
       "    </tr>\n",
       "    <tr>\n",
       "      <th>2016-01-06</th>\n",
       "      <td>122962.116</td>\n",
       "      <td>-11.200000</td>\n",
       "      <td>3.708333</td>\n",
       "      <td>68.458333</td>\n",
       "      <td>0.041667</td>\n",
       "      <td>125575.794</td>\n",
       "      <td>-9.908333</td>\n",
       "      <td>3.750000</td>\n",
       "      <td>55.125000</td>\n",
       "      <td>0.000000</td>\n",
       "      <td>...</td>\n",
       "      <td>61.916667</td>\n",
       "      <td>1.333333</td>\n",
       "      <td>135885.442</td>\n",
       "      <td>-11.320833</td>\n",
       "      <td>1.583333</td>\n",
       "      <td>77.583333</td>\n",
       "      <td>0.125000</td>\n",
       "      <td>7.583</td>\n",
       "      <td>5.0</td>\n",
       "      <td>4.0</td>\n",
       "    </tr>\n",
       "    <tr>\n",
       "      <th>2016-01-07</th>\n",
       "      <td>125575.794</td>\n",
       "      <td>-9.908333</td>\n",
       "      <td>3.750000</td>\n",
       "      <td>55.125000</td>\n",
       "      <td>0.000000</td>\n",
       "      <td>131745.917</td>\n",
       "      <td>-10.616667</td>\n",
       "      <td>1.916667</td>\n",
       "      <td>61.916667</td>\n",
       "      <td>1.333333</td>\n",
       "      <td>...</td>\n",
       "      <td>77.583333</td>\n",
       "      <td>0.125000</td>\n",
       "      <td>129980.459</td>\n",
       "      <td>-7.220833</td>\n",
       "      <td>2.791667</td>\n",
       "      <td>69.541667</td>\n",
       "      <td>5.916667</td>\n",
       "      <td>7.600</td>\n",
       "      <td>1.0</td>\n",
       "      <td>4.0</td>\n",
       "    </tr>\n",
       "    <tr>\n",
       "      <th>2016-01-08</th>\n",
       "      <td>131745.917</td>\n",
       "      <td>-10.616667</td>\n",
       "      <td>1.916667</td>\n",
       "      <td>61.916667</td>\n",
       "      <td>1.333333</td>\n",
       "      <td>135885.442</td>\n",
       "      <td>-11.320833</td>\n",
       "      <td>1.583333</td>\n",
       "      <td>77.583333</td>\n",
       "      <td>0.125000</td>\n",
       "      <td>...</td>\n",
       "      <td>69.541667</td>\n",
       "      <td>5.916667</td>\n",
       "      <td>113582.531</td>\n",
       "      <td>-1.837500</td>\n",
       "      <td>3.916667</td>\n",
       "      <td>90.416667</td>\n",
       "      <td>7.958333</td>\n",
       "      <td>7.650</td>\n",
       "      <td>2.0</td>\n",
       "      <td>4.0</td>\n",
       "    </tr>\n",
       "  </tbody>\n",
       "</table>\n",
       "<p>5 rows × 23 columns</p>\n",
       "</div>"
      ],
      "text/plain": [
       "            Energia(t-3)  Temp_zewn(t-3)  V_wiatru(t-3)  Wilg(t-3)  \\\n",
       "Data czas                                                            \n",
       "2016-01-04     93506.054       -3.691304       3.260870  78.565217   \n",
       "2016-01-05    112776.240       -9.341667       4.416667  70.083333   \n",
       "2016-01-06    122962.116      -11.200000       3.708333  68.458333   \n",
       "2016-01-07    125575.794       -9.908333       3.750000  55.125000   \n",
       "2016-01-08    131745.917      -10.616667       1.916667  61.916667   \n",
       "\n",
       "            Zachm(t-3)  Energia(t-2)  Temp_zewn(t-2)  V_wiatru(t-2)  \\\n",
       "Data czas                                                             \n",
       "2016-01-04    7.304348    112776.240       -9.341667       4.416667   \n",
       "2016-01-05    1.416667    122962.116      -11.200000       3.708333   \n",
       "2016-01-06    0.041667    125575.794       -9.908333       3.750000   \n",
       "2016-01-07    0.000000    131745.917      -10.616667       1.916667   \n",
       "2016-01-08    1.333333    135885.442      -11.320833       1.583333   \n",
       "\n",
       "            Wilg(t-2)  Zachm(t-2)    ...      Wilg(t-1)  Zachm(t-1)  \\\n",
       "Data czas                            ...                              \n",
       "2016-01-04  70.083333    1.416667    ...      68.458333    0.041667   \n",
       "2016-01-05  68.458333    0.041667    ...      55.125000    0.000000   \n",
       "2016-01-06  55.125000    0.000000    ...      61.916667    1.333333   \n",
       "2016-01-07  61.916667    1.333333    ...      77.583333    0.125000   \n",
       "2016-01-08  77.583333    0.125000    ...      69.541667    5.916667   \n",
       "\n",
       "            Energia(t)  Temp_zewn(t)  V_wiatru(t)    Wilg(t)  Zachm(t)  \\\n",
       "Data czas                                                                \n",
       "2016-01-04  125575.794     -9.908333     3.750000  55.125000  0.000000   \n",
       "2016-01-05  131745.917    -10.616667     1.916667  61.916667  1.333333   \n",
       "2016-01-06  135885.442    -11.320833     1.583333  77.583333  0.125000   \n",
       "2016-01-07  129980.459     -7.220833     2.791667  69.541667  5.916667   \n",
       "2016-01-08  113582.531     -1.837500     3.916667  90.416667  7.958333   \n",
       "\n",
       "            Dlug_dnia  Typ_dnia  Pora_roku  \n",
       "Data czas                                   \n",
       "2016-01-04      7.517       1.0        4.0  \n",
       "2016-01-05      7.550       1.0        4.0  \n",
       "2016-01-06      7.583       5.0        4.0  \n",
       "2016-01-07      7.600       1.0        4.0  \n",
       "2016-01-08      7.650       2.0        4.0  \n",
       "\n",
       "[5 rows x 23 columns]"
      ]
     },
     "execution_count": 1,
     "metadata": {},
     "output_type": "execute_result"
    }
   ],
   "source": [
    "import pandas as pd\n",
    "df = pd.read_csv('3dni_pogoda.csv')\n",
    "df.index = df['Data czas']\n",
    "df.drop(columns='Data czas', inplace = True)\n",
    "df.head()"
   ]
  },
  {
   "cell_type": "code",
   "execution_count": 2,
   "metadata": {},
   "outputs": [],
   "source": [
    "X = df.drop('Energia(t)', axis=1)\n",
    "y = df['Energia(t)']"
   ]
  },
  {
   "cell_type": "code",
   "execution_count": 3,
   "metadata": {},
   "outputs": [],
   "source": [
    "X_train, X_test, y_train, y_test = X[:'2017-10-01'], X['2017-10-01':] ,y[:'2017-10-01'] ,y['2017-10-01':]"
   ]
  },
  {
   "cell_type": "raw",
   "metadata": {},
   "source": [
    "Values have been scaled in order to make learning of the model more efficient"
   ]
  },
  {
   "cell_type": "code",
   "execution_count": 4,
   "metadata": {},
   "outputs": [
    {
     "data": {
      "text/plain": [
       "StandardScaler(copy=True, with_mean=True, with_std=True)"
      ]
     },
     "execution_count": 4,
     "metadata": {},
     "output_type": "execute_result"
    }
   ],
   "source": [
    "from sklearn.preprocessing import StandardScaler\n",
    "scaler = StandardScaler()\n",
    "\n",
    "scaler.fit(X_train)\n",
    "scaler.fit(X_test)"
   ]
  },
  {
   "cell_type": "code",
   "execution_count": 5,
   "metadata": {},
   "outputs": [],
   "source": [
    "X_train = scaler.transform(X_train)\n",
    "X_test = scaler.transform(X_test)"
   ]
  },
  {
   "cell_type": "raw",
   "metadata": {},
   "source": [
    "Parameters of the model have been chosen using greed search. L2 regularization have been used to prevent overfitting"
   ]
  },
  {
   "cell_type": "code",
   "execution_count": 17,
   "metadata": {},
   "outputs": [
    {
     "name": "stderr",
     "output_type": "stream",
     "text": [
      "/home/stas/anaconda3/lib/python3.7/site-packages/sklearn/neural_network/multilayer_perceptron.py:562: ConvergenceWarning: Stochastic Optimizer: Maximum iterations (500) reached and the optimization hasn't converged yet.\n",
      "  % self.max_iter, ConvergenceWarning)\n"
     ]
    },
    {
     "name": "stdout",
     "output_type": "stream",
     "text": [
      "Alpha momentum 0.1, learning rate 0.0005 R2 score: 0.6189995008027414\n",
      "Alpha momentum 0.1, learning rate 0.0005 mean squered error: 969010879.8960878\n",
      "Alpha momentum 0.1, learning rate 0.0005 root mean squered error: 31128.93958836516\n"
     ]
    },
    {
     "name": "stderr",
     "output_type": "stream",
     "text": [
      "/home/stas/anaconda3/lib/python3.7/site-packages/sklearn/neural_network/multilayer_perceptron.py:562: ConvergenceWarning: Stochastic Optimizer: Maximum iterations (500) reached and the optimization hasn't converged yet.\n",
      "  % self.max_iter, ConvergenceWarning)\n"
     ]
    },
    {
     "name": "stdout",
     "output_type": "stream",
     "text": [
      "Alpha momentum 0.2, learning rate 0.0005 R2 score: 0.6189995008027414\n",
      "Alpha momentum 0.2, learning rate 0.0005 mean squered error: 969010879.8960878\n",
      "Alpha momentum 0.2, learning rate 0.0005 root mean squered error: 31128.93958836516\n"
     ]
    },
    {
     "name": "stderr",
     "output_type": "stream",
     "text": [
      "/home/stas/anaconda3/lib/python3.7/site-packages/sklearn/neural_network/multilayer_perceptron.py:562: ConvergenceWarning: Stochastic Optimizer: Maximum iterations (500) reached and the optimization hasn't converged yet.\n",
      "  % self.max_iter, ConvergenceWarning)\n"
     ]
    },
    {
     "name": "stdout",
     "output_type": "stream",
     "text": [
      "Alpha momentum 0.3, learning rate 0.0005 R2 score: 0.6189995008027414\n",
      "Alpha momentum 0.3, learning rate 0.0005 mean squered error: 969010879.8960878\n",
      "Alpha momentum 0.3, learning rate 0.0005 root mean squered error: 31128.93958836516\n"
     ]
    },
    {
     "name": "stderr",
     "output_type": "stream",
     "text": [
      "/home/stas/anaconda3/lib/python3.7/site-packages/sklearn/neural_network/multilayer_perceptron.py:562: ConvergenceWarning: Stochastic Optimizer: Maximum iterations (500) reached and the optimization hasn't converged yet.\n",
      "  % self.max_iter, ConvergenceWarning)\n"
     ]
    },
    {
     "name": "stdout",
     "output_type": "stream",
     "text": [
      "Alpha momentum 0.4, learning rate 0.0005 R2 score: 0.6189995008027414\n",
      "Alpha momentum 0.4, learning rate 0.0005 mean squered error: 969010879.8960878\n",
      "Alpha momentum 0.4, learning rate 0.0005 root mean squered error: 31128.93958836516\n"
     ]
    },
    {
     "name": "stderr",
     "output_type": "stream",
     "text": [
      "/home/stas/anaconda3/lib/python3.7/site-packages/sklearn/neural_network/multilayer_perceptron.py:562: ConvergenceWarning: Stochastic Optimizer: Maximum iterations (500) reached and the optimization hasn't converged yet.\n",
      "  % self.max_iter, ConvergenceWarning)\n"
     ]
    },
    {
     "name": "stdout",
     "output_type": "stream",
     "text": [
      "Alpha momentum 0.5, learning rate 0.0005 R2 score: 0.6189995008027414\n",
      "Alpha momentum 0.5, learning rate 0.0005 mean squered error: 969010879.8960878\n",
      "Alpha momentum 0.5, learning rate 0.0005 root mean squered error: 31128.93958836516\n"
     ]
    },
    {
     "name": "stderr",
     "output_type": "stream",
     "text": [
      "/home/stas/anaconda3/lib/python3.7/site-packages/sklearn/neural_network/multilayer_perceptron.py:562: ConvergenceWarning: Stochastic Optimizer: Maximum iterations (500) reached and the optimization hasn't converged yet.\n",
      "  % self.max_iter, ConvergenceWarning)\n"
     ]
    },
    {
     "name": "stdout",
     "output_type": "stream",
     "text": [
      "Alpha momentum 0.6, learning rate 0.0005 R2 score: 0.6189995008027414\n",
      "Alpha momentum 0.6, learning rate 0.0005 mean squered error: 969010879.8960878\n",
      "Alpha momentum 0.6, learning rate 0.0005 root mean squered error: 31128.93958836516\n"
     ]
    },
    {
     "name": "stderr",
     "output_type": "stream",
     "text": [
      "/home/stas/anaconda3/lib/python3.7/site-packages/sklearn/neural_network/multilayer_perceptron.py:562: ConvergenceWarning: Stochastic Optimizer: Maximum iterations (500) reached and the optimization hasn't converged yet.\n",
      "  % self.max_iter, ConvergenceWarning)\n"
     ]
    },
    {
     "name": "stdout",
     "output_type": "stream",
     "text": [
      "Alpha momentum 0.7, learning rate 0.0005 R2 score: 0.6189995008027414\n",
      "Alpha momentum 0.7, learning rate 0.0005 mean squered error: 969010879.8960878\n",
      "Alpha momentum 0.7, learning rate 0.0005 root mean squered error: 31128.93958836516\n"
     ]
    },
    {
     "name": "stderr",
     "output_type": "stream",
     "text": [
      "/home/stas/anaconda3/lib/python3.7/site-packages/sklearn/neural_network/multilayer_perceptron.py:562: ConvergenceWarning: Stochastic Optimizer: Maximum iterations (500) reached and the optimization hasn't converged yet.\n",
      "  % self.max_iter, ConvergenceWarning)\n"
     ]
    },
    {
     "name": "stdout",
     "output_type": "stream",
     "text": [
      "Alpha momentum 0.8, learning rate 0.0005 R2 score: 0.6189995008027414\n",
      "Alpha momentum 0.8, learning rate 0.0005 mean squered error: 969010879.8960878\n",
      "Alpha momentum 0.8, learning rate 0.0005 root mean squered error: 31128.93958836516\n"
     ]
    },
    {
     "name": "stderr",
     "output_type": "stream",
     "text": [
      "/home/stas/anaconda3/lib/python3.7/site-packages/sklearn/neural_network/multilayer_perceptron.py:562: ConvergenceWarning: Stochastic Optimizer: Maximum iterations (500) reached and the optimization hasn't converged yet.\n",
      "  % self.max_iter, ConvergenceWarning)\n"
     ]
    },
    {
     "name": "stdout",
     "output_type": "stream",
     "text": [
      "Alpha momentum 0.9, learning rate 0.0005 R2 score: 0.6189995008027414\n",
      "Alpha momentum 0.9, learning rate 0.0005 mean squered error: 969010879.8960878\n",
      "Alpha momentum 0.9, learning rate 0.0005 root mean squered error: 31128.93958836516\n"
     ]
    },
    {
     "name": "stderr",
     "output_type": "stream",
     "text": [
      "/home/stas/anaconda3/lib/python3.7/site-packages/sklearn/neural_network/multilayer_perceptron.py:562: ConvergenceWarning: Stochastic Optimizer: Maximum iterations (500) reached and the optimization hasn't converged yet.\n",
      "  % self.max_iter, ConvergenceWarning)\n"
     ]
    },
    {
     "name": "stdout",
     "output_type": "stream",
     "text": [
      "Alpha momentum 0.1, learning rate 0.0006 R2 score: 0.6047222186696015\n",
      "Alpha momentum 0.1, learning rate 0.0006 mean squered error: 822540990.2531593\n",
      "Alpha momentum 0.1, learning rate 0.0006 root mean squered error: 28679.975422813026\n"
     ]
    },
    {
     "name": "stderr",
     "output_type": "stream",
     "text": [
      "/home/stas/anaconda3/lib/python3.7/site-packages/sklearn/neural_network/multilayer_perceptron.py:562: ConvergenceWarning: Stochastic Optimizer: Maximum iterations (500) reached and the optimization hasn't converged yet.\n",
      "  % self.max_iter, ConvergenceWarning)\n"
     ]
    },
    {
     "name": "stdout",
     "output_type": "stream",
     "text": [
      "Alpha momentum 0.2, learning rate 0.0006 R2 score: 0.6047222186696015\n",
      "Alpha momentum 0.2, learning rate 0.0006 mean squered error: 822540990.2531593\n",
      "Alpha momentum 0.2, learning rate 0.0006 root mean squered error: 28679.975422813026\n"
     ]
    },
    {
     "name": "stderr",
     "output_type": "stream",
     "text": [
      "/home/stas/anaconda3/lib/python3.7/site-packages/sklearn/neural_network/multilayer_perceptron.py:562: ConvergenceWarning: Stochastic Optimizer: Maximum iterations (500) reached and the optimization hasn't converged yet.\n",
      "  % self.max_iter, ConvergenceWarning)\n"
     ]
    },
    {
     "name": "stdout",
     "output_type": "stream",
     "text": [
      "Alpha momentum 0.3, learning rate 0.0006 R2 score: 0.6047222186696015\n",
      "Alpha momentum 0.3, learning rate 0.0006 mean squered error: 822540990.2531593\n",
      "Alpha momentum 0.3, learning rate 0.0006 root mean squered error: 28679.975422813026\n"
     ]
    },
    {
     "name": "stderr",
     "output_type": "stream",
     "text": [
      "/home/stas/anaconda3/lib/python3.7/site-packages/sklearn/neural_network/multilayer_perceptron.py:562: ConvergenceWarning: Stochastic Optimizer: Maximum iterations (500) reached and the optimization hasn't converged yet.\n",
      "  % self.max_iter, ConvergenceWarning)\n"
     ]
    },
    {
     "name": "stdout",
     "output_type": "stream",
     "text": [
      "Alpha momentum 0.4, learning rate 0.0006 R2 score: 0.6047222186696015\n",
      "Alpha momentum 0.4, learning rate 0.0006 mean squered error: 822540990.2531593\n",
      "Alpha momentum 0.4, learning rate 0.0006 root mean squered error: 28679.975422813026\n"
     ]
    },
    {
     "name": "stderr",
     "output_type": "stream",
     "text": [
      "/home/stas/anaconda3/lib/python3.7/site-packages/sklearn/neural_network/multilayer_perceptron.py:562: ConvergenceWarning: Stochastic Optimizer: Maximum iterations (500) reached and the optimization hasn't converged yet.\n",
      "  % self.max_iter, ConvergenceWarning)\n"
     ]
    },
    {
     "name": "stdout",
     "output_type": "stream",
     "text": [
      "Alpha momentum 0.5, learning rate 0.0006 R2 score: 0.6047222186696015\n",
      "Alpha momentum 0.5, learning rate 0.0006 mean squered error: 822540990.2531593\n",
      "Alpha momentum 0.5, learning rate 0.0006 root mean squered error: 28679.975422813026\n"
     ]
    },
    {
     "name": "stderr",
     "output_type": "stream",
     "text": [
      "/home/stas/anaconda3/lib/python3.7/site-packages/sklearn/neural_network/multilayer_perceptron.py:562: ConvergenceWarning: Stochastic Optimizer: Maximum iterations (500) reached and the optimization hasn't converged yet.\n",
      "  % self.max_iter, ConvergenceWarning)\n"
     ]
    },
    {
     "name": "stdout",
     "output_type": "stream",
     "text": [
      "Alpha momentum 0.6, learning rate 0.0006 R2 score: 0.6047222186696015\n",
      "Alpha momentum 0.6, learning rate 0.0006 mean squered error: 822540990.2531593\n",
      "Alpha momentum 0.6, learning rate 0.0006 root mean squered error: 28679.975422813026\n"
     ]
    },
    {
     "name": "stderr",
     "output_type": "stream",
     "text": [
      "/home/stas/anaconda3/lib/python3.7/site-packages/sklearn/neural_network/multilayer_perceptron.py:562: ConvergenceWarning: Stochastic Optimizer: Maximum iterations (500) reached and the optimization hasn't converged yet.\n",
      "  % self.max_iter, ConvergenceWarning)\n"
     ]
    },
    {
     "name": "stdout",
     "output_type": "stream",
     "text": [
      "Alpha momentum 0.7, learning rate 0.0006 R2 score: 0.6047222186696015\n",
      "Alpha momentum 0.7, learning rate 0.0006 mean squered error: 822540990.2531593\n",
      "Alpha momentum 0.7, learning rate 0.0006 root mean squered error: 28679.975422813026\n"
     ]
    },
    {
     "name": "stderr",
     "output_type": "stream",
     "text": [
      "/home/stas/anaconda3/lib/python3.7/site-packages/sklearn/neural_network/multilayer_perceptron.py:562: ConvergenceWarning: Stochastic Optimizer: Maximum iterations (500) reached and the optimization hasn't converged yet.\n",
      "  % self.max_iter, ConvergenceWarning)\n"
     ]
    },
    {
     "name": "stdout",
     "output_type": "stream",
     "text": [
      "Alpha momentum 0.8, learning rate 0.0006 R2 score: 0.6047222186696015\n",
      "Alpha momentum 0.8, learning rate 0.0006 mean squered error: 822540990.2531593\n",
      "Alpha momentum 0.8, learning rate 0.0006 root mean squered error: 28679.975422813026\n"
     ]
    },
    {
     "name": "stderr",
     "output_type": "stream",
     "text": [
      "/home/stas/anaconda3/lib/python3.7/site-packages/sklearn/neural_network/multilayer_perceptron.py:562: ConvergenceWarning: Stochastic Optimizer: Maximum iterations (500) reached and the optimization hasn't converged yet.\n",
      "  % self.max_iter, ConvergenceWarning)\n"
     ]
    },
    {
     "name": "stdout",
     "output_type": "stream",
     "text": [
      "Alpha momentum 0.9, learning rate 0.0006 R2 score: 0.6047222186696015\n",
      "Alpha momentum 0.9, learning rate 0.0006 mean squered error: 822540990.2531593\n",
      "Alpha momentum 0.9, learning rate 0.0006 root mean squered error: 28679.975422813026\n"
     ]
    },
    {
     "name": "stderr",
     "output_type": "stream",
     "text": [
      "/home/stas/anaconda3/lib/python3.7/site-packages/sklearn/neural_network/multilayer_perceptron.py:562: ConvergenceWarning: Stochastic Optimizer: Maximum iterations (500) reached and the optimization hasn't converged yet.\n",
      "  % self.max_iter, ConvergenceWarning)\n"
     ]
    },
    {
     "name": "stdout",
     "output_type": "stream",
     "text": [
      "Alpha momentum 0.1, learning rate 0.0007 R2 score: 0.6026663758946051\n",
      "Alpha momentum 0.1, learning rate 0.0007 mean squered error: 682868065.9587711\n",
      "Alpha momentum 0.1, learning rate 0.0007 root mean squered error: 26131.744410941476\n"
     ]
    },
    {
     "name": "stderr",
     "output_type": "stream",
     "text": [
      "/home/stas/anaconda3/lib/python3.7/site-packages/sklearn/neural_network/multilayer_perceptron.py:562: ConvergenceWarning: Stochastic Optimizer: Maximum iterations (500) reached and the optimization hasn't converged yet.\n",
      "  % self.max_iter, ConvergenceWarning)\n"
     ]
    },
    {
     "name": "stdout",
     "output_type": "stream",
     "text": [
      "Alpha momentum 0.2, learning rate 0.0007 R2 score: 0.6026663758946051\n",
      "Alpha momentum 0.2, learning rate 0.0007 mean squered error: 682868065.9587711\n",
      "Alpha momentum 0.2, learning rate 0.0007 root mean squered error: 26131.744410941476\n"
     ]
    },
    {
     "name": "stderr",
     "output_type": "stream",
     "text": [
      "/home/stas/anaconda3/lib/python3.7/site-packages/sklearn/neural_network/multilayer_perceptron.py:562: ConvergenceWarning: Stochastic Optimizer: Maximum iterations (500) reached and the optimization hasn't converged yet.\n",
      "  % self.max_iter, ConvergenceWarning)\n"
     ]
    },
    {
     "name": "stdout",
     "output_type": "stream",
     "text": [
      "Alpha momentum 0.3, learning rate 0.0007 R2 score: 0.6026663758946051\n",
      "Alpha momentum 0.3, learning rate 0.0007 mean squered error: 682868065.9587711\n",
      "Alpha momentum 0.3, learning rate 0.0007 root mean squered error: 26131.744410941476\n"
     ]
    },
    {
     "name": "stderr",
     "output_type": "stream",
     "text": [
      "/home/stas/anaconda3/lib/python3.7/site-packages/sklearn/neural_network/multilayer_perceptron.py:562: ConvergenceWarning: Stochastic Optimizer: Maximum iterations (500) reached and the optimization hasn't converged yet.\n",
      "  % self.max_iter, ConvergenceWarning)\n"
     ]
    },
    {
     "name": "stdout",
     "output_type": "stream",
     "text": [
      "Alpha momentum 0.4, learning rate 0.0007 R2 score: 0.6026663758946051\n",
      "Alpha momentum 0.4, learning rate 0.0007 mean squered error: 682868065.9587711\n",
      "Alpha momentum 0.4, learning rate 0.0007 root mean squered error: 26131.744410941476\n"
     ]
    },
    {
     "name": "stderr",
     "output_type": "stream",
     "text": [
      "/home/stas/anaconda3/lib/python3.7/site-packages/sklearn/neural_network/multilayer_perceptron.py:562: ConvergenceWarning: Stochastic Optimizer: Maximum iterations (500) reached and the optimization hasn't converged yet.\n",
      "  % self.max_iter, ConvergenceWarning)\n"
     ]
    },
    {
     "name": "stdout",
     "output_type": "stream",
     "text": [
      "Alpha momentum 0.5, learning rate 0.0007 R2 score: 0.6026663758946051\n",
      "Alpha momentum 0.5, learning rate 0.0007 mean squered error: 682868065.9587711\n",
      "Alpha momentum 0.5, learning rate 0.0007 root mean squered error: 26131.744410941476\n"
     ]
    },
    {
     "name": "stderr",
     "output_type": "stream",
     "text": [
      "/home/stas/anaconda3/lib/python3.7/site-packages/sklearn/neural_network/multilayer_perceptron.py:562: ConvergenceWarning: Stochastic Optimizer: Maximum iterations (500) reached and the optimization hasn't converged yet.\n",
      "  % self.max_iter, ConvergenceWarning)\n"
     ]
    },
    {
     "name": "stdout",
     "output_type": "stream",
     "text": [
      "Alpha momentum 0.6, learning rate 0.0007 R2 score: 0.6026663758946051\n",
      "Alpha momentum 0.6, learning rate 0.0007 mean squered error: 682868065.9587711\n",
      "Alpha momentum 0.6, learning rate 0.0007 root mean squered error: 26131.744410941476\n"
     ]
    },
    {
     "name": "stderr",
     "output_type": "stream",
     "text": [
      "/home/stas/anaconda3/lib/python3.7/site-packages/sklearn/neural_network/multilayer_perceptron.py:562: ConvergenceWarning: Stochastic Optimizer: Maximum iterations (500) reached and the optimization hasn't converged yet.\n",
      "  % self.max_iter, ConvergenceWarning)\n"
     ]
    },
    {
     "name": "stdout",
     "output_type": "stream",
     "text": [
      "Alpha momentum 0.7, learning rate 0.0007 R2 score: 0.6026663758946051\n",
      "Alpha momentum 0.7, learning rate 0.0007 mean squered error: 682868065.9587711\n",
      "Alpha momentum 0.7, learning rate 0.0007 root mean squered error: 26131.744410941476\n"
     ]
    },
    {
     "name": "stderr",
     "output_type": "stream",
     "text": [
      "/home/stas/anaconda3/lib/python3.7/site-packages/sklearn/neural_network/multilayer_perceptron.py:562: ConvergenceWarning: Stochastic Optimizer: Maximum iterations (500) reached and the optimization hasn't converged yet.\n",
      "  % self.max_iter, ConvergenceWarning)\n"
     ]
    },
    {
     "name": "stdout",
     "output_type": "stream",
     "text": [
      "Alpha momentum 0.8, learning rate 0.0007 R2 score: 0.6026663758946051\n",
      "Alpha momentum 0.8, learning rate 0.0007 mean squered error: 682868065.9587711\n",
      "Alpha momentum 0.8, learning rate 0.0007 root mean squered error: 26131.744410941476\n"
     ]
    },
    {
     "name": "stderr",
     "output_type": "stream",
     "text": [
      "/home/stas/anaconda3/lib/python3.7/site-packages/sklearn/neural_network/multilayer_perceptron.py:562: ConvergenceWarning: Stochastic Optimizer: Maximum iterations (500) reached and the optimization hasn't converged yet.\n",
      "  % self.max_iter, ConvergenceWarning)\n"
     ]
    },
    {
     "name": "stdout",
     "output_type": "stream",
     "text": [
      "Alpha momentum 0.9, learning rate 0.0007 R2 score: 0.6026663758946051\n",
      "Alpha momentum 0.9, learning rate 0.0007 mean squered error: 682868065.9587711\n",
      "Alpha momentum 0.9, learning rate 0.0007 root mean squered error: 26131.744410941476\n"
     ]
    },
    {
     "name": "stderr",
     "output_type": "stream",
     "text": [
      "/home/stas/anaconda3/lib/python3.7/site-packages/sklearn/neural_network/multilayer_perceptron.py:562: ConvergenceWarning: Stochastic Optimizer: Maximum iterations (500) reached and the optimization hasn't converged yet.\n",
      "  % self.max_iter, ConvergenceWarning)\n"
     ]
    },
    {
     "name": "stdout",
     "output_type": "stream",
     "text": [
      "Alpha momentum 0.1, learning rate 0.0008 R2 score: 0.6226446536094672\n",
      "Alpha momentum 0.1, learning rate 0.0008 mean squered error: 545276019.977294\n",
      "Alpha momentum 0.1, learning rate 0.0008 root mean squered error: 23351.1460099348\n"
     ]
    },
    {
     "name": "stderr",
     "output_type": "stream",
     "text": [
      "/home/stas/anaconda3/lib/python3.7/site-packages/sklearn/neural_network/multilayer_perceptron.py:562: ConvergenceWarning: Stochastic Optimizer: Maximum iterations (500) reached and the optimization hasn't converged yet.\n",
      "  % self.max_iter, ConvergenceWarning)\n"
     ]
    },
    {
     "name": "stdout",
     "output_type": "stream",
     "text": [
      "Alpha momentum 0.2, learning rate 0.0008 R2 score: 0.6226446536094672\n",
      "Alpha momentum 0.2, learning rate 0.0008 mean squered error: 545276019.977294\n",
      "Alpha momentum 0.2, learning rate 0.0008 root mean squered error: 23351.1460099348\n"
     ]
    },
    {
     "name": "stderr",
     "output_type": "stream",
     "text": [
      "/home/stas/anaconda3/lib/python3.7/site-packages/sklearn/neural_network/multilayer_perceptron.py:562: ConvergenceWarning: Stochastic Optimizer: Maximum iterations (500) reached and the optimization hasn't converged yet.\n",
      "  % self.max_iter, ConvergenceWarning)\n"
     ]
    },
    {
     "name": "stdout",
     "output_type": "stream",
     "text": [
      "Alpha momentum 0.3, learning rate 0.0008 R2 score: 0.6226446536094672\n",
      "Alpha momentum 0.3, learning rate 0.0008 mean squered error: 545276019.977294\n",
      "Alpha momentum 0.3, learning rate 0.0008 root mean squered error: 23351.1460099348\n"
     ]
    },
    {
     "name": "stderr",
     "output_type": "stream",
     "text": [
      "/home/stas/anaconda3/lib/python3.7/site-packages/sklearn/neural_network/multilayer_perceptron.py:562: ConvergenceWarning: Stochastic Optimizer: Maximum iterations (500) reached and the optimization hasn't converged yet.\n",
      "  % self.max_iter, ConvergenceWarning)\n"
     ]
    },
    {
     "name": "stdout",
     "output_type": "stream",
     "text": [
      "Alpha momentum 0.4, learning rate 0.0008 R2 score: 0.6226446536094672\n",
      "Alpha momentum 0.4, learning rate 0.0008 mean squered error: 545276019.977294\n",
      "Alpha momentum 0.4, learning rate 0.0008 root mean squered error: 23351.1460099348\n"
     ]
    },
    {
     "name": "stderr",
     "output_type": "stream",
     "text": [
      "/home/stas/anaconda3/lib/python3.7/site-packages/sklearn/neural_network/multilayer_perceptron.py:562: ConvergenceWarning: Stochastic Optimizer: Maximum iterations (500) reached and the optimization hasn't converged yet.\n",
      "  % self.max_iter, ConvergenceWarning)\n"
     ]
    },
    {
     "name": "stdout",
     "output_type": "stream",
     "text": [
      "Alpha momentum 0.5, learning rate 0.0008 R2 score: 0.6226446536094672\n",
      "Alpha momentum 0.5, learning rate 0.0008 mean squered error: 545276019.977294\n",
      "Alpha momentum 0.5, learning rate 0.0008 root mean squered error: 23351.1460099348\n"
     ]
    },
    {
     "name": "stderr",
     "output_type": "stream",
     "text": [
      "/home/stas/anaconda3/lib/python3.7/site-packages/sklearn/neural_network/multilayer_perceptron.py:562: ConvergenceWarning: Stochastic Optimizer: Maximum iterations (500) reached and the optimization hasn't converged yet.\n",
      "  % self.max_iter, ConvergenceWarning)\n"
     ]
    },
    {
     "name": "stdout",
     "output_type": "stream",
     "text": [
      "Alpha momentum 0.6, learning rate 0.0008 R2 score: 0.6226446536094672\n",
      "Alpha momentum 0.6, learning rate 0.0008 mean squered error: 545276019.977294\n",
      "Alpha momentum 0.6, learning rate 0.0008 root mean squered error: 23351.1460099348\n"
     ]
    },
    {
     "name": "stderr",
     "output_type": "stream",
     "text": [
      "/home/stas/anaconda3/lib/python3.7/site-packages/sklearn/neural_network/multilayer_perceptron.py:562: ConvergenceWarning: Stochastic Optimizer: Maximum iterations (500) reached and the optimization hasn't converged yet.\n",
      "  % self.max_iter, ConvergenceWarning)\n"
     ]
    },
    {
     "name": "stdout",
     "output_type": "stream",
     "text": [
      "Alpha momentum 0.7, learning rate 0.0008 R2 score: 0.6226446536094672\n",
      "Alpha momentum 0.7, learning rate 0.0008 mean squered error: 545276019.977294\n",
      "Alpha momentum 0.7, learning rate 0.0008 root mean squered error: 23351.1460099348\n"
     ]
    },
    {
     "name": "stderr",
     "output_type": "stream",
     "text": [
      "/home/stas/anaconda3/lib/python3.7/site-packages/sklearn/neural_network/multilayer_perceptron.py:562: ConvergenceWarning: Stochastic Optimizer: Maximum iterations (500) reached and the optimization hasn't converged yet.\n",
      "  % self.max_iter, ConvergenceWarning)\n"
     ]
    },
    {
     "name": "stdout",
     "output_type": "stream",
     "text": [
      "Alpha momentum 0.8, learning rate 0.0008 R2 score: 0.6226446536094672\n",
      "Alpha momentum 0.8, learning rate 0.0008 mean squered error: 545276019.977294\n",
      "Alpha momentum 0.8, learning rate 0.0008 root mean squered error: 23351.1460099348\n"
     ]
    },
    {
     "name": "stderr",
     "output_type": "stream",
     "text": [
      "/home/stas/anaconda3/lib/python3.7/site-packages/sklearn/neural_network/multilayer_perceptron.py:562: ConvergenceWarning: Stochastic Optimizer: Maximum iterations (500) reached and the optimization hasn't converged yet.\n",
      "  % self.max_iter, ConvergenceWarning)\n"
     ]
    },
    {
     "name": "stdout",
     "output_type": "stream",
     "text": [
      "Alpha momentum 0.9, learning rate 0.0008 R2 score: 0.6226446536094672\n",
      "Alpha momentum 0.9, learning rate 0.0008 mean squered error: 545276019.977294\n",
      "Alpha momentum 0.9, learning rate 0.0008 root mean squered error: 23351.1460099348\n"
     ]
    },
    {
     "name": "stderr",
     "output_type": "stream",
     "text": [
      "/home/stas/anaconda3/lib/python3.7/site-packages/sklearn/neural_network/multilayer_perceptron.py:562: ConvergenceWarning: Stochastic Optimizer: Maximum iterations (500) reached and the optimization hasn't converged yet.\n",
      "  % self.max_iter, ConvergenceWarning)\n"
     ]
    },
    {
     "name": "stdout",
     "output_type": "stream",
     "text": [
      "Alpha momentum 0.1, learning rate 0.0009 R2 score: 0.6607131822413936\n",
      "Alpha momentum 0.1, learning rate 0.0009 mean squered error: 421603856.07350385\n",
      "Alpha momentum 0.1, learning rate 0.0009 root mean squered error: 20532.994327995708\n"
     ]
    },
    {
     "name": "stderr",
     "output_type": "stream",
     "text": [
      "/home/stas/anaconda3/lib/python3.7/site-packages/sklearn/neural_network/multilayer_perceptron.py:562: ConvergenceWarning: Stochastic Optimizer: Maximum iterations (500) reached and the optimization hasn't converged yet.\n",
      "  % self.max_iter, ConvergenceWarning)\n"
     ]
    },
    {
     "name": "stdout",
     "output_type": "stream",
     "text": [
      "Alpha momentum 0.2, learning rate 0.0009 R2 score: 0.6607131822413936\n",
      "Alpha momentum 0.2, learning rate 0.0009 mean squered error: 421603856.07350385\n",
      "Alpha momentum 0.2, learning rate 0.0009 root mean squered error: 20532.994327995708\n"
     ]
    },
    {
     "name": "stderr",
     "output_type": "stream",
     "text": [
      "/home/stas/anaconda3/lib/python3.7/site-packages/sklearn/neural_network/multilayer_perceptron.py:562: ConvergenceWarning: Stochastic Optimizer: Maximum iterations (500) reached and the optimization hasn't converged yet.\n",
      "  % self.max_iter, ConvergenceWarning)\n"
     ]
    },
    {
     "name": "stdout",
     "output_type": "stream",
     "text": [
      "Alpha momentum 0.3, learning rate 0.0009 R2 score: 0.6607131822413936\n",
      "Alpha momentum 0.3, learning rate 0.0009 mean squered error: 421603856.07350385\n",
      "Alpha momentum 0.3, learning rate 0.0009 root mean squered error: 20532.994327995708\n"
     ]
    },
    {
     "name": "stderr",
     "output_type": "stream",
     "text": [
      "/home/stas/anaconda3/lib/python3.7/site-packages/sklearn/neural_network/multilayer_perceptron.py:562: ConvergenceWarning: Stochastic Optimizer: Maximum iterations (500) reached and the optimization hasn't converged yet.\n",
      "  % self.max_iter, ConvergenceWarning)\n"
     ]
    },
    {
     "name": "stdout",
     "output_type": "stream",
     "text": [
      "Alpha momentum 0.4, learning rate 0.0009 R2 score: 0.6607131822413936\n",
      "Alpha momentum 0.4, learning rate 0.0009 mean squered error: 421603856.07350385\n",
      "Alpha momentum 0.4, learning rate 0.0009 root mean squered error: 20532.994327995708\n"
     ]
    },
    {
     "name": "stderr",
     "output_type": "stream",
     "text": [
      "/home/stas/anaconda3/lib/python3.7/site-packages/sklearn/neural_network/multilayer_perceptron.py:562: ConvergenceWarning: Stochastic Optimizer: Maximum iterations (500) reached and the optimization hasn't converged yet.\n",
      "  % self.max_iter, ConvergenceWarning)\n"
     ]
    },
    {
     "name": "stdout",
     "output_type": "stream",
     "text": [
      "Alpha momentum 0.5, learning rate 0.0009 R2 score: 0.6607131822413936\n",
      "Alpha momentum 0.5, learning rate 0.0009 mean squered error: 421603856.07350385\n",
      "Alpha momentum 0.5, learning rate 0.0009 root mean squered error: 20532.994327995708\n"
     ]
    },
    {
     "name": "stderr",
     "output_type": "stream",
     "text": [
      "/home/stas/anaconda3/lib/python3.7/site-packages/sklearn/neural_network/multilayer_perceptron.py:562: ConvergenceWarning: Stochastic Optimizer: Maximum iterations (500) reached and the optimization hasn't converged yet.\n",
      "  % self.max_iter, ConvergenceWarning)\n"
     ]
    },
    {
     "name": "stdout",
     "output_type": "stream",
     "text": [
      "Alpha momentum 0.6, learning rate 0.0009 R2 score: 0.6607131822413936\n",
      "Alpha momentum 0.6, learning rate 0.0009 mean squered error: 421603856.07350385\n",
      "Alpha momentum 0.6, learning rate 0.0009 root mean squered error: 20532.994327995708\n"
     ]
    },
    {
     "name": "stderr",
     "output_type": "stream",
     "text": [
      "/home/stas/anaconda3/lib/python3.7/site-packages/sklearn/neural_network/multilayer_perceptron.py:562: ConvergenceWarning: Stochastic Optimizer: Maximum iterations (500) reached and the optimization hasn't converged yet.\n",
      "  % self.max_iter, ConvergenceWarning)\n"
     ]
    },
    {
     "name": "stdout",
     "output_type": "stream",
     "text": [
      "Alpha momentum 0.7, learning rate 0.0009 R2 score: 0.6607131822413936\n",
      "Alpha momentum 0.7, learning rate 0.0009 mean squered error: 421603856.07350385\n",
      "Alpha momentum 0.7, learning rate 0.0009 root mean squered error: 20532.994327995708\n"
     ]
    },
    {
     "name": "stderr",
     "output_type": "stream",
     "text": [
      "/home/stas/anaconda3/lib/python3.7/site-packages/sklearn/neural_network/multilayer_perceptron.py:562: ConvergenceWarning: Stochastic Optimizer: Maximum iterations (500) reached and the optimization hasn't converged yet.\n",
      "  % self.max_iter, ConvergenceWarning)\n"
     ]
    },
    {
     "name": "stdout",
     "output_type": "stream",
     "text": [
      "Alpha momentum 0.8, learning rate 0.0009 R2 score: 0.6607131822413936\n",
      "Alpha momentum 0.8, learning rate 0.0009 mean squered error: 421603856.07350385\n",
      "Alpha momentum 0.8, learning rate 0.0009 root mean squered error: 20532.994327995708\n"
     ]
    },
    {
     "name": "stderr",
     "output_type": "stream",
     "text": [
      "/home/stas/anaconda3/lib/python3.7/site-packages/sklearn/neural_network/multilayer_perceptron.py:562: ConvergenceWarning: Stochastic Optimizer: Maximum iterations (500) reached and the optimization hasn't converged yet.\n",
      "  % self.max_iter, ConvergenceWarning)\n"
     ]
    },
    {
     "name": "stdout",
     "output_type": "stream",
     "text": [
      "Alpha momentum 0.9, learning rate 0.0009 R2 score: 0.6607131822413936\n",
      "Alpha momentum 0.9, learning rate 0.0009 mean squered error: 421603856.07350385\n",
      "Alpha momentum 0.9, learning rate 0.0009 root mean squered error: 20532.994327995708\n"
     ]
    },
    {
     "name": "stderr",
     "output_type": "stream",
     "text": [
      "/home/stas/anaconda3/lib/python3.7/site-packages/sklearn/neural_network/multilayer_perceptron.py:562: ConvergenceWarning: Stochastic Optimizer: Maximum iterations (500) reached and the optimization hasn't converged yet.\n",
      "  % self.max_iter, ConvergenceWarning)\n"
     ]
    },
    {
     "name": "stdout",
     "output_type": "stream",
     "text": [
      "Alpha momentum 0.1, learning rate 0.001 R2 score: 0.6997099118278964\n",
      "Alpha momentum 0.1, learning rate 0.001 mean squered error: 323278845.3489531\n",
      "Alpha momentum 0.1, learning rate 0.001 root mean squered error: 17979.95676716029\n"
     ]
    },
    {
     "name": "stderr",
     "output_type": "stream",
     "text": [
      "/home/stas/anaconda3/lib/python3.7/site-packages/sklearn/neural_network/multilayer_perceptron.py:562: ConvergenceWarning: Stochastic Optimizer: Maximum iterations (500) reached and the optimization hasn't converged yet.\n",
      "  % self.max_iter, ConvergenceWarning)\n"
     ]
    },
    {
     "name": "stdout",
     "output_type": "stream",
     "text": [
      "Alpha momentum 0.2, learning rate 0.001 R2 score: 0.6997099118278964\n",
      "Alpha momentum 0.2, learning rate 0.001 mean squered error: 323278845.3489531\n",
      "Alpha momentum 0.2, learning rate 0.001 root mean squered error: 17979.95676716029\n"
     ]
    },
    {
     "name": "stderr",
     "output_type": "stream",
     "text": [
      "/home/stas/anaconda3/lib/python3.7/site-packages/sklearn/neural_network/multilayer_perceptron.py:562: ConvergenceWarning: Stochastic Optimizer: Maximum iterations (500) reached and the optimization hasn't converged yet.\n",
      "  % self.max_iter, ConvergenceWarning)\n"
     ]
    },
    {
     "name": "stdout",
     "output_type": "stream",
     "text": [
      "Alpha momentum 0.3, learning rate 0.001 R2 score: 0.6997099118278964\n",
      "Alpha momentum 0.3, learning rate 0.001 mean squered error: 323278845.3489531\n",
      "Alpha momentum 0.3, learning rate 0.001 root mean squered error: 17979.95676716029\n"
     ]
    },
    {
     "name": "stderr",
     "output_type": "stream",
     "text": [
      "/home/stas/anaconda3/lib/python3.7/site-packages/sklearn/neural_network/multilayer_perceptron.py:562: ConvergenceWarning: Stochastic Optimizer: Maximum iterations (500) reached and the optimization hasn't converged yet.\n",
      "  % self.max_iter, ConvergenceWarning)\n"
     ]
    },
    {
     "name": "stdout",
     "output_type": "stream",
     "text": [
      "Alpha momentum 0.4, learning rate 0.001 R2 score: 0.6997099118278964\n",
      "Alpha momentum 0.4, learning rate 0.001 mean squered error: 323278845.3489531\n",
      "Alpha momentum 0.4, learning rate 0.001 root mean squered error: 17979.95676716029\n"
     ]
    },
    {
     "name": "stderr",
     "output_type": "stream",
     "text": [
      "/home/stas/anaconda3/lib/python3.7/site-packages/sklearn/neural_network/multilayer_perceptron.py:562: ConvergenceWarning: Stochastic Optimizer: Maximum iterations (500) reached and the optimization hasn't converged yet.\n",
      "  % self.max_iter, ConvergenceWarning)\n"
     ]
    },
    {
     "name": "stdout",
     "output_type": "stream",
     "text": [
      "Alpha momentum 0.5, learning rate 0.001 R2 score: 0.6997099118278964\n",
      "Alpha momentum 0.5, learning rate 0.001 mean squered error: 323278845.3489531\n",
      "Alpha momentum 0.5, learning rate 0.001 root mean squered error: 17979.95676716029\n"
     ]
    },
    {
     "name": "stderr",
     "output_type": "stream",
     "text": [
      "/home/stas/anaconda3/lib/python3.7/site-packages/sklearn/neural_network/multilayer_perceptron.py:562: ConvergenceWarning: Stochastic Optimizer: Maximum iterations (500) reached and the optimization hasn't converged yet.\n",
      "  % self.max_iter, ConvergenceWarning)\n"
     ]
    },
    {
     "name": "stdout",
     "output_type": "stream",
     "text": [
      "Alpha momentum 0.6, learning rate 0.001 R2 score: 0.6997099118278964\n",
      "Alpha momentum 0.6, learning rate 0.001 mean squered error: 323278845.3489531\n",
      "Alpha momentum 0.6, learning rate 0.001 root mean squered error: 17979.95676716029\n"
     ]
    },
    {
     "name": "stderr",
     "output_type": "stream",
     "text": [
      "/home/stas/anaconda3/lib/python3.7/site-packages/sklearn/neural_network/multilayer_perceptron.py:562: ConvergenceWarning: Stochastic Optimizer: Maximum iterations (500) reached and the optimization hasn't converged yet.\n",
      "  % self.max_iter, ConvergenceWarning)\n"
     ]
    },
    {
     "name": "stdout",
     "output_type": "stream",
     "text": [
      "Alpha momentum 0.7, learning rate 0.001 R2 score: 0.6997099118278964\n",
      "Alpha momentum 0.7, learning rate 0.001 mean squered error: 323278845.3489531\n",
      "Alpha momentum 0.7, learning rate 0.001 root mean squered error: 17979.95676716029\n"
     ]
    },
    {
     "name": "stderr",
     "output_type": "stream",
     "text": [
      "/home/stas/anaconda3/lib/python3.7/site-packages/sklearn/neural_network/multilayer_perceptron.py:562: ConvergenceWarning: Stochastic Optimizer: Maximum iterations (500) reached and the optimization hasn't converged yet.\n",
      "  % self.max_iter, ConvergenceWarning)\n"
     ]
    },
    {
     "name": "stdout",
     "output_type": "stream",
     "text": [
      "Alpha momentum 0.8, learning rate 0.001 R2 score: 0.6997099118278964\n",
      "Alpha momentum 0.8, learning rate 0.001 mean squered error: 323278845.3489531\n",
      "Alpha momentum 0.8, learning rate 0.001 root mean squered error: 17979.95676716029\n"
     ]
    },
    {
     "name": "stderr",
     "output_type": "stream",
     "text": [
      "/home/stas/anaconda3/lib/python3.7/site-packages/sklearn/neural_network/multilayer_perceptron.py:562: ConvergenceWarning: Stochastic Optimizer: Maximum iterations (500) reached and the optimization hasn't converged yet.\n",
      "  % self.max_iter, ConvergenceWarning)\n"
     ]
    },
    {
     "name": "stdout",
     "output_type": "stream",
     "text": [
      "Alpha momentum 0.9, learning rate 0.001 R2 score: 0.6997099118278964\n",
      "Alpha momentum 0.9, learning rate 0.001 mean squered error: 323278845.3489531\n",
      "Alpha momentum 0.9, learning rate 0.001 root mean squered error: 17979.95676716029\n"
     ]
    },
    {
     "name": "stderr",
     "output_type": "stream",
     "text": [
      "/home/stas/anaconda3/lib/python3.7/site-packages/sklearn/neural_network/multilayer_perceptron.py:562: ConvergenceWarning: Stochastic Optimizer: Maximum iterations (500) reached and the optimization hasn't converged yet.\n",
      "  % self.max_iter, ConvergenceWarning)\n"
     ]
    },
    {
     "name": "stdout",
     "output_type": "stream",
     "text": [
      "Alpha momentum 0.1, learning rate 0.0011 R2 score: 0.7303823091211381\n",
      "Alpha momentum 0.1, learning rate 0.0011 mean squered error: 251345399.8961462\n",
      "Alpha momentum 0.1, learning rate 0.0011 root mean squered error: 15853.876494288272\n"
     ]
    },
    {
     "name": "stderr",
     "output_type": "stream",
     "text": [
      "/home/stas/anaconda3/lib/python3.7/site-packages/sklearn/neural_network/multilayer_perceptron.py:562: ConvergenceWarning: Stochastic Optimizer: Maximum iterations (500) reached and the optimization hasn't converged yet.\n",
      "  % self.max_iter, ConvergenceWarning)\n"
     ]
    },
    {
     "name": "stdout",
     "output_type": "stream",
     "text": [
      "Alpha momentum 0.2, learning rate 0.0011 R2 score: 0.7303823091211381\n",
      "Alpha momentum 0.2, learning rate 0.0011 mean squered error: 251345399.8961462\n",
      "Alpha momentum 0.2, learning rate 0.0011 root mean squered error: 15853.876494288272\n"
     ]
    },
    {
     "name": "stderr",
     "output_type": "stream",
     "text": [
      "/home/stas/anaconda3/lib/python3.7/site-packages/sklearn/neural_network/multilayer_perceptron.py:562: ConvergenceWarning: Stochastic Optimizer: Maximum iterations (500) reached and the optimization hasn't converged yet.\n",
      "  % self.max_iter, ConvergenceWarning)\n"
     ]
    },
    {
     "name": "stdout",
     "output_type": "stream",
     "text": [
      "Alpha momentum 0.3, learning rate 0.0011 R2 score: 0.7303823091211381\n",
      "Alpha momentum 0.3, learning rate 0.0011 mean squered error: 251345399.8961462\n",
      "Alpha momentum 0.3, learning rate 0.0011 root mean squered error: 15853.876494288272\n"
     ]
    },
    {
     "name": "stderr",
     "output_type": "stream",
     "text": [
      "/home/stas/anaconda3/lib/python3.7/site-packages/sklearn/neural_network/multilayer_perceptron.py:562: ConvergenceWarning: Stochastic Optimizer: Maximum iterations (500) reached and the optimization hasn't converged yet.\n",
      "  % self.max_iter, ConvergenceWarning)\n"
     ]
    },
    {
     "name": "stdout",
     "output_type": "stream",
     "text": [
      "Alpha momentum 0.4, learning rate 0.0011 R2 score: 0.7303823091211381\n",
      "Alpha momentum 0.4, learning rate 0.0011 mean squered error: 251345399.8961462\n",
      "Alpha momentum 0.4, learning rate 0.0011 root mean squered error: 15853.876494288272\n"
     ]
    },
    {
     "name": "stderr",
     "output_type": "stream",
     "text": [
      "/home/stas/anaconda3/lib/python3.7/site-packages/sklearn/neural_network/multilayer_perceptron.py:562: ConvergenceWarning: Stochastic Optimizer: Maximum iterations (500) reached and the optimization hasn't converged yet.\n",
      "  % self.max_iter, ConvergenceWarning)\n"
     ]
    },
    {
     "name": "stdout",
     "output_type": "stream",
     "text": [
      "Alpha momentum 0.5, learning rate 0.0011 R2 score: 0.7303823091211381\n",
      "Alpha momentum 0.5, learning rate 0.0011 mean squered error: 251345399.8961462\n",
      "Alpha momentum 0.5, learning rate 0.0011 root mean squered error: 15853.876494288272\n"
     ]
    },
    {
     "name": "stderr",
     "output_type": "stream",
     "text": [
      "/home/stas/anaconda3/lib/python3.7/site-packages/sklearn/neural_network/multilayer_perceptron.py:562: ConvergenceWarning: Stochastic Optimizer: Maximum iterations (500) reached and the optimization hasn't converged yet.\n",
      "  % self.max_iter, ConvergenceWarning)\n"
     ]
    },
    {
     "name": "stdout",
     "output_type": "stream",
     "text": [
      "Alpha momentum 0.6, learning rate 0.0011 R2 score: 0.7303823091211381\n",
      "Alpha momentum 0.6, learning rate 0.0011 mean squered error: 251345399.8961462\n",
      "Alpha momentum 0.6, learning rate 0.0011 root mean squered error: 15853.876494288272\n"
     ]
    },
    {
     "name": "stderr",
     "output_type": "stream",
     "text": [
      "/home/stas/anaconda3/lib/python3.7/site-packages/sklearn/neural_network/multilayer_perceptron.py:562: ConvergenceWarning: Stochastic Optimizer: Maximum iterations (500) reached and the optimization hasn't converged yet.\n",
      "  % self.max_iter, ConvergenceWarning)\n"
     ]
    },
    {
     "name": "stdout",
     "output_type": "stream",
     "text": [
      "Alpha momentum 0.7, learning rate 0.0011 R2 score: 0.7303823091211381\n",
      "Alpha momentum 0.7, learning rate 0.0011 mean squered error: 251345399.8961462\n",
      "Alpha momentum 0.7, learning rate 0.0011 root mean squered error: 15853.876494288272\n"
     ]
    },
    {
     "name": "stderr",
     "output_type": "stream",
     "text": [
      "/home/stas/anaconda3/lib/python3.7/site-packages/sklearn/neural_network/multilayer_perceptron.py:562: ConvergenceWarning: Stochastic Optimizer: Maximum iterations (500) reached and the optimization hasn't converged yet.\n",
      "  % self.max_iter, ConvergenceWarning)\n"
     ]
    },
    {
     "name": "stdout",
     "output_type": "stream",
     "text": [
      "Alpha momentum 0.8, learning rate 0.0011 R2 score: 0.7303823091211381\n",
      "Alpha momentum 0.8, learning rate 0.0011 mean squered error: 251345399.8961462\n",
      "Alpha momentum 0.8, learning rate 0.0011 root mean squered error: 15853.876494288272\n"
     ]
    },
    {
     "name": "stderr",
     "output_type": "stream",
     "text": [
      "/home/stas/anaconda3/lib/python3.7/site-packages/sklearn/neural_network/multilayer_perceptron.py:562: ConvergenceWarning: Stochastic Optimizer: Maximum iterations (500) reached and the optimization hasn't converged yet.\n",
      "  % self.max_iter, ConvergenceWarning)\n"
     ]
    },
    {
     "name": "stdout",
     "output_type": "stream",
     "text": [
      "Alpha momentum 0.9, learning rate 0.0011 R2 score: 0.7303823091211381\n",
      "Alpha momentum 0.9, learning rate 0.0011 mean squered error: 251345399.8961462\n",
      "Alpha momentum 0.9, learning rate 0.0011 root mean squered error: 15853.876494288272\n"
     ]
    },
    {
     "name": "stderr",
     "output_type": "stream",
     "text": [
      "/home/stas/anaconda3/lib/python3.7/site-packages/sklearn/neural_network/multilayer_perceptron.py:562: ConvergenceWarning: Stochastic Optimizer: Maximum iterations (500) reached and the optimization hasn't converged yet.\n",
      "  % self.max_iter, ConvergenceWarning)\n"
     ]
    },
    {
     "name": "stdout",
     "output_type": "stream",
     "text": [
      "Alpha momentum 0.1, learning rate 0.0012 R2 score: 0.7588208061385604\n",
      "Alpha momentum 0.1, learning rate 0.0012 mean squered error: 198778496.118557\n",
      "Alpha momentum 0.1, learning rate 0.0012 root mean squered error: 14098.882796823194\n"
     ]
    },
    {
     "name": "stderr",
     "output_type": "stream",
     "text": [
      "/home/stas/anaconda3/lib/python3.7/site-packages/sklearn/neural_network/multilayer_perceptron.py:562: ConvergenceWarning: Stochastic Optimizer: Maximum iterations (500) reached and the optimization hasn't converged yet.\n",
      "  % self.max_iter, ConvergenceWarning)\n"
     ]
    },
    {
     "name": "stdout",
     "output_type": "stream",
     "text": [
      "Alpha momentum 0.2, learning rate 0.0012 R2 score: 0.7588208061385604\n",
      "Alpha momentum 0.2, learning rate 0.0012 mean squered error: 198778496.118557\n",
      "Alpha momentum 0.2, learning rate 0.0012 root mean squered error: 14098.882796823194\n"
     ]
    },
    {
     "name": "stderr",
     "output_type": "stream",
     "text": [
      "/home/stas/anaconda3/lib/python3.7/site-packages/sklearn/neural_network/multilayer_perceptron.py:562: ConvergenceWarning: Stochastic Optimizer: Maximum iterations (500) reached and the optimization hasn't converged yet.\n",
      "  % self.max_iter, ConvergenceWarning)\n"
     ]
    },
    {
     "name": "stdout",
     "output_type": "stream",
     "text": [
      "Alpha momentum 0.3, learning rate 0.0012 R2 score: 0.7588208061385604\n",
      "Alpha momentum 0.3, learning rate 0.0012 mean squered error: 198778496.118557\n",
      "Alpha momentum 0.3, learning rate 0.0012 root mean squered error: 14098.882796823194\n"
     ]
    },
    {
     "name": "stderr",
     "output_type": "stream",
     "text": [
      "/home/stas/anaconda3/lib/python3.7/site-packages/sklearn/neural_network/multilayer_perceptron.py:562: ConvergenceWarning: Stochastic Optimizer: Maximum iterations (500) reached and the optimization hasn't converged yet.\n",
      "  % self.max_iter, ConvergenceWarning)\n"
     ]
    },
    {
     "name": "stdout",
     "output_type": "stream",
     "text": [
      "Alpha momentum 0.4, learning rate 0.0012 R2 score: 0.7588208061385604\n",
      "Alpha momentum 0.4, learning rate 0.0012 mean squered error: 198778496.118557\n",
      "Alpha momentum 0.4, learning rate 0.0012 root mean squered error: 14098.882796823194\n"
     ]
    },
    {
     "name": "stderr",
     "output_type": "stream",
     "text": [
      "/home/stas/anaconda3/lib/python3.7/site-packages/sklearn/neural_network/multilayer_perceptron.py:562: ConvergenceWarning: Stochastic Optimizer: Maximum iterations (500) reached and the optimization hasn't converged yet.\n",
      "  % self.max_iter, ConvergenceWarning)\n"
     ]
    },
    {
     "name": "stdout",
     "output_type": "stream",
     "text": [
      "Alpha momentum 0.5, learning rate 0.0012 R2 score: 0.7588208061385604\n",
      "Alpha momentum 0.5, learning rate 0.0012 mean squered error: 198778496.118557\n",
      "Alpha momentum 0.5, learning rate 0.0012 root mean squered error: 14098.882796823194\n"
     ]
    },
    {
     "name": "stderr",
     "output_type": "stream",
     "text": [
      "/home/stas/anaconda3/lib/python3.7/site-packages/sklearn/neural_network/multilayer_perceptron.py:562: ConvergenceWarning: Stochastic Optimizer: Maximum iterations (500) reached and the optimization hasn't converged yet.\n",
      "  % self.max_iter, ConvergenceWarning)\n"
     ]
    },
    {
     "name": "stdout",
     "output_type": "stream",
     "text": [
      "Alpha momentum 0.6, learning rate 0.0012 R2 score: 0.7588208061385604\n",
      "Alpha momentum 0.6, learning rate 0.0012 mean squered error: 198778496.118557\n",
      "Alpha momentum 0.6, learning rate 0.0012 root mean squered error: 14098.882796823194\n"
     ]
    },
    {
     "name": "stderr",
     "output_type": "stream",
     "text": [
      "/home/stas/anaconda3/lib/python3.7/site-packages/sklearn/neural_network/multilayer_perceptron.py:562: ConvergenceWarning: Stochastic Optimizer: Maximum iterations (500) reached and the optimization hasn't converged yet.\n",
      "  % self.max_iter, ConvergenceWarning)\n"
     ]
    },
    {
     "name": "stdout",
     "output_type": "stream",
     "text": [
      "Alpha momentum 0.7, learning rate 0.0012 R2 score: 0.7588208061385604\n",
      "Alpha momentum 0.7, learning rate 0.0012 mean squered error: 198778496.118557\n",
      "Alpha momentum 0.7, learning rate 0.0012 root mean squered error: 14098.882796823194\n"
     ]
    },
    {
     "name": "stderr",
     "output_type": "stream",
     "text": [
      "/home/stas/anaconda3/lib/python3.7/site-packages/sklearn/neural_network/multilayer_perceptron.py:562: ConvergenceWarning: Stochastic Optimizer: Maximum iterations (500) reached and the optimization hasn't converged yet.\n",
      "  % self.max_iter, ConvergenceWarning)\n"
     ]
    },
    {
     "name": "stdout",
     "output_type": "stream",
     "text": [
      "Alpha momentum 0.8, learning rate 0.0012 R2 score: 0.7588208061385604\n",
      "Alpha momentum 0.8, learning rate 0.0012 mean squered error: 198778496.118557\n",
      "Alpha momentum 0.8, learning rate 0.0012 root mean squered error: 14098.882796823194\n"
     ]
    },
    {
     "name": "stderr",
     "output_type": "stream",
     "text": [
      "/home/stas/anaconda3/lib/python3.7/site-packages/sklearn/neural_network/multilayer_perceptron.py:562: ConvergenceWarning: Stochastic Optimizer: Maximum iterations (500) reached and the optimization hasn't converged yet.\n",
      "  % self.max_iter, ConvergenceWarning)\n"
     ]
    },
    {
     "name": "stdout",
     "output_type": "stream",
     "text": [
      "Alpha momentum 0.9, learning rate 0.0012 R2 score: 0.7588208061385604\n",
      "Alpha momentum 0.9, learning rate 0.0012 mean squered error: 198778496.118557\n",
      "Alpha momentum 0.9, learning rate 0.0012 root mean squered error: 14098.882796823194\n"
     ]
    },
    {
     "name": "stderr",
     "output_type": "stream",
     "text": [
      "/home/stas/anaconda3/lib/python3.7/site-packages/sklearn/neural_network/multilayer_perceptron.py:562: ConvergenceWarning: Stochastic Optimizer: Maximum iterations (500) reached and the optimization hasn't converged yet.\n",
      "  % self.max_iter, ConvergenceWarning)\n"
     ]
    },
    {
     "name": "stdout",
     "output_type": "stream",
     "text": [
      "Alpha momentum 0.1, learning rate 0.0013 R2 score: 0.7846220862757642\n",
      "Alpha momentum 0.1, learning rate 0.0013 mean squered error: 158010900.1666823\n",
      "Alpha momentum 0.1, learning rate 0.0013 root mean squered error: 12570.238667848846\n"
     ]
    },
    {
     "name": "stderr",
     "output_type": "stream",
     "text": [
      "/home/stas/anaconda3/lib/python3.7/site-packages/sklearn/neural_network/multilayer_perceptron.py:562: ConvergenceWarning: Stochastic Optimizer: Maximum iterations (500) reached and the optimization hasn't converged yet.\n",
      "  % self.max_iter, ConvergenceWarning)\n"
     ]
    },
    {
     "name": "stdout",
     "output_type": "stream",
     "text": [
      "Alpha momentum 0.2, learning rate 0.0013 R2 score: 0.7846220862757642\n",
      "Alpha momentum 0.2, learning rate 0.0013 mean squered error: 158010900.1666823\n",
      "Alpha momentum 0.2, learning rate 0.0013 root mean squered error: 12570.238667848846\n"
     ]
    },
    {
     "name": "stderr",
     "output_type": "stream",
     "text": [
      "/home/stas/anaconda3/lib/python3.7/site-packages/sklearn/neural_network/multilayer_perceptron.py:562: ConvergenceWarning: Stochastic Optimizer: Maximum iterations (500) reached and the optimization hasn't converged yet.\n",
      "  % self.max_iter, ConvergenceWarning)\n"
     ]
    },
    {
     "name": "stdout",
     "output_type": "stream",
     "text": [
      "Alpha momentum 0.3, learning rate 0.0013 R2 score: 0.7846220862757642\n",
      "Alpha momentum 0.3, learning rate 0.0013 mean squered error: 158010900.1666823\n",
      "Alpha momentum 0.3, learning rate 0.0013 root mean squered error: 12570.238667848846\n"
     ]
    },
    {
     "name": "stderr",
     "output_type": "stream",
     "text": [
      "/home/stas/anaconda3/lib/python3.7/site-packages/sklearn/neural_network/multilayer_perceptron.py:562: ConvergenceWarning: Stochastic Optimizer: Maximum iterations (500) reached and the optimization hasn't converged yet.\n",
      "  % self.max_iter, ConvergenceWarning)\n"
     ]
    },
    {
     "name": "stdout",
     "output_type": "stream",
     "text": [
      "Alpha momentum 0.4, learning rate 0.0013 R2 score: 0.7846220862757642\n",
      "Alpha momentum 0.4, learning rate 0.0013 mean squered error: 158010900.1666823\n",
      "Alpha momentum 0.4, learning rate 0.0013 root mean squered error: 12570.238667848846\n"
     ]
    },
    {
     "name": "stderr",
     "output_type": "stream",
     "text": [
      "/home/stas/anaconda3/lib/python3.7/site-packages/sklearn/neural_network/multilayer_perceptron.py:562: ConvergenceWarning: Stochastic Optimizer: Maximum iterations (500) reached and the optimization hasn't converged yet.\n",
      "  % self.max_iter, ConvergenceWarning)\n"
     ]
    },
    {
     "name": "stdout",
     "output_type": "stream",
     "text": [
      "Alpha momentum 0.5, learning rate 0.0013 R2 score: 0.7846220862757642\n",
      "Alpha momentum 0.5, learning rate 0.0013 mean squered error: 158010900.1666823\n",
      "Alpha momentum 0.5, learning rate 0.0013 root mean squered error: 12570.238667848846\n"
     ]
    },
    {
     "name": "stderr",
     "output_type": "stream",
     "text": [
      "/home/stas/anaconda3/lib/python3.7/site-packages/sklearn/neural_network/multilayer_perceptron.py:562: ConvergenceWarning: Stochastic Optimizer: Maximum iterations (500) reached and the optimization hasn't converged yet.\n",
      "  % self.max_iter, ConvergenceWarning)\n"
     ]
    },
    {
     "name": "stdout",
     "output_type": "stream",
     "text": [
      "Alpha momentum 0.6, learning rate 0.0013 R2 score: 0.7846220862757642\n",
      "Alpha momentum 0.6, learning rate 0.0013 mean squered error: 158010900.1666823\n",
      "Alpha momentum 0.6, learning rate 0.0013 root mean squered error: 12570.238667848846\n"
     ]
    },
    {
     "name": "stderr",
     "output_type": "stream",
     "text": [
      "/home/stas/anaconda3/lib/python3.7/site-packages/sklearn/neural_network/multilayer_perceptron.py:562: ConvergenceWarning: Stochastic Optimizer: Maximum iterations (500) reached and the optimization hasn't converged yet.\n",
      "  % self.max_iter, ConvergenceWarning)\n"
     ]
    },
    {
     "name": "stdout",
     "output_type": "stream",
     "text": [
      "Alpha momentum 0.7, learning rate 0.0013 R2 score: 0.7846220862757642\n",
      "Alpha momentum 0.7, learning rate 0.0013 mean squered error: 158010900.1666823\n",
      "Alpha momentum 0.7, learning rate 0.0013 root mean squered error: 12570.238667848846\n"
     ]
    },
    {
     "name": "stderr",
     "output_type": "stream",
     "text": [
      "/home/stas/anaconda3/lib/python3.7/site-packages/sklearn/neural_network/multilayer_perceptron.py:562: ConvergenceWarning: Stochastic Optimizer: Maximum iterations (500) reached and the optimization hasn't converged yet.\n",
      "  % self.max_iter, ConvergenceWarning)\n"
     ]
    },
    {
     "name": "stdout",
     "output_type": "stream",
     "text": [
      "Alpha momentum 0.8, learning rate 0.0013 R2 score: 0.7846220862757642\n",
      "Alpha momentum 0.8, learning rate 0.0013 mean squered error: 158010900.1666823\n",
      "Alpha momentum 0.8, learning rate 0.0013 root mean squered error: 12570.238667848846\n"
     ]
    },
    {
     "name": "stderr",
     "output_type": "stream",
     "text": [
      "/home/stas/anaconda3/lib/python3.7/site-packages/sklearn/neural_network/multilayer_perceptron.py:562: ConvergenceWarning: Stochastic Optimizer: Maximum iterations (500) reached and the optimization hasn't converged yet.\n",
      "  % self.max_iter, ConvergenceWarning)\n"
     ]
    },
    {
     "name": "stdout",
     "output_type": "stream",
     "text": [
      "Alpha momentum 0.9, learning rate 0.0013 R2 score: 0.7846220862757642\n",
      "Alpha momentum 0.9, learning rate 0.0013 mean squered error: 158010900.1666823\n",
      "Alpha momentum 0.9, learning rate 0.0013 root mean squered error: 12570.238667848846\n"
     ]
    },
    {
     "name": "stderr",
     "output_type": "stream",
     "text": [
      "/home/stas/anaconda3/lib/python3.7/site-packages/sklearn/neural_network/multilayer_perceptron.py:562: ConvergenceWarning: Stochastic Optimizer: Maximum iterations (500) reached and the optimization hasn't converged yet.\n",
      "  % self.max_iter, ConvergenceWarning)\n"
     ]
    },
    {
     "name": "stdout",
     "output_type": "stream",
     "text": [
      "Alpha momentum 0.1, learning rate 0.0014 R2 score: 0.8094222397253642\n",
      "Alpha momentum 0.1, learning rate 0.0014 mean squered error: 129764703.02240717\n",
      "Alpha momentum 0.1, learning rate 0.0014 root mean squered error: 11391.431122664402\n"
     ]
    },
    {
     "name": "stderr",
     "output_type": "stream",
     "text": [
      "/home/stas/anaconda3/lib/python3.7/site-packages/sklearn/neural_network/multilayer_perceptron.py:562: ConvergenceWarning: Stochastic Optimizer: Maximum iterations (500) reached and the optimization hasn't converged yet.\n",
      "  % self.max_iter, ConvergenceWarning)\n"
     ]
    },
    {
     "name": "stdout",
     "output_type": "stream",
     "text": [
      "Alpha momentum 0.2, learning rate 0.0014 R2 score: 0.8094222397253642\n",
      "Alpha momentum 0.2, learning rate 0.0014 mean squered error: 129764703.02240717\n",
      "Alpha momentum 0.2, learning rate 0.0014 root mean squered error: 11391.431122664402\n"
     ]
    },
    {
     "name": "stderr",
     "output_type": "stream",
     "text": [
      "/home/stas/anaconda3/lib/python3.7/site-packages/sklearn/neural_network/multilayer_perceptron.py:562: ConvergenceWarning: Stochastic Optimizer: Maximum iterations (500) reached and the optimization hasn't converged yet.\n",
      "  % self.max_iter, ConvergenceWarning)\n"
     ]
    },
    {
     "name": "stdout",
     "output_type": "stream",
     "text": [
      "Alpha momentum 0.3, learning rate 0.0014 R2 score: 0.8094222397253642\n",
      "Alpha momentum 0.3, learning rate 0.0014 mean squered error: 129764703.02240717\n",
      "Alpha momentum 0.3, learning rate 0.0014 root mean squered error: 11391.431122664402\n"
     ]
    },
    {
     "name": "stderr",
     "output_type": "stream",
     "text": [
      "/home/stas/anaconda3/lib/python3.7/site-packages/sklearn/neural_network/multilayer_perceptron.py:562: ConvergenceWarning: Stochastic Optimizer: Maximum iterations (500) reached and the optimization hasn't converged yet.\n",
      "  % self.max_iter, ConvergenceWarning)\n"
     ]
    },
    {
     "name": "stdout",
     "output_type": "stream",
     "text": [
      "Alpha momentum 0.4, learning rate 0.0014 R2 score: 0.8094222397253642\n",
      "Alpha momentum 0.4, learning rate 0.0014 mean squered error: 129764703.02240717\n",
      "Alpha momentum 0.4, learning rate 0.0014 root mean squered error: 11391.431122664402\n"
     ]
    },
    {
     "name": "stderr",
     "output_type": "stream",
     "text": [
      "/home/stas/anaconda3/lib/python3.7/site-packages/sklearn/neural_network/multilayer_perceptron.py:562: ConvergenceWarning: Stochastic Optimizer: Maximum iterations (500) reached and the optimization hasn't converged yet.\n",
      "  % self.max_iter, ConvergenceWarning)\n"
     ]
    },
    {
     "name": "stdout",
     "output_type": "stream",
     "text": [
      "Alpha momentum 0.5, learning rate 0.0014 R2 score: 0.8094222397253642\n",
      "Alpha momentum 0.5, learning rate 0.0014 mean squered error: 129764703.02240717\n",
      "Alpha momentum 0.5, learning rate 0.0014 root mean squered error: 11391.431122664402\n"
     ]
    },
    {
     "name": "stderr",
     "output_type": "stream",
     "text": [
      "/home/stas/anaconda3/lib/python3.7/site-packages/sklearn/neural_network/multilayer_perceptron.py:562: ConvergenceWarning: Stochastic Optimizer: Maximum iterations (500) reached and the optimization hasn't converged yet.\n",
      "  % self.max_iter, ConvergenceWarning)\n"
     ]
    },
    {
     "name": "stdout",
     "output_type": "stream",
     "text": [
      "Alpha momentum 0.6, learning rate 0.0014 R2 score: 0.8094222397253642\n",
      "Alpha momentum 0.6, learning rate 0.0014 mean squered error: 129764703.02240717\n",
      "Alpha momentum 0.6, learning rate 0.0014 root mean squered error: 11391.431122664402\n"
     ]
    },
    {
     "name": "stderr",
     "output_type": "stream",
     "text": [
      "/home/stas/anaconda3/lib/python3.7/site-packages/sklearn/neural_network/multilayer_perceptron.py:562: ConvergenceWarning: Stochastic Optimizer: Maximum iterations (500) reached and the optimization hasn't converged yet.\n",
      "  % self.max_iter, ConvergenceWarning)\n"
     ]
    },
    {
     "name": "stdout",
     "output_type": "stream",
     "text": [
      "Alpha momentum 0.7, learning rate 0.0014 R2 score: 0.8094222397253642\n",
      "Alpha momentum 0.7, learning rate 0.0014 mean squered error: 129764703.02240717\n",
      "Alpha momentum 0.7, learning rate 0.0014 root mean squered error: 11391.431122664402\n"
     ]
    },
    {
     "name": "stderr",
     "output_type": "stream",
     "text": [
      "/home/stas/anaconda3/lib/python3.7/site-packages/sklearn/neural_network/multilayer_perceptron.py:562: ConvergenceWarning: Stochastic Optimizer: Maximum iterations (500) reached and the optimization hasn't converged yet.\n",
      "  % self.max_iter, ConvergenceWarning)\n"
     ]
    },
    {
     "name": "stdout",
     "output_type": "stream",
     "text": [
      "Alpha momentum 0.8, learning rate 0.0014 R2 score: 0.8094222397253642\n",
      "Alpha momentum 0.8, learning rate 0.0014 mean squered error: 129764703.02240717\n",
      "Alpha momentum 0.8, learning rate 0.0014 root mean squered error: 11391.431122664402\n"
     ]
    },
    {
     "name": "stderr",
     "output_type": "stream",
     "text": [
      "/home/stas/anaconda3/lib/python3.7/site-packages/sklearn/neural_network/multilayer_perceptron.py:562: ConvergenceWarning: Stochastic Optimizer: Maximum iterations (500) reached and the optimization hasn't converged yet.\n",
      "  % self.max_iter, ConvergenceWarning)\n"
     ]
    },
    {
     "name": "stdout",
     "output_type": "stream",
     "text": [
      "Alpha momentum 0.9, learning rate 0.0014 R2 score: 0.8094222397253642\n",
      "Alpha momentum 0.9, learning rate 0.0014 mean squered error: 129764703.02240717\n",
      "Alpha momentum 0.9, learning rate 0.0014 root mean squered error: 11391.431122664402\n"
     ]
    },
    {
     "name": "stderr",
     "output_type": "stream",
     "text": [
      "/home/stas/anaconda3/lib/python3.7/site-packages/sklearn/neural_network/multilayer_perceptron.py:562: ConvergenceWarning: Stochastic Optimizer: Maximum iterations (500) reached and the optimization hasn't converged yet.\n",
      "  % self.max_iter, ConvergenceWarning)\n"
     ]
    },
    {
     "name": "stdout",
     "output_type": "stream",
     "text": [
      "Alpha momentum 0.1, learning rate 0.0015 R2 score: 0.8293032692779945\n",
      "Alpha momentum 0.1, learning rate 0.0015 mean squered error: 108297308.10295677\n",
      "Alpha momentum 0.1, learning rate 0.0015 root mean squered error: 10406.599257344196\n"
     ]
    },
    {
     "name": "stderr",
     "output_type": "stream",
     "text": [
      "/home/stas/anaconda3/lib/python3.7/site-packages/sklearn/neural_network/multilayer_perceptron.py:562: ConvergenceWarning: Stochastic Optimizer: Maximum iterations (500) reached and the optimization hasn't converged yet.\n",
      "  % self.max_iter, ConvergenceWarning)\n"
     ]
    },
    {
     "name": "stdout",
     "output_type": "stream",
     "text": [
      "Alpha momentum 0.2, learning rate 0.0015 R2 score: 0.8293032692779945\n",
      "Alpha momentum 0.2, learning rate 0.0015 mean squered error: 108297308.10295677\n",
      "Alpha momentum 0.2, learning rate 0.0015 root mean squered error: 10406.599257344196\n"
     ]
    },
    {
     "name": "stderr",
     "output_type": "stream",
     "text": [
      "/home/stas/anaconda3/lib/python3.7/site-packages/sklearn/neural_network/multilayer_perceptron.py:562: ConvergenceWarning: Stochastic Optimizer: Maximum iterations (500) reached and the optimization hasn't converged yet.\n",
      "  % self.max_iter, ConvergenceWarning)\n"
     ]
    },
    {
     "name": "stdout",
     "output_type": "stream",
     "text": [
      "Alpha momentum 0.3, learning rate 0.0015 R2 score: 0.8293032692779945\n",
      "Alpha momentum 0.3, learning rate 0.0015 mean squered error: 108297308.10295677\n",
      "Alpha momentum 0.3, learning rate 0.0015 root mean squered error: 10406.599257344196\n"
     ]
    },
    {
     "name": "stderr",
     "output_type": "stream",
     "text": [
      "/home/stas/anaconda3/lib/python3.7/site-packages/sklearn/neural_network/multilayer_perceptron.py:562: ConvergenceWarning: Stochastic Optimizer: Maximum iterations (500) reached and the optimization hasn't converged yet.\n",
      "  % self.max_iter, ConvergenceWarning)\n"
     ]
    },
    {
     "name": "stdout",
     "output_type": "stream",
     "text": [
      "Alpha momentum 0.4, learning rate 0.0015 R2 score: 0.8293032692779945\n",
      "Alpha momentum 0.4, learning rate 0.0015 mean squered error: 108297308.10295677\n",
      "Alpha momentum 0.4, learning rate 0.0015 root mean squered error: 10406.599257344196\n"
     ]
    },
    {
     "name": "stderr",
     "output_type": "stream",
     "text": [
      "/home/stas/anaconda3/lib/python3.7/site-packages/sklearn/neural_network/multilayer_perceptron.py:562: ConvergenceWarning: Stochastic Optimizer: Maximum iterations (500) reached and the optimization hasn't converged yet.\n",
      "  % self.max_iter, ConvergenceWarning)\n"
     ]
    },
    {
     "name": "stdout",
     "output_type": "stream",
     "text": [
      "Alpha momentum 0.5, learning rate 0.0015 R2 score: 0.8293032692779945\n",
      "Alpha momentum 0.5, learning rate 0.0015 mean squered error: 108297308.10295677\n",
      "Alpha momentum 0.5, learning rate 0.0015 root mean squered error: 10406.599257344196\n"
     ]
    },
    {
     "name": "stderr",
     "output_type": "stream",
     "text": [
      "/home/stas/anaconda3/lib/python3.7/site-packages/sklearn/neural_network/multilayer_perceptron.py:562: ConvergenceWarning: Stochastic Optimizer: Maximum iterations (500) reached and the optimization hasn't converged yet.\n",
      "  % self.max_iter, ConvergenceWarning)\n"
     ]
    },
    {
     "name": "stdout",
     "output_type": "stream",
     "text": [
      "Alpha momentum 0.6, learning rate 0.0015 R2 score: 0.8293032692779945\n",
      "Alpha momentum 0.6, learning rate 0.0015 mean squered error: 108297308.10295677\n",
      "Alpha momentum 0.6, learning rate 0.0015 root mean squered error: 10406.599257344196\n"
     ]
    },
    {
     "name": "stderr",
     "output_type": "stream",
     "text": [
      "/home/stas/anaconda3/lib/python3.7/site-packages/sklearn/neural_network/multilayer_perceptron.py:562: ConvergenceWarning: Stochastic Optimizer: Maximum iterations (500) reached and the optimization hasn't converged yet.\n",
      "  % self.max_iter, ConvergenceWarning)\n"
     ]
    },
    {
     "name": "stdout",
     "output_type": "stream",
     "text": [
      "Alpha momentum 0.7, learning rate 0.0015 R2 score: 0.8293032692779945\n",
      "Alpha momentum 0.7, learning rate 0.0015 mean squered error: 108297308.10295677\n",
      "Alpha momentum 0.7, learning rate 0.0015 root mean squered error: 10406.599257344196\n"
     ]
    },
    {
     "name": "stderr",
     "output_type": "stream",
     "text": [
      "/home/stas/anaconda3/lib/python3.7/site-packages/sklearn/neural_network/multilayer_perceptron.py:562: ConvergenceWarning: Stochastic Optimizer: Maximum iterations (500) reached and the optimization hasn't converged yet.\n",
      "  % self.max_iter, ConvergenceWarning)\n"
     ]
    },
    {
     "name": "stdout",
     "output_type": "stream",
     "text": [
      "Alpha momentum 0.8, learning rate 0.0015 R2 score: 0.8293032692779945\n",
      "Alpha momentum 0.8, learning rate 0.0015 mean squered error: 108297308.10295677\n",
      "Alpha momentum 0.8, learning rate 0.0015 root mean squered error: 10406.599257344196\n"
     ]
    },
    {
     "name": "stderr",
     "output_type": "stream",
     "text": [
      "/home/stas/anaconda3/lib/python3.7/site-packages/sklearn/neural_network/multilayer_perceptron.py:562: ConvergenceWarning: Stochastic Optimizer: Maximum iterations (500) reached and the optimization hasn't converged yet.\n",
      "  % self.max_iter, ConvergenceWarning)\n"
     ]
    },
    {
     "name": "stdout",
     "output_type": "stream",
     "text": [
      "Alpha momentum 0.9, learning rate 0.0015 R2 score: 0.8293032692779945\n",
      "Alpha momentum 0.9, learning rate 0.0015 mean squered error: 108297308.10295677\n",
      "Alpha momentum 0.9, learning rate 0.0015 root mean squered error: 10406.599257344196\n"
     ]
    },
    {
     "name": "stderr",
     "output_type": "stream",
     "text": [
      "/home/stas/anaconda3/lib/python3.7/site-packages/sklearn/neural_network/multilayer_perceptron.py:562: ConvergenceWarning: Stochastic Optimizer: Maximum iterations (500) reached and the optimization hasn't converged yet.\n",
      "  % self.max_iter, ConvergenceWarning)\n"
     ]
    },
    {
     "name": "stdout",
     "output_type": "stream",
     "text": [
      "Alpha momentum 0.1, learning rate 0.0016 R2 score: 0.8530349022098523\n",
      "Alpha momentum 0.1, learning rate 0.0016 mean squered error: 88197566.08069088\n",
      "Alpha momentum 0.1, learning rate 0.0016 root mean squered error: 9391.355923437834\n"
     ]
    },
    {
     "name": "stderr",
     "output_type": "stream",
     "text": [
      "/home/stas/anaconda3/lib/python3.7/site-packages/sklearn/neural_network/multilayer_perceptron.py:562: ConvergenceWarning: Stochastic Optimizer: Maximum iterations (500) reached and the optimization hasn't converged yet.\n",
      "  % self.max_iter, ConvergenceWarning)\n"
     ]
    },
    {
     "name": "stdout",
     "output_type": "stream",
     "text": [
      "Alpha momentum 0.2, learning rate 0.0016 R2 score: 0.8530349022098523\n",
      "Alpha momentum 0.2, learning rate 0.0016 mean squered error: 88197566.08069088\n",
      "Alpha momentum 0.2, learning rate 0.0016 root mean squered error: 9391.355923437834\n"
     ]
    },
    {
     "name": "stderr",
     "output_type": "stream",
     "text": [
      "/home/stas/anaconda3/lib/python3.7/site-packages/sklearn/neural_network/multilayer_perceptron.py:562: ConvergenceWarning: Stochastic Optimizer: Maximum iterations (500) reached and the optimization hasn't converged yet.\n",
      "  % self.max_iter, ConvergenceWarning)\n"
     ]
    },
    {
     "name": "stdout",
     "output_type": "stream",
     "text": [
      "Alpha momentum 0.3, learning rate 0.0016 R2 score: 0.8530349022098523\n",
      "Alpha momentum 0.3, learning rate 0.0016 mean squered error: 88197566.08069088\n",
      "Alpha momentum 0.3, learning rate 0.0016 root mean squered error: 9391.355923437834\n"
     ]
    },
    {
     "name": "stderr",
     "output_type": "stream",
     "text": [
      "/home/stas/anaconda3/lib/python3.7/site-packages/sklearn/neural_network/multilayer_perceptron.py:562: ConvergenceWarning: Stochastic Optimizer: Maximum iterations (500) reached and the optimization hasn't converged yet.\n",
      "  % self.max_iter, ConvergenceWarning)\n"
     ]
    },
    {
     "name": "stdout",
     "output_type": "stream",
     "text": [
      "Alpha momentum 0.4, learning rate 0.0016 R2 score: 0.8530349022098523\n",
      "Alpha momentum 0.4, learning rate 0.0016 mean squered error: 88197566.08069088\n",
      "Alpha momentum 0.4, learning rate 0.0016 root mean squered error: 9391.355923437834\n"
     ]
    },
    {
     "name": "stderr",
     "output_type": "stream",
     "text": [
      "/home/stas/anaconda3/lib/python3.7/site-packages/sklearn/neural_network/multilayer_perceptron.py:562: ConvergenceWarning: Stochastic Optimizer: Maximum iterations (500) reached and the optimization hasn't converged yet.\n",
      "  % self.max_iter, ConvergenceWarning)\n"
     ]
    },
    {
     "name": "stdout",
     "output_type": "stream",
     "text": [
      "Alpha momentum 0.5, learning rate 0.0016 R2 score: 0.8530349022098523\n",
      "Alpha momentum 0.5, learning rate 0.0016 mean squered error: 88197566.08069088\n",
      "Alpha momentum 0.5, learning rate 0.0016 root mean squered error: 9391.355923437834\n"
     ]
    },
    {
     "name": "stderr",
     "output_type": "stream",
     "text": [
      "/home/stas/anaconda3/lib/python3.7/site-packages/sklearn/neural_network/multilayer_perceptron.py:562: ConvergenceWarning: Stochastic Optimizer: Maximum iterations (500) reached and the optimization hasn't converged yet.\n",
      "  % self.max_iter, ConvergenceWarning)\n"
     ]
    },
    {
     "name": "stdout",
     "output_type": "stream",
     "text": [
      "Alpha momentum 0.6, learning rate 0.0016 R2 score: 0.8530349022098523\n",
      "Alpha momentum 0.6, learning rate 0.0016 mean squered error: 88197566.08069088\n",
      "Alpha momentum 0.6, learning rate 0.0016 root mean squered error: 9391.355923437834\n"
     ]
    },
    {
     "name": "stderr",
     "output_type": "stream",
     "text": [
      "/home/stas/anaconda3/lib/python3.7/site-packages/sklearn/neural_network/multilayer_perceptron.py:562: ConvergenceWarning: Stochastic Optimizer: Maximum iterations (500) reached and the optimization hasn't converged yet.\n",
      "  % self.max_iter, ConvergenceWarning)\n"
     ]
    },
    {
     "name": "stdout",
     "output_type": "stream",
     "text": [
      "Alpha momentum 0.7, learning rate 0.0016 R2 score: 0.8530349022098523\n",
      "Alpha momentum 0.7, learning rate 0.0016 mean squered error: 88197566.08069088\n",
      "Alpha momentum 0.7, learning rate 0.0016 root mean squered error: 9391.355923437834\n"
     ]
    },
    {
     "name": "stderr",
     "output_type": "stream",
     "text": [
      "/home/stas/anaconda3/lib/python3.7/site-packages/sklearn/neural_network/multilayer_perceptron.py:562: ConvergenceWarning: Stochastic Optimizer: Maximum iterations (500) reached and the optimization hasn't converged yet.\n",
      "  % self.max_iter, ConvergenceWarning)\n"
     ]
    },
    {
     "name": "stdout",
     "output_type": "stream",
     "text": [
      "Alpha momentum 0.8, learning rate 0.0016 R2 score: 0.8530349022098523\n",
      "Alpha momentum 0.8, learning rate 0.0016 mean squered error: 88197566.08069088\n",
      "Alpha momentum 0.8, learning rate 0.0016 root mean squered error: 9391.355923437834\n"
     ]
    },
    {
     "name": "stderr",
     "output_type": "stream",
     "text": [
      "/home/stas/anaconda3/lib/python3.7/site-packages/sklearn/neural_network/multilayer_perceptron.py:562: ConvergenceWarning: Stochastic Optimizer: Maximum iterations (500) reached and the optimization hasn't converged yet.\n",
      "  % self.max_iter, ConvergenceWarning)\n"
     ]
    },
    {
     "name": "stdout",
     "output_type": "stream",
     "text": [
      "Alpha momentum 0.9, learning rate 0.0016 R2 score: 0.8530349022098523\n",
      "Alpha momentum 0.9, learning rate 0.0016 mean squered error: 88197566.08069088\n",
      "Alpha momentum 0.9, learning rate 0.0016 root mean squered error: 9391.355923437834\n"
     ]
    },
    {
     "name": "stderr",
     "output_type": "stream",
     "text": [
      "/home/stas/anaconda3/lib/python3.7/site-packages/sklearn/neural_network/multilayer_perceptron.py:562: ConvergenceWarning: Stochastic Optimizer: Maximum iterations (500) reached and the optimization hasn't converged yet.\n",
      "  % self.max_iter, ConvergenceWarning)\n"
     ]
    },
    {
     "name": "stdout",
     "output_type": "stream",
     "text": [
      "Alpha momentum 0.1, learning rate 0.0017 R2 score: 0.8671404422705598\n",
      "Alpha momentum 0.1, learning rate 0.0017 mean squered error: 76202879.71009506\n",
      "Alpha momentum 0.1, learning rate 0.0017 root mean squered error: 8729.426081369556\n"
     ]
    },
    {
     "name": "stderr",
     "output_type": "stream",
     "text": [
      "/home/stas/anaconda3/lib/python3.7/site-packages/sklearn/neural_network/multilayer_perceptron.py:562: ConvergenceWarning: Stochastic Optimizer: Maximum iterations (500) reached and the optimization hasn't converged yet.\n",
      "  % self.max_iter, ConvergenceWarning)\n"
     ]
    },
    {
     "name": "stdout",
     "output_type": "stream",
     "text": [
      "Alpha momentum 0.2, learning rate 0.0017 R2 score: 0.8671404422705598\n",
      "Alpha momentum 0.2, learning rate 0.0017 mean squered error: 76202879.71009506\n",
      "Alpha momentum 0.2, learning rate 0.0017 root mean squered error: 8729.426081369556\n"
     ]
    },
    {
     "name": "stderr",
     "output_type": "stream",
     "text": [
      "/home/stas/anaconda3/lib/python3.7/site-packages/sklearn/neural_network/multilayer_perceptron.py:562: ConvergenceWarning: Stochastic Optimizer: Maximum iterations (500) reached and the optimization hasn't converged yet.\n",
      "  % self.max_iter, ConvergenceWarning)\n"
     ]
    },
    {
     "name": "stdout",
     "output_type": "stream",
     "text": [
      "Alpha momentum 0.3, learning rate 0.0017 R2 score: 0.8671404422705598\n",
      "Alpha momentum 0.3, learning rate 0.0017 mean squered error: 76202879.71009506\n",
      "Alpha momentum 0.3, learning rate 0.0017 root mean squered error: 8729.426081369556\n"
     ]
    },
    {
     "name": "stderr",
     "output_type": "stream",
     "text": [
      "/home/stas/anaconda3/lib/python3.7/site-packages/sklearn/neural_network/multilayer_perceptron.py:562: ConvergenceWarning: Stochastic Optimizer: Maximum iterations (500) reached and the optimization hasn't converged yet.\n",
      "  % self.max_iter, ConvergenceWarning)\n"
     ]
    },
    {
     "name": "stdout",
     "output_type": "stream",
     "text": [
      "Alpha momentum 0.4, learning rate 0.0017 R2 score: 0.8671404422705598\n",
      "Alpha momentum 0.4, learning rate 0.0017 mean squered error: 76202879.71009506\n",
      "Alpha momentum 0.4, learning rate 0.0017 root mean squered error: 8729.426081369556\n"
     ]
    },
    {
     "name": "stderr",
     "output_type": "stream",
     "text": [
      "/home/stas/anaconda3/lib/python3.7/site-packages/sklearn/neural_network/multilayer_perceptron.py:562: ConvergenceWarning: Stochastic Optimizer: Maximum iterations (500) reached and the optimization hasn't converged yet.\n",
      "  % self.max_iter, ConvergenceWarning)\n"
     ]
    },
    {
     "name": "stdout",
     "output_type": "stream",
     "text": [
      "Alpha momentum 0.5, learning rate 0.0017 R2 score: 0.8671404422705598\n",
      "Alpha momentum 0.5, learning rate 0.0017 mean squered error: 76202879.71009506\n",
      "Alpha momentum 0.5, learning rate 0.0017 root mean squered error: 8729.426081369556\n"
     ]
    },
    {
     "name": "stderr",
     "output_type": "stream",
     "text": [
      "/home/stas/anaconda3/lib/python3.7/site-packages/sklearn/neural_network/multilayer_perceptron.py:562: ConvergenceWarning: Stochastic Optimizer: Maximum iterations (500) reached and the optimization hasn't converged yet.\n",
      "  % self.max_iter, ConvergenceWarning)\n"
     ]
    },
    {
     "name": "stdout",
     "output_type": "stream",
     "text": [
      "Alpha momentum 0.6, learning rate 0.0017 R2 score: 0.8671404422705598\n",
      "Alpha momentum 0.6, learning rate 0.0017 mean squered error: 76202879.71009506\n",
      "Alpha momentum 0.6, learning rate 0.0017 root mean squered error: 8729.426081369556\n"
     ]
    },
    {
     "name": "stderr",
     "output_type": "stream",
     "text": [
      "/home/stas/anaconda3/lib/python3.7/site-packages/sklearn/neural_network/multilayer_perceptron.py:562: ConvergenceWarning: Stochastic Optimizer: Maximum iterations (500) reached and the optimization hasn't converged yet.\n",
      "  % self.max_iter, ConvergenceWarning)\n"
     ]
    },
    {
     "name": "stdout",
     "output_type": "stream",
     "text": [
      "Alpha momentum 0.7, learning rate 0.0017 R2 score: 0.8671404422705598\n",
      "Alpha momentum 0.7, learning rate 0.0017 mean squered error: 76202879.71009506\n",
      "Alpha momentum 0.7, learning rate 0.0017 root mean squered error: 8729.426081369556\n"
     ]
    },
    {
     "name": "stderr",
     "output_type": "stream",
     "text": [
      "/home/stas/anaconda3/lib/python3.7/site-packages/sklearn/neural_network/multilayer_perceptron.py:562: ConvergenceWarning: Stochastic Optimizer: Maximum iterations (500) reached and the optimization hasn't converged yet.\n",
      "  % self.max_iter, ConvergenceWarning)\n"
     ]
    },
    {
     "name": "stdout",
     "output_type": "stream",
     "text": [
      "Alpha momentum 0.8, learning rate 0.0017 R2 score: 0.8671404422705598\n",
      "Alpha momentum 0.8, learning rate 0.0017 mean squered error: 76202879.71009506\n",
      "Alpha momentum 0.8, learning rate 0.0017 root mean squered error: 8729.426081369556\n"
     ]
    },
    {
     "name": "stderr",
     "output_type": "stream",
     "text": [
      "/home/stas/anaconda3/lib/python3.7/site-packages/sklearn/neural_network/multilayer_perceptron.py:562: ConvergenceWarning: Stochastic Optimizer: Maximum iterations (500) reached and the optimization hasn't converged yet.\n",
      "  % self.max_iter, ConvergenceWarning)\n"
     ]
    },
    {
     "name": "stdout",
     "output_type": "stream",
     "text": [
      "Alpha momentum 0.9, learning rate 0.0017 R2 score: 0.8671404422705598\n",
      "Alpha momentum 0.9, learning rate 0.0017 mean squered error: 76202879.71009506\n",
      "Alpha momentum 0.9, learning rate 0.0017 root mean squered error: 8729.426081369556\n"
     ]
    },
    {
     "name": "stderr",
     "output_type": "stream",
     "text": [
      "/home/stas/anaconda3/lib/python3.7/site-packages/sklearn/neural_network/multilayer_perceptron.py:562: ConvergenceWarning: Stochastic Optimizer: Maximum iterations (500) reached and the optimization hasn't converged yet.\n",
      "  % self.max_iter, ConvergenceWarning)\n"
     ]
    },
    {
     "name": "stdout",
     "output_type": "stream",
     "text": [
      "Alpha momentum 0.1, learning rate 0.0018 R2 score: 0.8796534296147481\n",
      "Alpha momentum 0.1, learning rate 0.0018 mean squered error: 65235458.116557226\n",
      "Alpha momentum 0.1, learning rate 0.0018 root mean squered error: 8076.847040557177\n"
     ]
    },
    {
     "name": "stderr",
     "output_type": "stream",
     "text": [
      "/home/stas/anaconda3/lib/python3.7/site-packages/sklearn/neural_network/multilayer_perceptron.py:562: ConvergenceWarning: Stochastic Optimizer: Maximum iterations (500) reached and the optimization hasn't converged yet.\n",
      "  % self.max_iter, ConvergenceWarning)\n"
     ]
    },
    {
     "name": "stdout",
     "output_type": "stream",
     "text": [
      "Alpha momentum 0.2, learning rate 0.0018 R2 score: 0.8796534296147481\n",
      "Alpha momentum 0.2, learning rate 0.0018 mean squered error: 65235458.116557226\n",
      "Alpha momentum 0.2, learning rate 0.0018 root mean squered error: 8076.847040557177\n"
     ]
    },
    {
     "name": "stderr",
     "output_type": "stream",
     "text": [
      "/home/stas/anaconda3/lib/python3.7/site-packages/sklearn/neural_network/multilayer_perceptron.py:562: ConvergenceWarning: Stochastic Optimizer: Maximum iterations (500) reached and the optimization hasn't converged yet.\n",
      "  % self.max_iter, ConvergenceWarning)\n"
     ]
    },
    {
     "name": "stdout",
     "output_type": "stream",
     "text": [
      "Alpha momentum 0.3, learning rate 0.0018 R2 score: 0.8796534296147481\n",
      "Alpha momentum 0.3, learning rate 0.0018 mean squered error: 65235458.116557226\n",
      "Alpha momentum 0.3, learning rate 0.0018 root mean squered error: 8076.847040557177\n"
     ]
    },
    {
     "name": "stderr",
     "output_type": "stream",
     "text": [
      "/home/stas/anaconda3/lib/python3.7/site-packages/sklearn/neural_network/multilayer_perceptron.py:562: ConvergenceWarning: Stochastic Optimizer: Maximum iterations (500) reached and the optimization hasn't converged yet.\n",
      "  % self.max_iter, ConvergenceWarning)\n"
     ]
    },
    {
     "name": "stdout",
     "output_type": "stream",
     "text": [
      "Alpha momentum 0.4, learning rate 0.0018 R2 score: 0.8796534296147481\n",
      "Alpha momentum 0.4, learning rate 0.0018 mean squered error: 65235458.116557226\n",
      "Alpha momentum 0.4, learning rate 0.0018 root mean squered error: 8076.847040557177\n"
     ]
    },
    {
     "name": "stderr",
     "output_type": "stream",
     "text": [
      "/home/stas/anaconda3/lib/python3.7/site-packages/sklearn/neural_network/multilayer_perceptron.py:562: ConvergenceWarning: Stochastic Optimizer: Maximum iterations (500) reached and the optimization hasn't converged yet.\n",
      "  % self.max_iter, ConvergenceWarning)\n"
     ]
    },
    {
     "name": "stdout",
     "output_type": "stream",
     "text": [
      "Alpha momentum 0.5, learning rate 0.0018 R2 score: 0.8796534296147481\n",
      "Alpha momentum 0.5, learning rate 0.0018 mean squered error: 65235458.116557226\n",
      "Alpha momentum 0.5, learning rate 0.0018 root mean squered error: 8076.847040557177\n"
     ]
    },
    {
     "name": "stderr",
     "output_type": "stream",
     "text": [
      "/home/stas/anaconda3/lib/python3.7/site-packages/sklearn/neural_network/multilayer_perceptron.py:562: ConvergenceWarning: Stochastic Optimizer: Maximum iterations (500) reached and the optimization hasn't converged yet.\n",
      "  % self.max_iter, ConvergenceWarning)\n"
     ]
    },
    {
     "name": "stdout",
     "output_type": "stream",
     "text": [
      "Alpha momentum 0.6, learning rate 0.0018 R2 score: 0.8796534296147481\n",
      "Alpha momentum 0.6, learning rate 0.0018 mean squered error: 65235458.116557226\n",
      "Alpha momentum 0.6, learning rate 0.0018 root mean squered error: 8076.847040557177\n"
     ]
    },
    {
     "name": "stderr",
     "output_type": "stream",
     "text": [
      "/home/stas/anaconda3/lib/python3.7/site-packages/sklearn/neural_network/multilayer_perceptron.py:562: ConvergenceWarning: Stochastic Optimizer: Maximum iterations (500) reached and the optimization hasn't converged yet.\n",
      "  % self.max_iter, ConvergenceWarning)\n"
     ]
    },
    {
     "name": "stdout",
     "output_type": "stream",
     "text": [
      "Alpha momentum 0.7, learning rate 0.0018 R2 score: 0.8796534296147481\n",
      "Alpha momentum 0.7, learning rate 0.0018 mean squered error: 65235458.116557226\n",
      "Alpha momentum 0.7, learning rate 0.0018 root mean squered error: 8076.847040557177\n"
     ]
    },
    {
     "name": "stderr",
     "output_type": "stream",
     "text": [
      "/home/stas/anaconda3/lib/python3.7/site-packages/sklearn/neural_network/multilayer_perceptron.py:562: ConvergenceWarning: Stochastic Optimizer: Maximum iterations (500) reached and the optimization hasn't converged yet.\n",
      "  % self.max_iter, ConvergenceWarning)\n"
     ]
    },
    {
     "name": "stdout",
     "output_type": "stream",
     "text": [
      "Alpha momentum 0.8, learning rate 0.0018 R2 score: 0.8796534296147481\n",
      "Alpha momentum 0.8, learning rate 0.0018 mean squered error: 65235458.116557226\n",
      "Alpha momentum 0.8, learning rate 0.0018 root mean squered error: 8076.847040557177\n"
     ]
    },
    {
     "name": "stderr",
     "output_type": "stream",
     "text": [
      "/home/stas/anaconda3/lib/python3.7/site-packages/sklearn/neural_network/multilayer_perceptron.py:562: ConvergenceWarning: Stochastic Optimizer: Maximum iterations (500) reached and the optimization hasn't converged yet.\n",
      "  % self.max_iter, ConvergenceWarning)\n"
     ]
    },
    {
     "name": "stdout",
     "output_type": "stream",
     "text": [
      "Alpha momentum 0.9, learning rate 0.0018 R2 score: 0.8796534296147481\n",
      "Alpha momentum 0.9, learning rate 0.0018 mean squered error: 65235458.116557226\n",
      "Alpha momentum 0.9, learning rate 0.0018 root mean squered error: 8076.847040557177\n"
     ]
    },
    {
     "name": "stderr",
     "output_type": "stream",
     "text": [
      "/home/stas/anaconda3/lib/python3.7/site-packages/sklearn/neural_network/multilayer_perceptron.py:562: ConvergenceWarning: Stochastic Optimizer: Maximum iterations (500) reached and the optimization hasn't converged yet.\n",
      "  % self.max_iter, ConvergenceWarning)\n"
     ]
    },
    {
     "name": "stdout",
     "output_type": "stream",
     "text": [
      "Alpha momentum 0.1, learning rate 0.0019 R2 score: 0.8930829855866506\n",
      "Alpha momentum 0.1, learning rate 0.0019 mean squered error: 56934384.67845316\n",
      "Alpha momentum 0.1, learning rate 0.0019 root mean squered error: 7545.487703154327\n"
     ]
    },
    {
     "name": "stderr",
     "output_type": "stream",
     "text": [
      "/home/stas/anaconda3/lib/python3.7/site-packages/sklearn/neural_network/multilayer_perceptron.py:562: ConvergenceWarning: Stochastic Optimizer: Maximum iterations (500) reached and the optimization hasn't converged yet.\n",
      "  % self.max_iter, ConvergenceWarning)\n"
     ]
    },
    {
     "name": "stdout",
     "output_type": "stream",
     "text": [
      "Alpha momentum 0.2, learning rate 0.0019 R2 score: 0.8930829855866506\n",
      "Alpha momentum 0.2, learning rate 0.0019 mean squered error: 56934384.67845316\n",
      "Alpha momentum 0.2, learning rate 0.0019 root mean squered error: 7545.487703154327\n"
     ]
    },
    {
     "name": "stderr",
     "output_type": "stream",
     "text": [
      "/home/stas/anaconda3/lib/python3.7/site-packages/sklearn/neural_network/multilayer_perceptron.py:562: ConvergenceWarning: Stochastic Optimizer: Maximum iterations (500) reached and the optimization hasn't converged yet.\n",
      "  % self.max_iter, ConvergenceWarning)\n"
     ]
    },
    {
     "name": "stdout",
     "output_type": "stream",
     "text": [
      "Alpha momentum 0.3, learning rate 0.0019 R2 score: 0.8930829855866506\n",
      "Alpha momentum 0.3, learning rate 0.0019 mean squered error: 56934384.67845316\n",
      "Alpha momentum 0.3, learning rate 0.0019 root mean squered error: 7545.487703154327\n"
     ]
    },
    {
     "name": "stderr",
     "output_type": "stream",
     "text": [
      "/home/stas/anaconda3/lib/python3.7/site-packages/sklearn/neural_network/multilayer_perceptron.py:562: ConvergenceWarning: Stochastic Optimizer: Maximum iterations (500) reached and the optimization hasn't converged yet.\n",
      "  % self.max_iter, ConvergenceWarning)\n"
     ]
    },
    {
     "name": "stdout",
     "output_type": "stream",
     "text": [
      "Alpha momentum 0.4, learning rate 0.0019 R2 score: 0.8930829855866506\n",
      "Alpha momentum 0.4, learning rate 0.0019 mean squered error: 56934384.67845316\n",
      "Alpha momentum 0.4, learning rate 0.0019 root mean squered error: 7545.487703154327\n"
     ]
    },
    {
     "name": "stderr",
     "output_type": "stream",
     "text": [
      "/home/stas/anaconda3/lib/python3.7/site-packages/sklearn/neural_network/multilayer_perceptron.py:562: ConvergenceWarning: Stochastic Optimizer: Maximum iterations (500) reached and the optimization hasn't converged yet.\n",
      "  % self.max_iter, ConvergenceWarning)\n"
     ]
    },
    {
     "name": "stdout",
     "output_type": "stream",
     "text": [
      "Alpha momentum 0.5, learning rate 0.0019 R2 score: 0.8930829855866506\n",
      "Alpha momentum 0.5, learning rate 0.0019 mean squered error: 56934384.67845316\n",
      "Alpha momentum 0.5, learning rate 0.0019 root mean squered error: 7545.487703154327\n"
     ]
    },
    {
     "name": "stderr",
     "output_type": "stream",
     "text": [
      "/home/stas/anaconda3/lib/python3.7/site-packages/sklearn/neural_network/multilayer_perceptron.py:562: ConvergenceWarning: Stochastic Optimizer: Maximum iterations (500) reached and the optimization hasn't converged yet.\n",
      "  % self.max_iter, ConvergenceWarning)\n"
     ]
    },
    {
     "name": "stdout",
     "output_type": "stream",
     "text": [
      "Alpha momentum 0.6, learning rate 0.0019 R2 score: 0.8930829855866506\n",
      "Alpha momentum 0.6, learning rate 0.0019 mean squered error: 56934384.67845316\n",
      "Alpha momentum 0.6, learning rate 0.0019 root mean squered error: 7545.487703154327\n"
     ]
    },
    {
     "name": "stderr",
     "output_type": "stream",
     "text": [
      "/home/stas/anaconda3/lib/python3.7/site-packages/sklearn/neural_network/multilayer_perceptron.py:562: ConvergenceWarning: Stochastic Optimizer: Maximum iterations (500) reached and the optimization hasn't converged yet.\n",
      "  % self.max_iter, ConvergenceWarning)\n"
     ]
    },
    {
     "name": "stdout",
     "output_type": "stream",
     "text": [
      "Alpha momentum 0.7, learning rate 0.0019 R2 score: 0.8930829855866506\n",
      "Alpha momentum 0.7, learning rate 0.0019 mean squered error: 56934384.67845316\n",
      "Alpha momentum 0.7, learning rate 0.0019 root mean squered error: 7545.487703154327\n"
     ]
    },
    {
     "name": "stderr",
     "output_type": "stream",
     "text": [
      "/home/stas/anaconda3/lib/python3.7/site-packages/sklearn/neural_network/multilayer_perceptron.py:562: ConvergenceWarning: Stochastic Optimizer: Maximum iterations (500) reached and the optimization hasn't converged yet.\n",
      "  % self.max_iter, ConvergenceWarning)\n"
     ]
    },
    {
     "name": "stdout",
     "output_type": "stream",
     "text": [
      "Alpha momentum 0.8, learning rate 0.0019 R2 score: 0.8930829855866506\n",
      "Alpha momentum 0.8, learning rate 0.0019 mean squered error: 56934384.67845316\n",
      "Alpha momentum 0.8, learning rate 0.0019 root mean squered error: 7545.487703154327\n"
     ]
    },
    {
     "name": "stderr",
     "output_type": "stream",
     "text": [
      "/home/stas/anaconda3/lib/python3.7/site-packages/sklearn/neural_network/multilayer_perceptron.py:562: ConvergenceWarning: Stochastic Optimizer: Maximum iterations (500) reached and the optimization hasn't converged yet.\n",
      "  % self.max_iter, ConvergenceWarning)\n"
     ]
    },
    {
     "name": "stdout",
     "output_type": "stream",
     "text": [
      "Alpha momentum 0.9, learning rate 0.0019 R2 score: 0.8930829855866506\n",
      "Alpha momentum 0.9, learning rate 0.0019 mean squered error: 56934384.67845316\n",
      "Alpha momentum 0.9, learning rate 0.0019 root mean squered error: 7545.487703154327\n"
     ]
    },
    {
     "name": "stderr",
     "output_type": "stream",
     "text": [
      "/home/stas/anaconda3/lib/python3.7/site-packages/sklearn/neural_network/multilayer_perceptron.py:562: ConvergenceWarning: Stochastic Optimizer: Maximum iterations (500) reached and the optimization hasn't converged yet.\n",
      "  % self.max_iter, ConvergenceWarning)\n"
     ]
    },
    {
     "name": "stdout",
     "output_type": "stream",
     "text": [
      "Alpha momentum 0.1, learning rate 0.002 R2 score: 0.9013944174005497\n",
      "Alpha momentum 0.1, learning rate 0.002 mean squered error: 52257935.75077795\n",
      "Alpha momentum 0.1, learning rate 0.002 root mean squered error: 7228.965053918711\n"
     ]
    },
    {
     "name": "stderr",
     "output_type": "stream",
     "text": [
      "/home/stas/anaconda3/lib/python3.7/site-packages/sklearn/neural_network/multilayer_perceptron.py:562: ConvergenceWarning: Stochastic Optimizer: Maximum iterations (500) reached and the optimization hasn't converged yet.\n",
      "  % self.max_iter, ConvergenceWarning)\n"
     ]
    },
    {
     "name": "stdout",
     "output_type": "stream",
     "text": [
      "Alpha momentum 0.2, learning rate 0.002 R2 score: 0.9013944174005497\n",
      "Alpha momentum 0.2, learning rate 0.002 mean squered error: 52257935.75077795\n",
      "Alpha momentum 0.2, learning rate 0.002 root mean squered error: 7228.965053918711\n"
     ]
    },
    {
     "name": "stderr",
     "output_type": "stream",
     "text": [
      "/home/stas/anaconda3/lib/python3.7/site-packages/sklearn/neural_network/multilayer_perceptron.py:562: ConvergenceWarning: Stochastic Optimizer: Maximum iterations (500) reached and the optimization hasn't converged yet.\n",
      "  % self.max_iter, ConvergenceWarning)\n"
     ]
    },
    {
     "name": "stdout",
     "output_type": "stream",
     "text": [
      "Alpha momentum 0.3, learning rate 0.002 R2 score: 0.9013944174005497\n",
      "Alpha momentum 0.3, learning rate 0.002 mean squered error: 52257935.75077795\n",
      "Alpha momentum 0.3, learning rate 0.002 root mean squered error: 7228.965053918711\n"
     ]
    },
    {
     "name": "stderr",
     "output_type": "stream",
     "text": [
      "/home/stas/anaconda3/lib/python3.7/site-packages/sklearn/neural_network/multilayer_perceptron.py:562: ConvergenceWarning: Stochastic Optimizer: Maximum iterations (500) reached and the optimization hasn't converged yet.\n",
      "  % self.max_iter, ConvergenceWarning)\n"
     ]
    },
    {
     "name": "stdout",
     "output_type": "stream",
     "text": [
      "Alpha momentum 0.4, learning rate 0.002 R2 score: 0.9013944174005497\n",
      "Alpha momentum 0.4, learning rate 0.002 mean squered error: 52257935.75077795\n",
      "Alpha momentum 0.4, learning rate 0.002 root mean squered error: 7228.965053918711\n"
     ]
    },
    {
     "name": "stderr",
     "output_type": "stream",
     "text": [
      "/home/stas/anaconda3/lib/python3.7/site-packages/sklearn/neural_network/multilayer_perceptron.py:562: ConvergenceWarning: Stochastic Optimizer: Maximum iterations (500) reached and the optimization hasn't converged yet.\n",
      "  % self.max_iter, ConvergenceWarning)\n"
     ]
    },
    {
     "name": "stdout",
     "output_type": "stream",
     "text": [
      "Alpha momentum 0.5, learning rate 0.002 R2 score: 0.9013944174005497\n",
      "Alpha momentum 0.5, learning rate 0.002 mean squered error: 52257935.75077795\n",
      "Alpha momentum 0.5, learning rate 0.002 root mean squered error: 7228.965053918711\n"
     ]
    },
    {
     "name": "stderr",
     "output_type": "stream",
     "text": [
      "/home/stas/anaconda3/lib/python3.7/site-packages/sklearn/neural_network/multilayer_perceptron.py:562: ConvergenceWarning: Stochastic Optimizer: Maximum iterations (500) reached and the optimization hasn't converged yet.\n",
      "  % self.max_iter, ConvergenceWarning)\n"
     ]
    },
    {
     "name": "stdout",
     "output_type": "stream",
     "text": [
      "Alpha momentum 0.6, learning rate 0.002 R2 score: 0.9013944174005497\n",
      "Alpha momentum 0.6, learning rate 0.002 mean squered error: 52257935.75077795\n",
      "Alpha momentum 0.6, learning rate 0.002 root mean squered error: 7228.965053918711\n"
     ]
    },
    {
     "name": "stderr",
     "output_type": "stream",
     "text": [
      "/home/stas/anaconda3/lib/python3.7/site-packages/sklearn/neural_network/multilayer_perceptron.py:562: ConvergenceWarning: Stochastic Optimizer: Maximum iterations (500) reached and the optimization hasn't converged yet.\n",
      "  % self.max_iter, ConvergenceWarning)\n"
     ]
    },
    {
     "name": "stdout",
     "output_type": "stream",
     "text": [
      "Alpha momentum 0.7, learning rate 0.002 R2 score: 0.9013944174005497\n",
      "Alpha momentum 0.7, learning rate 0.002 mean squered error: 52257935.75077795\n",
      "Alpha momentum 0.7, learning rate 0.002 root mean squered error: 7228.965053918711\n"
     ]
    },
    {
     "name": "stderr",
     "output_type": "stream",
     "text": [
      "/home/stas/anaconda3/lib/python3.7/site-packages/sklearn/neural_network/multilayer_perceptron.py:562: ConvergenceWarning: Stochastic Optimizer: Maximum iterations (500) reached and the optimization hasn't converged yet.\n",
      "  % self.max_iter, ConvergenceWarning)\n"
     ]
    },
    {
     "name": "stdout",
     "output_type": "stream",
     "text": [
      "Alpha momentum 0.8, learning rate 0.002 R2 score: 0.9013944174005497\n",
      "Alpha momentum 0.8, learning rate 0.002 mean squered error: 52257935.75077795\n",
      "Alpha momentum 0.8, learning rate 0.002 root mean squered error: 7228.965053918711\n"
     ]
    },
    {
     "name": "stderr",
     "output_type": "stream",
     "text": [
      "/home/stas/anaconda3/lib/python3.7/site-packages/sklearn/neural_network/multilayer_perceptron.py:562: ConvergenceWarning: Stochastic Optimizer: Maximum iterations (500) reached and the optimization hasn't converged yet.\n",
      "  % self.max_iter, ConvergenceWarning)\n"
     ]
    },
    {
     "name": "stdout",
     "output_type": "stream",
     "text": [
      "Alpha momentum 0.9, learning rate 0.002 R2 score: 0.9013944174005497\n",
      "Alpha momentum 0.9, learning rate 0.002 mean squered error: 52257935.75077795\n",
      "Alpha momentum 0.9, learning rate 0.002 root mean squered error: 7228.965053918711\n"
     ]
    },
    {
     "name": "stderr",
     "output_type": "stream",
     "text": [
      "/home/stas/anaconda3/lib/python3.7/site-packages/sklearn/neural_network/multilayer_perceptron.py:562: ConvergenceWarning: Stochastic Optimizer: Maximum iterations (500) reached and the optimization hasn't converged yet.\n",
      "  % self.max_iter, ConvergenceWarning)\n"
     ]
    },
    {
     "name": "stdout",
     "output_type": "stream",
     "text": [
      "Alpha momentum 0.1, learning rate 0.0021 R2 score: 0.9081206498638965\n",
      "Alpha momentum 0.1, learning rate 0.0021 mean squered error: 48679721.461207196\n",
      "Alpha momentum 0.1, learning rate 0.0021 root mean squered error: 6977.085456063097\n"
     ]
    },
    {
     "name": "stderr",
     "output_type": "stream",
     "text": [
      "/home/stas/anaconda3/lib/python3.7/site-packages/sklearn/neural_network/multilayer_perceptron.py:562: ConvergenceWarning: Stochastic Optimizer: Maximum iterations (500) reached and the optimization hasn't converged yet.\n",
      "  % self.max_iter, ConvergenceWarning)\n"
     ]
    },
    {
     "name": "stdout",
     "output_type": "stream",
     "text": [
      "Alpha momentum 0.2, learning rate 0.0021 R2 score: 0.9081206498638965\n",
      "Alpha momentum 0.2, learning rate 0.0021 mean squered error: 48679721.461207196\n",
      "Alpha momentum 0.2, learning rate 0.0021 root mean squered error: 6977.085456063097\n"
     ]
    },
    {
     "name": "stderr",
     "output_type": "stream",
     "text": [
      "/home/stas/anaconda3/lib/python3.7/site-packages/sklearn/neural_network/multilayer_perceptron.py:562: ConvergenceWarning: Stochastic Optimizer: Maximum iterations (500) reached and the optimization hasn't converged yet.\n",
      "  % self.max_iter, ConvergenceWarning)\n"
     ]
    },
    {
     "name": "stdout",
     "output_type": "stream",
     "text": [
      "Alpha momentum 0.3, learning rate 0.0021 R2 score: 0.9081206498638965\n",
      "Alpha momentum 0.3, learning rate 0.0021 mean squered error: 48679721.461207196\n",
      "Alpha momentum 0.3, learning rate 0.0021 root mean squered error: 6977.085456063097\n"
     ]
    },
    {
     "name": "stderr",
     "output_type": "stream",
     "text": [
      "/home/stas/anaconda3/lib/python3.7/site-packages/sklearn/neural_network/multilayer_perceptron.py:562: ConvergenceWarning: Stochastic Optimizer: Maximum iterations (500) reached and the optimization hasn't converged yet.\n",
      "  % self.max_iter, ConvergenceWarning)\n"
     ]
    },
    {
     "name": "stdout",
     "output_type": "stream",
     "text": [
      "Alpha momentum 0.4, learning rate 0.0021 R2 score: 0.9081206498638965\n",
      "Alpha momentum 0.4, learning rate 0.0021 mean squered error: 48679721.461207196\n",
      "Alpha momentum 0.4, learning rate 0.0021 root mean squered error: 6977.085456063097\n"
     ]
    },
    {
     "name": "stderr",
     "output_type": "stream",
     "text": [
      "/home/stas/anaconda3/lib/python3.7/site-packages/sklearn/neural_network/multilayer_perceptron.py:562: ConvergenceWarning: Stochastic Optimizer: Maximum iterations (500) reached and the optimization hasn't converged yet.\n",
      "  % self.max_iter, ConvergenceWarning)\n"
     ]
    },
    {
     "name": "stdout",
     "output_type": "stream",
     "text": [
      "Alpha momentum 0.5, learning rate 0.0021 R2 score: 0.9081206498638965\n",
      "Alpha momentum 0.5, learning rate 0.0021 mean squered error: 48679721.461207196\n",
      "Alpha momentum 0.5, learning rate 0.0021 root mean squered error: 6977.085456063097\n"
     ]
    },
    {
     "name": "stderr",
     "output_type": "stream",
     "text": [
      "/home/stas/anaconda3/lib/python3.7/site-packages/sklearn/neural_network/multilayer_perceptron.py:562: ConvergenceWarning: Stochastic Optimizer: Maximum iterations (500) reached and the optimization hasn't converged yet.\n",
      "  % self.max_iter, ConvergenceWarning)\n"
     ]
    },
    {
     "name": "stdout",
     "output_type": "stream",
     "text": [
      "Alpha momentum 0.6, learning rate 0.0021 R2 score: 0.9081206498638965\n",
      "Alpha momentum 0.6, learning rate 0.0021 mean squered error: 48679721.461207196\n",
      "Alpha momentum 0.6, learning rate 0.0021 root mean squered error: 6977.085456063097\n"
     ]
    },
    {
     "name": "stderr",
     "output_type": "stream",
     "text": [
      "/home/stas/anaconda3/lib/python3.7/site-packages/sklearn/neural_network/multilayer_perceptron.py:562: ConvergenceWarning: Stochastic Optimizer: Maximum iterations (500) reached and the optimization hasn't converged yet.\n",
      "  % self.max_iter, ConvergenceWarning)\n"
     ]
    },
    {
     "name": "stdout",
     "output_type": "stream",
     "text": [
      "Alpha momentum 0.7, learning rate 0.0021 R2 score: 0.9081206498638965\n",
      "Alpha momentum 0.7, learning rate 0.0021 mean squered error: 48679721.461207196\n",
      "Alpha momentum 0.7, learning rate 0.0021 root mean squered error: 6977.085456063097\n"
     ]
    },
    {
     "name": "stderr",
     "output_type": "stream",
     "text": [
      "/home/stas/anaconda3/lib/python3.7/site-packages/sklearn/neural_network/multilayer_perceptron.py:562: ConvergenceWarning: Stochastic Optimizer: Maximum iterations (500) reached and the optimization hasn't converged yet.\n",
      "  % self.max_iter, ConvergenceWarning)\n"
     ]
    },
    {
     "name": "stdout",
     "output_type": "stream",
     "text": [
      "Alpha momentum 0.8, learning rate 0.0021 R2 score: 0.9081206498638965\n",
      "Alpha momentum 0.8, learning rate 0.0021 mean squered error: 48679721.461207196\n",
      "Alpha momentum 0.8, learning rate 0.0021 root mean squered error: 6977.085456063097\n"
     ]
    },
    {
     "name": "stderr",
     "output_type": "stream",
     "text": [
      "/home/stas/anaconda3/lib/python3.7/site-packages/sklearn/neural_network/multilayer_perceptron.py:562: ConvergenceWarning: Stochastic Optimizer: Maximum iterations (500) reached and the optimization hasn't converged yet.\n",
      "  % self.max_iter, ConvergenceWarning)\n"
     ]
    },
    {
     "name": "stdout",
     "output_type": "stream",
     "text": [
      "Alpha momentum 0.9, learning rate 0.0021 R2 score: 0.9081206498638965\n",
      "Alpha momentum 0.9, learning rate 0.0021 mean squered error: 48679721.461207196\n",
      "Alpha momentum 0.9, learning rate 0.0021 root mean squered error: 6977.085456063097\n"
     ]
    },
    {
     "name": "stderr",
     "output_type": "stream",
     "text": [
      "/home/stas/anaconda3/lib/python3.7/site-packages/sklearn/neural_network/multilayer_perceptron.py:562: ConvergenceWarning: Stochastic Optimizer: Maximum iterations (500) reached and the optimization hasn't converged yet.\n",
      "  % self.max_iter, ConvergenceWarning)\n"
     ]
    },
    {
     "name": "stdout",
     "output_type": "stream",
     "text": [
      "Alpha momentum 0.1, learning rate 0.0022 R2 score: 0.9131267996433334\n",
      "Alpha momentum 0.1, learning rate 0.0022 mean squered error: 45032919.38048823\n",
      "Alpha momentum 0.1, learning rate 0.0022 root mean squered error: 6710.6571496753\n"
     ]
    },
    {
     "name": "stderr",
     "output_type": "stream",
     "text": [
      "/home/stas/anaconda3/lib/python3.7/site-packages/sklearn/neural_network/multilayer_perceptron.py:562: ConvergenceWarning: Stochastic Optimizer: Maximum iterations (500) reached and the optimization hasn't converged yet.\n",
      "  % self.max_iter, ConvergenceWarning)\n"
     ]
    },
    {
     "name": "stdout",
     "output_type": "stream",
     "text": [
      "Alpha momentum 0.2, learning rate 0.0022 R2 score: 0.9131267996433334\n",
      "Alpha momentum 0.2, learning rate 0.0022 mean squered error: 45032919.38048823\n",
      "Alpha momentum 0.2, learning rate 0.0022 root mean squered error: 6710.6571496753\n"
     ]
    },
    {
     "name": "stderr",
     "output_type": "stream",
     "text": [
      "/home/stas/anaconda3/lib/python3.7/site-packages/sklearn/neural_network/multilayer_perceptron.py:562: ConvergenceWarning: Stochastic Optimizer: Maximum iterations (500) reached and the optimization hasn't converged yet.\n",
      "  % self.max_iter, ConvergenceWarning)\n"
     ]
    },
    {
     "name": "stdout",
     "output_type": "stream",
     "text": [
      "Alpha momentum 0.3, learning rate 0.0022 R2 score: 0.9131267996433334\n",
      "Alpha momentum 0.3, learning rate 0.0022 mean squered error: 45032919.38048823\n",
      "Alpha momentum 0.3, learning rate 0.0022 root mean squered error: 6710.6571496753\n"
     ]
    },
    {
     "name": "stderr",
     "output_type": "stream",
     "text": [
      "/home/stas/anaconda3/lib/python3.7/site-packages/sklearn/neural_network/multilayer_perceptron.py:562: ConvergenceWarning: Stochastic Optimizer: Maximum iterations (500) reached and the optimization hasn't converged yet.\n",
      "  % self.max_iter, ConvergenceWarning)\n"
     ]
    },
    {
     "name": "stdout",
     "output_type": "stream",
     "text": [
      "Alpha momentum 0.4, learning rate 0.0022 R2 score: 0.9131267996433334\n",
      "Alpha momentum 0.4, learning rate 0.0022 mean squered error: 45032919.38048823\n",
      "Alpha momentum 0.4, learning rate 0.0022 root mean squered error: 6710.6571496753\n"
     ]
    },
    {
     "name": "stderr",
     "output_type": "stream",
     "text": [
      "/home/stas/anaconda3/lib/python3.7/site-packages/sklearn/neural_network/multilayer_perceptron.py:562: ConvergenceWarning: Stochastic Optimizer: Maximum iterations (500) reached and the optimization hasn't converged yet.\n",
      "  % self.max_iter, ConvergenceWarning)\n"
     ]
    },
    {
     "name": "stdout",
     "output_type": "stream",
     "text": [
      "Alpha momentum 0.5, learning rate 0.0022 R2 score: 0.9131267996433334\n",
      "Alpha momentum 0.5, learning rate 0.0022 mean squered error: 45032919.38048823\n",
      "Alpha momentum 0.5, learning rate 0.0022 root mean squered error: 6710.6571496753\n"
     ]
    },
    {
     "name": "stderr",
     "output_type": "stream",
     "text": [
      "/home/stas/anaconda3/lib/python3.7/site-packages/sklearn/neural_network/multilayer_perceptron.py:562: ConvergenceWarning: Stochastic Optimizer: Maximum iterations (500) reached and the optimization hasn't converged yet.\n",
      "  % self.max_iter, ConvergenceWarning)\n"
     ]
    },
    {
     "name": "stdout",
     "output_type": "stream",
     "text": [
      "Alpha momentum 0.6, learning rate 0.0022 R2 score: 0.9131267996433334\n",
      "Alpha momentum 0.6, learning rate 0.0022 mean squered error: 45032919.38048823\n",
      "Alpha momentum 0.6, learning rate 0.0022 root mean squered error: 6710.6571496753\n"
     ]
    },
    {
     "name": "stderr",
     "output_type": "stream",
     "text": [
      "/home/stas/anaconda3/lib/python3.7/site-packages/sklearn/neural_network/multilayer_perceptron.py:562: ConvergenceWarning: Stochastic Optimizer: Maximum iterations (500) reached and the optimization hasn't converged yet.\n",
      "  % self.max_iter, ConvergenceWarning)\n"
     ]
    },
    {
     "name": "stdout",
     "output_type": "stream",
     "text": [
      "Alpha momentum 0.7, learning rate 0.0022 R2 score: 0.9131267996433334\n",
      "Alpha momentum 0.7, learning rate 0.0022 mean squered error: 45032919.38048823\n",
      "Alpha momentum 0.7, learning rate 0.0022 root mean squered error: 6710.6571496753\n"
     ]
    },
    {
     "name": "stderr",
     "output_type": "stream",
     "text": [
      "/home/stas/anaconda3/lib/python3.7/site-packages/sklearn/neural_network/multilayer_perceptron.py:562: ConvergenceWarning: Stochastic Optimizer: Maximum iterations (500) reached and the optimization hasn't converged yet.\n",
      "  % self.max_iter, ConvergenceWarning)\n"
     ]
    },
    {
     "name": "stdout",
     "output_type": "stream",
     "text": [
      "Alpha momentum 0.8, learning rate 0.0022 R2 score: 0.9131267996433334\n",
      "Alpha momentum 0.8, learning rate 0.0022 mean squered error: 45032919.38048823\n",
      "Alpha momentum 0.8, learning rate 0.0022 root mean squered error: 6710.6571496753\n"
     ]
    },
    {
     "name": "stderr",
     "output_type": "stream",
     "text": [
      "/home/stas/anaconda3/lib/python3.7/site-packages/sklearn/neural_network/multilayer_perceptron.py:562: ConvergenceWarning: Stochastic Optimizer: Maximum iterations (500) reached and the optimization hasn't converged yet.\n",
      "  % self.max_iter, ConvergenceWarning)\n"
     ]
    },
    {
     "name": "stdout",
     "output_type": "stream",
     "text": [
      "Alpha momentum 0.9, learning rate 0.0022 R2 score: 0.9131267996433334\n",
      "Alpha momentum 0.9, learning rate 0.0022 mean squered error: 45032919.38048823\n",
      "Alpha momentum 0.9, learning rate 0.0022 root mean squered error: 6710.6571496753\n"
     ]
    },
    {
     "name": "stderr",
     "output_type": "stream",
     "text": [
      "/home/stas/anaconda3/lib/python3.7/site-packages/sklearn/neural_network/multilayer_perceptron.py:562: ConvergenceWarning: Stochastic Optimizer: Maximum iterations (500) reached and the optimization hasn't converged yet.\n",
      "  % self.max_iter, ConvergenceWarning)\n"
     ]
    },
    {
     "name": "stdout",
     "output_type": "stream",
     "text": [
      "Alpha momentum 0.1, learning rate 0.0023 R2 score: 0.9214026853467775\n",
      "Alpha momentum 0.1, learning rate 0.0023 mean squered error: 40045119.987012744\n",
      "Alpha momentum 0.1, learning rate 0.0023 root mean squered error: 6328.121363170332\n"
     ]
    },
    {
     "name": "stderr",
     "output_type": "stream",
     "text": [
      "/home/stas/anaconda3/lib/python3.7/site-packages/sklearn/neural_network/multilayer_perceptron.py:562: ConvergenceWarning: Stochastic Optimizer: Maximum iterations (500) reached and the optimization hasn't converged yet.\n",
      "  % self.max_iter, ConvergenceWarning)\n"
     ]
    },
    {
     "name": "stdout",
     "output_type": "stream",
     "text": [
      "Alpha momentum 0.2, learning rate 0.0023 R2 score: 0.9214026853467775\n",
      "Alpha momentum 0.2, learning rate 0.0023 mean squered error: 40045119.987012744\n",
      "Alpha momentum 0.2, learning rate 0.0023 root mean squered error: 6328.121363170332\n"
     ]
    },
    {
     "name": "stderr",
     "output_type": "stream",
     "text": [
      "/home/stas/anaconda3/lib/python3.7/site-packages/sklearn/neural_network/multilayer_perceptron.py:562: ConvergenceWarning: Stochastic Optimizer: Maximum iterations (500) reached and the optimization hasn't converged yet.\n",
      "  % self.max_iter, ConvergenceWarning)\n"
     ]
    },
    {
     "name": "stdout",
     "output_type": "stream",
     "text": [
      "Alpha momentum 0.3, learning rate 0.0023 R2 score: 0.9214026853467775\n",
      "Alpha momentum 0.3, learning rate 0.0023 mean squered error: 40045119.987012744\n",
      "Alpha momentum 0.3, learning rate 0.0023 root mean squered error: 6328.121363170332\n"
     ]
    },
    {
     "name": "stderr",
     "output_type": "stream",
     "text": [
      "/home/stas/anaconda3/lib/python3.7/site-packages/sklearn/neural_network/multilayer_perceptron.py:562: ConvergenceWarning: Stochastic Optimizer: Maximum iterations (500) reached and the optimization hasn't converged yet.\n",
      "  % self.max_iter, ConvergenceWarning)\n"
     ]
    },
    {
     "name": "stdout",
     "output_type": "stream",
     "text": [
      "Alpha momentum 0.4, learning rate 0.0023 R2 score: 0.9214026853467775\n",
      "Alpha momentum 0.4, learning rate 0.0023 mean squered error: 40045119.987012744\n",
      "Alpha momentum 0.4, learning rate 0.0023 root mean squered error: 6328.121363170332\n"
     ]
    },
    {
     "name": "stderr",
     "output_type": "stream",
     "text": [
      "/home/stas/anaconda3/lib/python3.7/site-packages/sklearn/neural_network/multilayer_perceptron.py:562: ConvergenceWarning: Stochastic Optimizer: Maximum iterations (500) reached and the optimization hasn't converged yet.\n",
      "  % self.max_iter, ConvergenceWarning)\n"
     ]
    },
    {
     "name": "stdout",
     "output_type": "stream",
     "text": [
      "Alpha momentum 0.5, learning rate 0.0023 R2 score: 0.9214026853467775\n",
      "Alpha momentum 0.5, learning rate 0.0023 mean squered error: 40045119.987012744\n",
      "Alpha momentum 0.5, learning rate 0.0023 root mean squered error: 6328.121363170332\n"
     ]
    },
    {
     "name": "stderr",
     "output_type": "stream",
     "text": [
      "/home/stas/anaconda3/lib/python3.7/site-packages/sklearn/neural_network/multilayer_perceptron.py:562: ConvergenceWarning: Stochastic Optimizer: Maximum iterations (500) reached and the optimization hasn't converged yet.\n",
      "  % self.max_iter, ConvergenceWarning)\n"
     ]
    },
    {
     "name": "stdout",
     "output_type": "stream",
     "text": [
      "Alpha momentum 0.6, learning rate 0.0023 R2 score: 0.9214026853467775\n",
      "Alpha momentum 0.6, learning rate 0.0023 mean squered error: 40045119.987012744\n",
      "Alpha momentum 0.6, learning rate 0.0023 root mean squered error: 6328.121363170332\n"
     ]
    },
    {
     "name": "stderr",
     "output_type": "stream",
     "text": [
      "/home/stas/anaconda3/lib/python3.7/site-packages/sklearn/neural_network/multilayer_perceptron.py:562: ConvergenceWarning: Stochastic Optimizer: Maximum iterations (500) reached and the optimization hasn't converged yet.\n",
      "  % self.max_iter, ConvergenceWarning)\n"
     ]
    },
    {
     "name": "stdout",
     "output_type": "stream",
     "text": [
      "Alpha momentum 0.7, learning rate 0.0023 R2 score: 0.9214026853467775\n",
      "Alpha momentum 0.7, learning rate 0.0023 mean squered error: 40045119.987012744\n",
      "Alpha momentum 0.7, learning rate 0.0023 root mean squered error: 6328.121363170332\n"
     ]
    },
    {
     "name": "stderr",
     "output_type": "stream",
     "text": [
      "/home/stas/anaconda3/lib/python3.7/site-packages/sklearn/neural_network/multilayer_perceptron.py:562: ConvergenceWarning: Stochastic Optimizer: Maximum iterations (500) reached and the optimization hasn't converged yet.\n",
      "  % self.max_iter, ConvergenceWarning)\n"
     ]
    },
    {
     "name": "stdout",
     "output_type": "stream",
     "text": [
      "Alpha momentum 0.8, learning rate 0.0023 R2 score: 0.9214026853467775\n",
      "Alpha momentum 0.8, learning rate 0.0023 mean squered error: 40045119.987012744\n",
      "Alpha momentum 0.8, learning rate 0.0023 root mean squered error: 6328.121363170332\n"
     ]
    },
    {
     "name": "stderr",
     "output_type": "stream",
     "text": [
      "/home/stas/anaconda3/lib/python3.7/site-packages/sklearn/neural_network/multilayer_perceptron.py:562: ConvergenceWarning: Stochastic Optimizer: Maximum iterations (500) reached and the optimization hasn't converged yet.\n",
      "  % self.max_iter, ConvergenceWarning)\n"
     ]
    },
    {
     "name": "stdout",
     "output_type": "stream",
     "text": [
      "Alpha momentum 0.9, learning rate 0.0023 R2 score: 0.9214026853467775\n",
      "Alpha momentum 0.9, learning rate 0.0023 mean squered error: 40045119.987012744\n",
      "Alpha momentum 0.9, learning rate 0.0023 root mean squered error: 6328.121363170332\n"
     ]
    },
    {
     "name": "stderr",
     "output_type": "stream",
     "text": [
      "/home/stas/anaconda3/lib/python3.7/site-packages/sklearn/neural_network/multilayer_perceptron.py:562: ConvergenceWarning: Stochastic Optimizer: Maximum iterations (500) reached and the optimization hasn't converged yet.\n",
      "  % self.max_iter, ConvergenceWarning)\n"
     ]
    },
    {
     "name": "stdout",
     "output_type": "stream",
     "text": [
      "Alpha momentum 0.1, learning rate 0.0024 R2 score: 0.9261434701557258\n",
      "Alpha momentum 0.1, learning rate 0.0024 mean squered error: 37406888.826891616\n",
      "Alpha momentum 0.1, learning rate 0.0024 root mean squered error: 6116.117136459342\n"
     ]
    },
    {
     "name": "stderr",
     "output_type": "stream",
     "text": [
      "/home/stas/anaconda3/lib/python3.7/site-packages/sklearn/neural_network/multilayer_perceptron.py:562: ConvergenceWarning: Stochastic Optimizer: Maximum iterations (500) reached and the optimization hasn't converged yet.\n",
      "  % self.max_iter, ConvergenceWarning)\n"
     ]
    },
    {
     "name": "stdout",
     "output_type": "stream",
     "text": [
      "Alpha momentum 0.2, learning rate 0.0024 R2 score: 0.9261434701557258\n",
      "Alpha momentum 0.2, learning rate 0.0024 mean squered error: 37406888.826891616\n",
      "Alpha momentum 0.2, learning rate 0.0024 root mean squered error: 6116.117136459342\n"
     ]
    },
    {
     "name": "stderr",
     "output_type": "stream",
     "text": [
      "/home/stas/anaconda3/lib/python3.7/site-packages/sklearn/neural_network/multilayer_perceptron.py:562: ConvergenceWarning: Stochastic Optimizer: Maximum iterations (500) reached and the optimization hasn't converged yet.\n",
      "  % self.max_iter, ConvergenceWarning)\n"
     ]
    },
    {
     "name": "stdout",
     "output_type": "stream",
     "text": [
      "Alpha momentum 0.3, learning rate 0.0024 R2 score: 0.9261434701557258\n",
      "Alpha momentum 0.3, learning rate 0.0024 mean squered error: 37406888.826891616\n",
      "Alpha momentum 0.3, learning rate 0.0024 root mean squered error: 6116.117136459342\n"
     ]
    },
    {
     "name": "stderr",
     "output_type": "stream",
     "text": [
      "/home/stas/anaconda3/lib/python3.7/site-packages/sklearn/neural_network/multilayer_perceptron.py:562: ConvergenceWarning: Stochastic Optimizer: Maximum iterations (500) reached and the optimization hasn't converged yet.\n",
      "  % self.max_iter, ConvergenceWarning)\n"
     ]
    },
    {
     "name": "stdout",
     "output_type": "stream",
     "text": [
      "Alpha momentum 0.4, learning rate 0.0024 R2 score: 0.9261434701557258\n",
      "Alpha momentum 0.4, learning rate 0.0024 mean squered error: 37406888.826891616\n",
      "Alpha momentum 0.4, learning rate 0.0024 root mean squered error: 6116.117136459342\n"
     ]
    },
    {
     "name": "stderr",
     "output_type": "stream",
     "text": [
      "/home/stas/anaconda3/lib/python3.7/site-packages/sklearn/neural_network/multilayer_perceptron.py:562: ConvergenceWarning: Stochastic Optimizer: Maximum iterations (500) reached and the optimization hasn't converged yet.\n",
      "  % self.max_iter, ConvergenceWarning)\n"
     ]
    },
    {
     "name": "stdout",
     "output_type": "stream",
     "text": [
      "Alpha momentum 0.5, learning rate 0.0024 R2 score: 0.9261434701557258\n",
      "Alpha momentum 0.5, learning rate 0.0024 mean squered error: 37406888.826891616\n",
      "Alpha momentum 0.5, learning rate 0.0024 root mean squered error: 6116.117136459342\n"
     ]
    },
    {
     "name": "stderr",
     "output_type": "stream",
     "text": [
      "/home/stas/anaconda3/lib/python3.7/site-packages/sklearn/neural_network/multilayer_perceptron.py:562: ConvergenceWarning: Stochastic Optimizer: Maximum iterations (500) reached and the optimization hasn't converged yet.\n",
      "  % self.max_iter, ConvergenceWarning)\n"
     ]
    },
    {
     "name": "stdout",
     "output_type": "stream",
     "text": [
      "Alpha momentum 0.6, learning rate 0.0024 R2 score: 0.9261434701557258\n",
      "Alpha momentum 0.6, learning rate 0.0024 mean squered error: 37406888.826891616\n",
      "Alpha momentum 0.6, learning rate 0.0024 root mean squered error: 6116.117136459342\n"
     ]
    },
    {
     "name": "stderr",
     "output_type": "stream",
     "text": [
      "/home/stas/anaconda3/lib/python3.7/site-packages/sklearn/neural_network/multilayer_perceptron.py:562: ConvergenceWarning: Stochastic Optimizer: Maximum iterations (500) reached and the optimization hasn't converged yet.\n",
      "  % self.max_iter, ConvergenceWarning)\n"
     ]
    },
    {
     "name": "stdout",
     "output_type": "stream",
     "text": [
      "Alpha momentum 0.7, learning rate 0.0024 R2 score: 0.9261434701557258\n",
      "Alpha momentum 0.7, learning rate 0.0024 mean squered error: 37406888.826891616\n",
      "Alpha momentum 0.7, learning rate 0.0024 root mean squered error: 6116.117136459342\n"
     ]
    },
    {
     "name": "stderr",
     "output_type": "stream",
     "text": [
      "/home/stas/anaconda3/lib/python3.7/site-packages/sklearn/neural_network/multilayer_perceptron.py:562: ConvergenceWarning: Stochastic Optimizer: Maximum iterations (500) reached and the optimization hasn't converged yet.\n",
      "  % self.max_iter, ConvergenceWarning)\n"
     ]
    },
    {
     "name": "stdout",
     "output_type": "stream",
     "text": [
      "Alpha momentum 0.8, learning rate 0.0024 R2 score: 0.9261434701557258\n",
      "Alpha momentum 0.8, learning rate 0.0024 mean squered error: 37406888.826891616\n",
      "Alpha momentum 0.8, learning rate 0.0024 root mean squered error: 6116.117136459342\n"
     ]
    },
    {
     "name": "stderr",
     "output_type": "stream",
     "text": [
      "/home/stas/anaconda3/lib/python3.7/site-packages/sklearn/neural_network/multilayer_perceptron.py:562: ConvergenceWarning: Stochastic Optimizer: Maximum iterations (500) reached and the optimization hasn't converged yet.\n",
      "  % self.max_iter, ConvergenceWarning)\n"
     ]
    },
    {
     "name": "stdout",
     "output_type": "stream",
     "text": [
      "Alpha momentum 0.9, learning rate 0.0024 R2 score: 0.9261434701557258\n",
      "Alpha momentum 0.9, learning rate 0.0024 mean squered error: 37406888.826891616\n",
      "Alpha momentum 0.9, learning rate 0.0024 root mean squered error: 6116.117136459342\n"
     ]
    },
    {
     "name": "stderr",
     "output_type": "stream",
     "text": [
      "/home/stas/anaconda3/lib/python3.7/site-packages/sklearn/neural_network/multilayer_perceptron.py:562: ConvergenceWarning: Stochastic Optimizer: Maximum iterations (500) reached and the optimization hasn't converged yet.\n",
      "  % self.max_iter, ConvergenceWarning)\n"
     ]
    },
    {
     "name": "stdout",
     "output_type": "stream",
     "text": [
      "Alpha momentum 0.1, learning rate 0.0025 R2 score: 0.9269305536558556\n",
      "Alpha momentum 0.1, learning rate 0.0025 mean squered error: 33847676.83906953\n",
      "Alpha momentum 0.1, learning rate 0.0025 root mean squered error: 5817.875629391671\n"
     ]
    },
    {
     "name": "stderr",
     "output_type": "stream",
     "text": [
      "/home/stas/anaconda3/lib/python3.7/site-packages/sklearn/neural_network/multilayer_perceptron.py:562: ConvergenceWarning: Stochastic Optimizer: Maximum iterations (500) reached and the optimization hasn't converged yet.\n",
      "  % self.max_iter, ConvergenceWarning)\n"
     ]
    },
    {
     "name": "stdout",
     "output_type": "stream",
     "text": [
      "Alpha momentum 0.2, learning rate 0.0025 R2 score: 0.9269305536558556\n",
      "Alpha momentum 0.2, learning rate 0.0025 mean squered error: 33847676.83906953\n",
      "Alpha momentum 0.2, learning rate 0.0025 root mean squered error: 5817.875629391671\n"
     ]
    },
    {
     "name": "stderr",
     "output_type": "stream",
     "text": [
      "/home/stas/anaconda3/lib/python3.7/site-packages/sklearn/neural_network/multilayer_perceptron.py:562: ConvergenceWarning: Stochastic Optimizer: Maximum iterations (500) reached and the optimization hasn't converged yet.\n",
      "  % self.max_iter, ConvergenceWarning)\n"
     ]
    },
    {
     "name": "stdout",
     "output_type": "stream",
     "text": [
      "Alpha momentum 0.3, learning rate 0.0025 R2 score: 0.9269305536558556\n",
      "Alpha momentum 0.3, learning rate 0.0025 mean squered error: 33847676.83906953\n",
      "Alpha momentum 0.3, learning rate 0.0025 root mean squered error: 5817.875629391671\n"
     ]
    },
    {
     "name": "stderr",
     "output_type": "stream",
     "text": [
      "/home/stas/anaconda3/lib/python3.7/site-packages/sklearn/neural_network/multilayer_perceptron.py:562: ConvergenceWarning: Stochastic Optimizer: Maximum iterations (500) reached and the optimization hasn't converged yet.\n",
      "  % self.max_iter, ConvergenceWarning)\n"
     ]
    },
    {
     "name": "stdout",
     "output_type": "stream",
     "text": [
      "Alpha momentum 0.4, learning rate 0.0025 R2 score: 0.9269305536558556\n",
      "Alpha momentum 0.4, learning rate 0.0025 mean squered error: 33847676.83906953\n",
      "Alpha momentum 0.4, learning rate 0.0025 root mean squered error: 5817.875629391671\n"
     ]
    },
    {
     "name": "stderr",
     "output_type": "stream",
     "text": [
      "/home/stas/anaconda3/lib/python3.7/site-packages/sklearn/neural_network/multilayer_perceptron.py:562: ConvergenceWarning: Stochastic Optimizer: Maximum iterations (500) reached and the optimization hasn't converged yet.\n",
      "  % self.max_iter, ConvergenceWarning)\n"
     ]
    },
    {
     "name": "stdout",
     "output_type": "stream",
     "text": [
      "Alpha momentum 0.5, learning rate 0.0025 R2 score: 0.9269305536558556\n",
      "Alpha momentum 0.5, learning rate 0.0025 mean squered error: 33847676.83906953\n",
      "Alpha momentum 0.5, learning rate 0.0025 root mean squered error: 5817.875629391671\n"
     ]
    },
    {
     "name": "stderr",
     "output_type": "stream",
     "text": [
      "/home/stas/anaconda3/lib/python3.7/site-packages/sklearn/neural_network/multilayer_perceptron.py:562: ConvergenceWarning: Stochastic Optimizer: Maximum iterations (500) reached and the optimization hasn't converged yet.\n",
      "  % self.max_iter, ConvergenceWarning)\n"
     ]
    },
    {
     "name": "stdout",
     "output_type": "stream",
     "text": [
      "Alpha momentum 0.6, learning rate 0.0025 R2 score: 0.9269305536558556\n",
      "Alpha momentum 0.6, learning rate 0.0025 mean squered error: 33847676.83906953\n",
      "Alpha momentum 0.6, learning rate 0.0025 root mean squered error: 5817.875629391671\n"
     ]
    },
    {
     "name": "stderr",
     "output_type": "stream",
     "text": [
      "/home/stas/anaconda3/lib/python3.7/site-packages/sklearn/neural_network/multilayer_perceptron.py:562: ConvergenceWarning: Stochastic Optimizer: Maximum iterations (500) reached and the optimization hasn't converged yet.\n",
      "  % self.max_iter, ConvergenceWarning)\n"
     ]
    },
    {
     "name": "stdout",
     "output_type": "stream",
     "text": [
      "Alpha momentum 0.7, learning rate 0.0025 R2 score: 0.9269305536558556\n",
      "Alpha momentum 0.7, learning rate 0.0025 mean squered error: 33847676.83906953\n",
      "Alpha momentum 0.7, learning rate 0.0025 root mean squered error: 5817.875629391671\n"
     ]
    },
    {
     "name": "stderr",
     "output_type": "stream",
     "text": [
      "/home/stas/anaconda3/lib/python3.7/site-packages/sklearn/neural_network/multilayer_perceptron.py:562: ConvergenceWarning: Stochastic Optimizer: Maximum iterations (500) reached and the optimization hasn't converged yet.\n",
      "  % self.max_iter, ConvergenceWarning)\n"
     ]
    },
    {
     "name": "stdout",
     "output_type": "stream",
     "text": [
      "Alpha momentum 0.8, learning rate 0.0025 R2 score: 0.9269305536558556\n",
      "Alpha momentum 0.8, learning rate 0.0025 mean squered error: 33847676.83906953\n",
      "Alpha momentum 0.8, learning rate 0.0025 root mean squered error: 5817.875629391671\n"
     ]
    },
    {
     "name": "stderr",
     "output_type": "stream",
     "text": [
      "/home/stas/anaconda3/lib/python3.7/site-packages/sklearn/neural_network/multilayer_perceptron.py:562: ConvergenceWarning: Stochastic Optimizer: Maximum iterations (500) reached and the optimization hasn't converged yet.\n",
      "  % self.max_iter, ConvergenceWarning)\n"
     ]
    },
    {
     "name": "stdout",
     "output_type": "stream",
     "text": [
      "Alpha momentum 0.9, learning rate 0.0025 R2 score: 0.9269305536558556\n",
      "Alpha momentum 0.9, learning rate 0.0025 mean squered error: 33847676.83906953\n",
      "Alpha momentum 0.9, learning rate 0.0025 root mean squered error: 5817.875629391671\n"
     ]
    },
    {
     "name": "stderr",
     "output_type": "stream",
     "text": [
      "/home/stas/anaconda3/lib/python3.7/site-packages/sklearn/neural_network/multilayer_perceptron.py:562: ConvergenceWarning: Stochastic Optimizer: Maximum iterations (500) reached and the optimization hasn't converged yet.\n",
      "  % self.max_iter, ConvergenceWarning)\n"
     ]
    },
    {
     "name": "stdout",
     "output_type": "stream",
     "text": [
      "Alpha momentum 0.1, learning rate 0.0026 R2 score: 0.9308159202435555\n",
      "Alpha momentum 0.1, learning rate 0.0026 mean squered error: 33354637.704723265\n",
      "Alpha momentum 0.1, learning rate 0.0026 root mean squered error: 5775.3474098726965\n"
     ]
    },
    {
     "name": "stderr",
     "output_type": "stream",
     "text": [
      "/home/stas/anaconda3/lib/python3.7/site-packages/sklearn/neural_network/multilayer_perceptron.py:562: ConvergenceWarning: Stochastic Optimizer: Maximum iterations (500) reached and the optimization hasn't converged yet.\n",
      "  % self.max_iter, ConvergenceWarning)\n"
     ]
    },
    {
     "name": "stdout",
     "output_type": "stream",
     "text": [
      "Alpha momentum 0.2, learning rate 0.0026 R2 score: 0.9308159202435555\n",
      "Alpha momentum 0.2, learning rate 0.0026 mean squered error: 33354637.704723265\n",
      "Alpha momentum 0.2, learning rate 0.0026 root mean squered error: 5775.3474098726965\n"
     ]
    },
    {
     "name": "stderr",
     "output_type": "stream",
     "text": [
      "/home/stas/anaconda3/lib/python3.7/site-packages/sklearn/neural_network/multilayer_perceptron.py:562: ConvergenceWarning: Stochastic Optimizer: Maximum iterations (500) reached and the optimization hasn't converged yet.\n",
      "  % self.max_iter, ConvergenceWarning)\n"
     ]
    },
    {
     "name": "stdout",
     "output_type": "stream",
     "text": [
      "Alpha momentum 0.3, learning rate 0.0026 R2 score: 0.9308159202435555\n",
      "Alpha momentum 0.3, learning rate 0.0026 mean squered error: 33354637.704723265\n",
      "Alpha momentum 0.3, learning rate 0.0026 root mean squered error: 5775.3474098726965\n"
     ]
    },
    {
     "name": "stderr",
     "output_type": "stream",
     "text": [
      "/home/stas/anaconda3/lib/python3.7/site-packages/sklearn/neural_network/multilayer_perceptron.py:562: ConvergenceWarning: Stochastic Optimizer: Maximum iterations (500) reached and the optimization hasn't converged yet.\n",
      "  % self.max_iter, ConvergenceWarning)\n"
     ]
    },
    {
     "name": "stdout",
     "output_type": "stream",
     "text": [
      "Alpha momentum 0.4, learning rate 0.0026 R2 score: 0.9308159202435555\n",
      "Alpha momentum 0.4, learning rate 0.0026 mean squered error: 33354637.704723265\n",
      "Alpha momentum 0.4, learning rate 0.0026 root mean squered error: 5775.3474098726965\n"
     ]
    },
    {
     "name": "stderr",
     "output_type": "stream",
     "text": [
      "/home/stas/anaconda3/lib/python3.7/site-packages/sklearn/neural_network/multilayer_perceptron.py:562: ConvergenceWarning: Stochastic Optimizer: Maximum iterations (500) reached and the optimization hasn't converged yet.\n",
      "  % self.max_iter, ConvergenceWarning)\n"
     ]
    },
    {
     "name": "stdout",
     "output_type": "stream",
     "text": [
      "Alpha momentum 0.5, learning rate 0.0026 R2 score: 0.9308159202435555\n",
      "Alpha momentum 0.5, learning rate 0.0026 mean squered error: 33354637.704723265\n",
      "Alpha momentum 0.5, learning rate 0.0026 root mean squered error: 5775.3474098726965\n"
     ]
    },
    {
     "name": "stderr",
     "output_type": "stream",
     "text": [
      "/home/stas/anaconda3/lib/python3.7/site-packages/sklearn/neural_network/multilayer_perceptron.py:562: ConvergenceWarning: Stochastic Optimizer: Maximum iterations (500) reached and the optimization hasn't converged yet.\n",
      "  % self.max_iter, ConvergenceWarning)\n"
     ]
    },
    {
     "name": "stdout",
     "output_type": "stream",
     "text": [
      "Alpha momentum 0.6, learning rate 0.0026 R2 score: 0.9308159202435555\n",
      "Alpha momentum 0.6, learning rate 0.0026 mean squered error: 33354637.704723265\n",
      "Alpha momentum 0.6, learning rate 0.0026 root mean squered error: 5775.3474098726965\n"
     ]
    },
    {
     "name": "stderr",
     "output_type": "stream",
     "text": [
      "/home/stas/anaconda3/lib/python3.7/site-packages/sklearn/neural_network/multilayer_perceptron.py:562: ConvergenceWarning: Stochastic Optimizer: Maximum iterations (500) reached and the optimization hasn't converged yet.\n",
      "  % self.max_iter, ConvergenceWarning)\n"
     ]
    },
    {
     "name": "stdout",
     "output_type": "stream",
     "text": [
      "Alpha momentum 0.7, learning rate 0.0026 R2 score: 0.9308159202435555\n",
      "Alpha momentum 0.7, learning rate 0.0026 mean squered error: 33354637.704723265\n",
      "Alpha momentum 0.7, learning rate 0.0026 root mean squered error: 5775.3474098726965\n"
     ]
    },
    {
     "name": "stderr",
     "output_type": "stream",
     "text": [
      "/home/stas/anaconda3/lib/python3.7/site-packages/sklearn/neural_network/multilayer_perceptron.py:562: ConvergenceWarning: Stochastic Optimizer: Maximum iterations (500) reached and the optimization hasn't converged yet.\n",
      "  % self.max_iter, ConvergenceWarning)\n"
     ]
    },
    {
     "name": "stdout",
     "output_type": "stream",
     "text": [
      "Alpha momentum 0.8, learning rate 0.0026 R2 score: 0.9308159202435555\n",
      "Alpha momentum 0.8, learning rate 0.0026 mean squered error: 33354637.704723265\n",
      "Alpha momentum 0.8, learning rate 0.0026 root mean squered error: 5775.3474098726965\n"
     ]
    },
    {
     "name": "stderr",
     "output_type": "stream",
     "text": [
      "/home/stas/anaconda3/lib/python3.7/site-packages/sklearn/neural_network/multilayer_perceptron.py:562: ConvergenceWarning: Stochastic Optimizer: Maximum iterations (500) reached and the optimization hasn't converged yet.\n",
      "  % self.max_iter, ConvergenceWarning)\n"
     ]
    },
    {
     "name": "stdout",
     "output_type": "stream",
     "text": [
      "Alpha momentum 0.9, learning rate 0.0026 R2 score: 0.9308159202435555\n",
      "Alpha momentum 0.9, learning rate 0.0026 mean squered error: 33354637.704723265\n",
      "Alpha momentum 0.9, learning rate 0.0026 root mean squered error: 5775.3474098726965\n"
     ]
    },
    {
     "name": "stderr",
     "output_type": "stream",
     "text": [
      "/home/stas/anaconda3/lib/python3.7/site-packages/sklearn/neural_network/multilayer_perceptron.py:562: ConvergenceWarning: Stochastic Optimizer: Maximum iterations (500) reached and the optimization hasn't converged yet.\n",
      "  % self.max_iter, ConvergenceWarning)\n"
     ]
    },
    {
     "name": "stdout",
     "output_type": "stream",
     "text": [
      "Alpha momentum 0.1, learning rate 0.0027 R2 score: 0.9333198908564108\n",
      "Alpha momentum 0.1, learning rate 0.0027 mean squered error: 28744641.649262536\n",
      "Alpha momentum 0.1, learning rate 0.0027 root mean squered error: 5361.402955315198\n"
     ]
    },
    {
     "name": "stderr",
     "output_type": "stream",
     "text": [
      "/home/stas/anaconda3/lib/python3.7/site-packages/sklearn/neural_network/multilayer_perceptron.py:562: ConvergenceWarning: Stochastic Optimizer: Maximum iterations (500) reached and the optimization hasn't converged yet.\n",
      "  % self.max_iter, ConvergenceWarning)\n"
     ]
    },
    {
     "name": "stdout",
     "output_type": "stream",
     "text": [
      "Alpha momentum 0.2, learning rate 0.0027 R2 score: 0.9333198908564108\n",
      "Alpha momentum 0.2, learning rate 0.0027 mean squered error: 28744641.649262536\n",
      "Alpha momentum 0.2, learning rate 0.0027 root mean squered error: 5361.402955315198\n"
     ]
    },
    {
     "name": "stderr",
     "output_type": "stream",
     "text": [
      "/home/stas/anaconda3/lib/python3.7/site-packages/sklearn/neural_network/multilayer_perceptron.py:562: ConvergenceWarning: Stochastic Optimizer: Maximum iterations (500) reached and the optimization hasn't converged yet.\n",
      "  % self.max_iter, ConvergenceWarning)\n"
     ]
    },
    {
     "name": "stdout",
     "output_type": "stream",
     "text": [
      "Alpha momentum 0.3, learning rate 0.0027 R2 score: 0.9333198908564108\n",
      "Alpha momentum 0.3, learning rate 0.0027 mean squered error: 28744641.649262536\n",
      "Alpha momentum 0.3, learning rate 0.0027 root mean squered error: 5361.402955315198\n"
     ]
    },
    {
     "name": "stderr",
     "output_type": "stream",
     "text": [
      "/home/stas/anaconda3/lib/python3.7/site-packages/sklearn/neural_network/multilayer_perceptron.py:562: ConvergenceWarning: Stochastic Optimizer: Maximum iterations (500) reached and the optimization hasn't converged yet.\n",
      "  % self.max_iter, ConvergenceWarning)\n"
     ]
    },
    {
     "name": "stdout",
     "output_type": "stream",
     "text": [
      "Alpha momentum 0.4, learning rate 0.0027 R2 score: 0.9333198908564108\n",
      "Alpha momentum 0.4, learning rate 0.0027 mean squered error: 28744641.649262536\n",
      "Alpha momentum 0.4, learning rate 0.0027 root mean squered error: 5361.402955315198\n"
     ]
    },
    {
     "name": "stderr",
     "output_type": "stream",
     "text": [
      "/home/stas/anaconda3/lib/python3.7/site-packages/sklearn/neural_network/multilayer_perceptron.py:562: ConvergenceWarning: Stochastic Optimizer: Maximum iterations (500) reached and the optimization hasn't converged yet.\n",
      "  % self.max_iter, ConvergenceWarning)\n"
     ]
    },
    {
     "name": "stdout",
     "output_type": "stream",
     "text": [
      "Alpha momentum 0.5, learning rate 0.0027 R2 score: 0.9333198908564108\n",
      "Alpha momentum 0.5, learning rate 0.0027 mean squered error: 28744641.649262536\n",
      "Alpha momentum 0.5, learning rate 0.0027 root mean squered error: 5361.402955315198\n"
     ]
    },
    {
     "name": "stderr",
     "output_type": "stream",
     "text": [
      "/home/stas/anaconda3/lib/python3.7/site-packages/sklearn/neural_network/multilayer_perceptron.py:562: ConvergenceWarning: Stochastic Optimizer: Maximum iterations (500) reached and the optimization hasn't converged yet.\n",
      "  % self.max_iter, ConvergenceWarning)\n"
     ]
    },
    {
     "name": "stdout",
     "output_type": "stream",
     "text": [
      "Alpha momentum 0.6, learning rate 0.0027 R2 score: 0.9333198908564108\n",
      "Alpha momentum 0.6, learning rate 0.0027 mean squered error: 28744641.649262536\n",
      "Alpha momentum 0.6, learning rate 0.0027 root mean squered error: 5361.402955315198\n"
     ]
    },
    {
     "name": "stderr",
     "output_type": "stream",
     "text": [
      "/home/stas/anaconda3/lib/python3.7/site-packages/sklearn/neural_network/multilayer_perceptron.py:562: ConvergenceWarning: Stochastic Optimizer: Maximum iterations (500) reached and the optimization hasn't converged yet.\n",
      "  % self.max_iter, ConvergenceWarning)\n"
     ]
    },
    {
     "name": "stdout",
     "output_type": "stream",
     "text": [
      "Alpha momentum 0.7, learning rate 0.0027 R2 score: 0.9333198908564108\n",
      "Alpha momentum 0.7, learning rate 0.0027 mean squered error: 28744641.649262536\n",
      "Alpha momentum 0.7, learning rate 0.0027 root mean squered error: 5361.402955315198\n"
     ]
    },
    {
     "name": "stderr",
     "output_type": "stream",
     "text": [
      "/home/stas/anaconda3/lib/python3.7/site-packages/sklearn/neural_network/multilayer_perceptron.py:562: ConvergenceWarning: Stochastic Optimizer: Maximum iterations (500) reached and the optimization hasn't converged yet.\n",
      "  % self.max_iter, ConvergenceWarning)\n"
     ]
    },
    {
     "name": "stdout",
     "output_type": "stream",
     "text": [
      "Alpha momentum 0.8, learning rate 0.0027 R2 score: 0.9333198908564108\n",
      "Alpha momentum 0.8, learning rate 0.0027 mean squered error: 28744641.649262536\n",
      "Alpha momentum 0.8, learning rate 0.0027 root mean squered error: 5361.402955315198\n"
     ]
    },
    {
     "name": "stderr",
     "output_type": "stream",
     "text": [
      "/home/stas/anaconda3/lib/python3.7/site-packages/sklearn/neural_network/multilayer_perceptron.py:562: ConvergenceWarning: Stochastic Optimizer: Maximum iterations (500) reached and the optimization hasn't converged yet.\n",
      "  % self.max_iter, ConvergenceWarning)\n"
     ]
    },
    {
     "name": "stdout",
     "output_type": "stream",
     "text": [
      "Alpha momentum 0.9, learning rate 0.0027 R2 score: 0.9333198908564108\n",
      "Alpha momentum 0.9, learning rate 0.0027 mean squered error: 28744641.649262536\n",
      "Alpha momentum 0.9, learning rate 0.0027 root mean squered error: 5361.402955315198\n"
     ]
    },
    {
     "name": "stderr",
     "output_type": "stream",
     "text": [
      "/home/stas/anaconda3/lib/python3.7/site-packages/sklearn/neural_network/multilayer_perceptron.py:562: ConvergenceWarning: Stochastic Optimizer: Maximum iterations (500) reached and the optimization hasn't converged yet.\n",
      "  % self.max_iter, ConvergenceWarning)\n"
     ]
    },
    {
     "name": "stdout",
     "output_type": "stream",
     "text": [
      "Alpha momentum 0.1, learning rate 0.0028 R2 score: 0.9349169405038731\n",
      "Alpha momentum 0.1, learning rate 0.0028 mean squered error: 28052065.269289587\n",
      "Alpha momentum 0.1, learning rate 0.0028 root mean squered error: 5296.420042754312\n"
     ]
    },
    {
     "name": "stderr",
     "output_type": "stream",
     "text": [
      "/home/stas/anaconda3/lib/python3.7/site-packages/sklearn/neural_network/multilayer_perceptron.py:562: ConvergenceWarning: Stochastic Optimizer: Maximum iterations (500) reached and the optimization hasn't converged yet.\n",
      "  % self.max_iter, ConvergenceWarning)\n"
     ]
    },
    {
     "name": "stdout",
     "output_type": "stream",
     "text": [
      "Alpha momentum 0.2, learning rate 0.0028 R2 score: 0.9349169405038731\n",
      "Alpha momentum 0.2, learning rate 0.0028 mean squered error: 28052065.269289587\n",
      "Alpha momentum 0.2, learning rate 0.0028 root mean squered error: 5296.420042754312\n"
     ]
    },
    {
     "name": "stderr",
     "output_type": "stream",
     "text": [
      "/home/stas/anaconda3/lib/python3.7/site-packages/sklearn/neural_network/multilayer_perceptron.py:562: ConvergenceWarning: Stochastic Optimizer: Maximum iterations (500) reached and the optimization hasn't converged yet.\n",
      "  % self.max_iter, ConvergenceWarning)\n"
     ]
    },
    {
     "name": "stdout",
     "output_type": "stream",
     "text": [
      "Alpha momentum 0.3, learning rate 0.0028 R2 score: 0.9349169405038731\n",
      "Alpha momentum 0.3, learning rate 0.0028 mean squered error: 28052065.269289587\n",
      "Alpha momentum 0.3, learning rate 0.0028 root mean squered error: 5296.420042754312\n"
     ]
    },
    {
     "name": "stderr",
     "output_type": "stream",
     "text": [
      "/home/stas/anaconda3/lib/python3.7/site-packages/sklearn/neural_network/multilayer_perceptron.py:562: ConvergenceWarning: Stochastic Optimizer: Maximum iterations (500) reached and the optimization hasn't converged yet.\n",
      "  % self.max_iter, ConvergenceWarning)\n"
     ]
    },
    {
     "name": "stdout",
     "output_type": "stream",
     "text": [
      "Alpha momentum 0.4, learning rate 0.0028 R2 score: 0.9349169405038731\n",
      "Alpha momentum 0.4, learning rate 0.0028 mean squered error: 28052065.269289587\n",
      "Alpha momentum 0.4, learning rate 0.0028 root mean squered error: 5296.420042754312\n"
     ]
    },
    {
     "name": "stderr",
     "output_type": "stream",
     "text": [
      "/home/stas/anaconda3/lib/python3.7/site-packages/sklearn/neural_network/multilayer_perceptron.py:562: ConvergenceWarning: Stochastic Optimizer: Maximum iterations (500) reached and the optimization hasn't converged yet.\n",
      "  % self.max_iter, ConvergenceWarning)\n"
     ]
    },
    {
     "name": "stdout",
     "output_type": "stream",
     "text": [
      "Alpha momentum 0.5, learning rate 0.0028 R2 score: 0.9349169405038731\n",
      "Alpha momentum 0.5, learning rate 0.0028 mean squered error: 28052065.269289587\n",
      "Alpha momentum 0.5, learning rate 0.0028 root mean squered error: 5296.420042754312\n"
     ]
    },
    {
     "name": "stderr",
     "output_type": "stream",
     "text": [
      "/home/stas/anaconda3/lib/python3.7/site-packages/sklearn/neural_network/multilayer_perceptron.py:562: ConvergenceWarning: Stochastic Optimizer: Maximum iterations (500) reached and the optimization hasn't converged yet.\n",
      "  % self.max_iter, ConvergenceWarning)\n"
     ]
    },
    {
     "name": "stdout",
     "output_type": "stream",
     "text": [
      "Alpha momentum 0.6, learning rate 0.0028 R2 score: 0.9349169405038731\n",
      "Alpha momentum 0.6, learning rate 0.0028 mean squered error: 28052065.269289587\n",
      "Alpha momentum 0.6, learning rate 0.0028 root mean squered error: 5296.420042754312\n"
     ]
    },
    {
     "name": "stderr",
     "output_type": "stream",
     "text": [
      "/home/stas/anaconda3/lib/python3.7/site-packages/sklearn/neural_network/multilayer_perceptron.py:562: ConvergenceWarning: Stochastic Optimizer: Maximum iterations (500) reached and the optimization hasn't converged yet.\n",
      "  % self.max_iter, ConvergenceWarning)\n"
     ]
    },
    {
     "name": "stdout",
     "output_type": "stream",
     "text": [
      "Alpha momentum 0.7, learning rate 0.0028 R2 score: 0.9349169405038731\n",
      "Alpha momentum 0.7, learning rate 0.0028 mean squered error: 28052065.269289587\n",
      "Alpha momentum 0.7, learning rate 0.0028 root mean squered error: 5296.420042754312\n"
     ]
    },
    {
     "name": "stderr",
     "output_type": "stream",
     "text": [
      "/home/stas/anaconda3/lib/python3.7/site-packages/sklearn/neural_network/multilayer_perceptron.py:562: ConvergenceWarning: Stochastic Optimizer: Maximum iterations (500) reached and the optimization hasn't converged yet.\n",
      "  % self.max_iter, ConvergenceWarning)\n"
     ]
    },
    {
     "name": "stdout",
     "output_type": "stream",
     "text": [
      "Alpha momentum 0.8, learning rate 0.0028 R2 score: 0.9349169405038731\n",
      "Alpha momentum 0.8, learning rate 0.0028 mean squered error: 28052065.269289587\n",
      "Alpha momentum 0.8, learning rate 0.0028 root mean squered error: 5296.420042754312\n"
     ]
    },
    {
     "name": "stderr",
     "output_type": "stream",
     "text": [
      "/home/stas/anaconda3/lib/python3.7/site-packages/sklearn/neural_network/multilayer_perceptron.py:562: ConvergenceWarning: Stochastic Optimizer: Maximum iterations (500) reached and the optimization hasn't converged yet.\n",
      "  % self.max_iter, ConvergenceWarning)\n"
     ]
    },
    {
     "name": "stdout",
     "output_type": "stream",
     "text": [
      "Alpha momentum 0.9, learning rate 0.0028 R2 score: 0.9349169405038731\n",
      "Alpha momentum 0.9, learning rate 0.0028 mean squered error: 28052065.269289587\n",
      "Alpha momentum 0.9, learning rate 0.0028 root mean squered error: 5296.420042754312\n"
     ]
    },
    {
     "name": "stderr",
     "output_type": "stream",
     "text": [
      "/home/stas/anaconda3/lib/python3.7/site-packages/sklearn/neural_network/multilayer_perceptron.py:562: ConvergenceWarning: Stochastic Optimizer: Maximum iterations (500) reached and the optimization hasn't converged yet.\n",
      "  % self.max_iter, ConvergenceWarning)\n"
     ]
    },
    {
     "name": "stdout",
     "output_type": "stream",
     "text": [
      "Alpha momentum 0.1, learning rate 0.0029 R2 score: 0.9357390017745131\n",
      "Alpha momentum 0.1, learning rate 0.0029 mean squered error: 28625548.66482267\n",
      "Alpha momentum 0.1, learning rate 0.0029 root mean squered error: 5350.284914359484\n"
     ]
    },
    {
     "name": "stderr",
     "output_type": "stream",
     "text": [
      "/home/stas/anaconda3/lib/python3.7/site-packages/sklearn/neural_network/multilayer_perceptron.py:562: ConvergenceWarning: Stochastic Optimizer: Maximum iterations (500) reached and the optimization hasn't converged yet.\n",
      "  % self.max_iter, ConvergenceWarning)\n"
     ]
    },
    {
     "name": "stdout",
     "output_type": "stream",
     "text": [
      "Alpha momentum 0.2, learning rate 0.0029 R2 score: 0.9357390017745131\n",
      "Alpha momentum 0.2, learning rate 0.0029 mean squered error: 28625548.66482267\n",
      "Alpha momentum 0.2, learning rate 0.0029 root mean squered error: 5350.284914359484\n"
     ]
    },
    {
     "name": "stderr",
     "output_type": "stream",
     "text": [
      "/home/stas/anaconda3/lib/python3.7/site-packages/sklearn/neural_network/multilayer_perceptron.py:562: ConvergenceWarning: Stochastic Optimizer: Maximum iterations (500) reached and the optimization hasn't converged yet.\n",
      "  % self.max_iter, ConvergenceWarning)\n"
     ]
    },
    {
     "name": "stdout",
     "output_type": "stream",
     "text": [
      "Alpha momentum 0.3, learning rate 0.0029 R2 score: 0.9357390017745131\n",
      "Alpha momentum 0.3, learning rate 0.0029 mean squered error: 28625548.66482267\n",
      "Alpha momentum 0.3, learning rate 0.0029 root mean squered error: 5350.284914359484\n"
     ]
    },
    {
     "name": "stderr",
     "output_type": "stream",
     "text": [
      "/home/stas/anaconda3/lib/python3.7/site-packages/sklearn/neural_network/multilayer_perceptron.py:562: ConvergenceWarning: Stochastic Optimizer: Maximum iterations (500) reached and the optimization hasn't converged yet.\n",
      "  % self.max_iter, ConvergenceWarning)\n"
     ]
    },
    {
     "name": "stdout",
     "output_type": "stream",
     "text": [
      "Alpha momentum 0.4, learning rate 0.0029 R2 score: 0.9357390017745131\n",
      "Alpha momentum 0.4, learning rate 0.0029 mean squered error: 28625548.66482267\n",
      "Alpha momentum 0.4, learning rate 0.0029 root mean squered error: 5350.284914359484\n"
     ]
    },
    {
     "name": "stderr",
     "output_type": "stream",
     "text": [
      "/home/stas/anaconda3/lib/python3.7/site-packages/sklearn/neural_network/multilayer_perceptron.py:562: ConvergenceWarning: Stochastic Optimizer: Maximum iterations (500) reached and the optimization hasn't converged yet.\n",
      "  % self.max_iter, ConvergenceWarning)\n"
     ]
    },
    {
     "name": "stdout",
     "output_type": "stream",
     "text": [
      "Alpha momentum 0.5, learning rate 0.0029 R2 score: 0.9357390017745131\n",
      "Alpha momentum 0.5, learning rate 0.0029 mean squered error: 28625548.66482267\n",
      "Alpha momentum 0.5, learning rate 0.0029 root mean squered error: 5350.284914359484\n"
     ]
    },
    {
     "name": "stderr",
     "output_type": "stream",
     "text": [
      "/home/stas/anaconda3/lib/python3.7/site-packages/sklearn/neural_network/multilayer_perceptron.py:562: ConvergenceWarning: Stochastic Optimizer: Maximum iterations (500) reached and the optimization hasn't converged yet.\n",
      "  % self.max_iter, ConvergenceWarning)\n"
     ]
    },
    {
     "name": "stdout",
     "output_type": "stream",
     "text": [
      "Alpha momentum 0.6, learning rate 0.0029 R2 score: 0.9357390017745131\n",
      "Alpha momentum 0.6, learning rate 0.0029 mean squered error: 28625548.66482267\n",
      "Alpha momentum 0.6, learning rate 0.0029 root mean squered error: 5350.284914359484\n"
     ]
    },
    {
     "name": "stderr",
     "output_type": "stream",
     "text": [
      "/home/stas/anaconda3/lib/python3.7/site-packages/sklearn/neural_network/multilayer_perceptron.py:562: ConvergenceWarning: Stochastic Optimizer: Maximum iterations (500) reached and the optimization hasn't converged yet.\n",
      "  % self.max_iter, ConvergenceWarning)\n"
     ]
    },
    {
     "name": "stdout",
     "output_type": "stream",
     "text": [
      "Alpha momentum 0.7, learning rate 0.0029 R2 score: 0.9357390017745131\n",
      "Alpha momentum 0.7, learning rate 0.0029 mean squered error: 28625548.66482267\n",
      "Alpha momentum 0.7, learning rate 0.0029 root mean squered error: 5350.284914359484\n"
     ]
    },
    {
     "name": "stderr",
     "output_type": "stream",
     "text": [
      "/home/stas/anaconda3/lib/python3.7/site-packages/sklearn/neural_network/multilayer_perceptron.py:562: ConvergenceWarning: Stochastic Optimizer: Maximum iterations (500) reached and the optimization hasn't converged yet.\n",
      "  % self.max_iter, ConvergenceWarning)\n"
     ]
    },
    {
     "name": "stdout",
     "output_type": "stream",
     "text": [
      "Alpha momentum 0.8, learning rate 0.0029 R2 score: 0.9357390017745131\n",
      "Alpha momentum 0.8, learning rate 0.0029 mean squered error: 28625548.66482267\n",
      "Alpha momentum 0.8, learning rate 0.0029 root mean squered error: 5350.284914359484\n",
      "Alpha momentum 0.9, learning rate 0.0029 R2 score: 0.9357390017745131\n",
      "Alpha momentum 0.9, learning rate 0.0029 mean squered error: 28625548.66482267\n",
      "Alpha momentum 0.9, learning rate 0.0029 root mean squered error: 5350.284914359484\n"
     ]
    },
    {
     "name": "stderr",
     "output_type": "stream",
     "text": [
      "/home/stas/anaconda3/lib/python3.7/site-packages/sklearn/neural_network/multilayer_perceptron.py:562: ConvergenceWarning: Stochastic Optimizer: Maximum iterations (500) reached and the optimization hasn't converged yet.\n",
      "  % self.max_iter, ConvergenceWarning)\n"
     ]
    }
   ],
   "source": [
    "from sklearn.neural_network import MLPRegressor\n",
    "from sklearn.metrics import mean_squared_error, explained_variance_score\n",
    "import numpy as np\n",
    "\n",
    "#alphas = np.logspace(-5, 5, 6)\n",
    "momentums = range(1, 10, 1)\n",
    "learning_rates = range(5, 30)\n",
    "\n",
    "regressors = []\n",
    "names = []\n",
    "\n",
    "for lr in learning_rates:\n",
    "    for m in momentums:\n",
    "        regressors.append(MLPRegressor(hidden_layer_sizes=(33, 33, 33),max_iter=500,\n",
    "                                       shuffle=False,\n",
    "                                       activation='relu',\n",
    "                                       alpha=100000, random_state=1,\n",
    "                                       momentum=m/10,learning_rate_init=lr/10000))\n",
    "        names.append('momentum {}, learning rate {}'.format(m/10, lr/10000))\n",
    "\n",
    "for name, regressor in zip(names, regressors):\n",
    "    regressor.fit(X_train,y_train)\n",
    "    y_p = regressor.predict(X_test)\n",
    "    print('Alpha {} R2 score: {}'.format(name, explained_variance_score(y_test, y_p)))\n",
    "    print('Alpha {} mean squered error: {}'.format(name, mean_squared_error(y_test, y_p)))\n",
    "    print('Alpha {} root mean squered error: {}'.format(name, np.sqrt(mean_squared_error(y_test, y_p))))\n"
   ]
  },
  {
   "cell_type": "raw",
   "metadata": {},
   "source": [
    "The final model looks as follows"
   ]
  },
  {
   "cell_type": "code",
   "execution_count": 18,
   "metadata": {},
   "outputs": [
    {
     "name": "stderr",
     "output_type": "stream",
     "text": [
      "/home/stas/anaconda3/lib/python3.7/site-packages/sklearn/neural_network/multilayer_perceptron.py:562: ConvergenceWarning: Stochastic Optimizer: Maximum iterations (500) reached and the optimization hasn't converged yet.\n",
      "  % self.max_iter, ConvergenceWarning)\n"
     ]
    },
    {
     "data": {
      "text/plain": [
       "MLPRegressor(activation='relu', alpha=100000, batch_size='auto', beta_1=0.9,\n",
       "       beta_2=0.999, early_stopping=False, epsilon=1e-08,\n",
       "       hidden_layer_sizes=(33, 33, 33), learning_rate='constant',\n",
       "       learning_rate_init=0.0028, max_iter=500, momentum=0.1,\n",
       "       n_iter_no_change=10, nesterovs_momentum=True, power_t=0.5,\n",
       "       random_state=1, shuffle=False, solver='adam', tol=0.0001,\n",
       "       validation_fraction=0.1, verbose=False, warm_start=False)"
      ]
     },
     "execution_count": 18,
     "metadata": {},
     "output_type": "execute_result"
    }
   ],
   "source": [
    "mlp = MLPRegressor(hidden_layer_sizes=(33, 33, 33),max_iter=500,\n",
    "                                       shuffle=False,\n",
    "                                       activation='relu',\n",
    "                                       alpha=100000, random_state=1,\n",
    "                                       momentum=0.1,learning_rate_init=0.0028)\n",
    "mlp.fit(X_train,y_train)"
   ]
  },
  {
   "cell_type": "raw",
   "metadata": {},
   "source": [
    "Predictions have been made and measured using R2 and RMSE scores"
   ]
  },
  {
   "cell_type": "code",
   "execution_count": 19,
   "metadata": {},
   "outputs": [],
   "source": [
    "y_pred = mlp.predict(X_test)"
   ]
  },
  {
   "cell_type": "code",
   "execution_count": 20,
   "metadata": {},
   "outputs": [
    {
     "name": "stdout",
     "output_type": "stream",
     "text": [
      "R2 score: 0.9349169405038731\n",
      "Mean squered error: 28052065.269289587\n",
      "Root mean squered error: 5296.420042754312\n"
     ]
    }
   ],
   "source": [
    "from sklearn.metrics import mean_squared_error, explained_variance_score\n",
    "import numpy as np\n",
    "\n",
    "print('R2 score: {}'.format(explained_variance_score(y_test, y_pred)))\n",
    "print('Mean squered error: {}'.format(mean_squared_error(y_test, y_pred)))\n",
    "print('Root mean squered error: {}'.format(np.sqrt(mean_squared_error(y_test, y_pred))))"
   ]
  },
  {
   "cell_type": "code",
   "execution_count": 21,
   "metadata": {},
   "outputs": [],
   "source": [
    "from pandas import Series\n",
    "\n",
    "y_pred_df = pd.DataFrame(data=y_pred, index=X['2017-10-01':].index.values)"
   ]
  },
  {
   "cell_type": "code",
   "execution_count": 22,
   "metadata": {},
   "outputs": [],
   "source": [
    "y_pred_df.index = pd.to_datetime(y_pred_df.index)"
   ]
  },
  {
   "cell_type": "code",
   "execution_count": 23,
   "metadata": {},
   "outputs": [],
   "source": [
    "df.index = pd.to_datetime(df.index)"
   ]
  },
  {
   "cell_type": "raw",
   "metadata": {},
   "source": [
    "The chart presents original times series (both from training and test parts) along with predicted one"
   ]
  },
  {
   "cell_type": "code",
   "execution_count": 24,
   "metadata": {},
   "outputs": [
    {
     "data": {
      "image/png": "[encoded data removed]",
      "text/plain": [
       "<Figure size 1008x504 with 1 Axes>"
      ]
     },
     "metadata": {
      "needs_background": "light"
     },
     "output_type": "display_data"
    }
   ],
   "source": [
    "import matplotlib.pyplot as plt\n",
    "\n",
    "ax = df['Energia(t)'].plot(figsize=(14, 7))\n",
    "y_pred_df.plot(ax=ax, label='Predykcja', alpha=.7, figsize=(14, 7))\n",
    "\n",
    "ax.set_xlabel('Date')\n",
    "ax.set_ylabel('Energy')\n",
    "plt.legend()\n",
    "\n",
    "plt.savefig('wykres.jpg')\n",
    "plt.show()"
   ]
  },
  {
   "cell_type": "raw",
   "metadata": {},
   "source": [
    "Just to make sure the model is not giving shifted values from input, the data from narrow period have been shown"
   ]
  },
  {
   "cell_type": "code",
   "execution_count": 25,
   "metadata": {},
   "outputs": [
    {
     "data": {
      "image/png": "[encoded data removed]",
      "text/plain": [
       "<Figure size 1008x504 with 1 Axes>"
      ]
     },
     "metadata": {
      "needs_background": "light"
     },
     "output_type": "display_data"
    }
   ],
   "source": [
    "ax = df['Energia(t)'].loc['2017-10-01':].plot(figsize=(14, 7))\n",
    "y_pred_df.plot(ax=ax, label='Predykcja', alpha=.7, figsize=(14, 7))\n",
    "\n",
    "ax.set_xlabel('Date')\n",
    "ax.set_ylabel('Energy')\n",
    "plt.legend()\n",
    "\n",
    "plt.savefig('wykres.jpg')\n",
    "plt.show()"
   ]
  },
  {
   "cell_type": "code",
   "execution_count": null,
   "metadata": {},
   "outputs": [],
   "source": []
  }
 ],
 "metadata": {
  "kernelspec": {
   "display_name": "Python 3",
   "language": "python",
   "name": "python3"
  },
  "language_info": {
   "codemirror_mode": {
    "name": "ipython",
    "version": 3
   },
   "file_extension": ".py",
   "mimetype": "text/x-python",
   "name": "python",
   "nbconvert_exporter": "python",
   "pygments_lexer": "ipython3",
   "version": "3.7.1"
  }
 },
 "nbformat": 4,
 "nbformat_minor": 2
}
