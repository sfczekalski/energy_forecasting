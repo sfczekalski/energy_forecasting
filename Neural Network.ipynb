{
 "cells": [
  {
   "cell_type": "raw",
   "metadata": {},
   "source": [
    "Input data consist of values of current observations along with its lagged values"
   ]
  },
  {
   "cell_type": "code",
   "execution_count": 1,
   "metadata": {},
   "outputs": [
    {
     "data": {
      "text/html": [
       "<div>\n",
       "<style scoped>\n",
       "    .dataframe tbody tr th:only-of-type {\n",
       "        vertical-align: middle;\n",
       "    }\n",
       "\n",
       "    .dataframe tbody tr th {\n",
       "        vertical-align: top;\n",
       "    }\n",
       "\n",
       "    .dataframe thead th {\n",
       "        text-align: right;\n",
       "    }\n",
       "</style>\n",
       "<table border=\"1\" class=\"dataframe\">\n",
       "  <thead>\n",
       "    <tr style=\"text-align: right;\">\n",
       "      <th></th>\n",
       "      <th>Energia(t-3)</th>\n",
       "      <th>Temp_zewn(t-3)</th>\n",
       "      <th>V_wiatru(t-3)</th>\n",
       "      <th>Wilg(t-3)</th>\n",
       "      <th>Zachm(t-3)</th>\n",
       "      <th>Energia(t-2)</th>\n",
       "      <th>Temp_zewn(t-2)</th>\n",
       "      <th>V_wiatru(t-2)</th>\n",
       "      <th>Wilg(t-2)</th>\n",
       "      <th>Zachm(t-2)</th>\n",
       "      <th>...</th>\n",
       "      <th>Wilg(t-1)</th>\n",
       "      <th>Zachm(t-1)</th>\n",
       "      <th>Energia(t)</th>\n",
       "      <th>Temp_zewn(t)</th>\n",
       "      <th>V_wiatru(t)</th>\n",
       "      <th>Wilg(t)</th>\n",
       "      <th>Zachm(t)</th>\n",
       "      <th>Dlug_dnia</th>\n",
       "      <th>Typ_dnia</th>\n",
       "      <th>Pora_roku</th>\n",
       "    </tr>\n",
       "    <tr>\n",
       "      <th>Data czas</th>\n",
       "      <th></th>\n",
       "      <th></th>\n",
       "      <th></th>\n",
       "      <th></th>\n",
       "      <th></th>\n",
       "      <th></th>\n",
       "      <th></th>\n",
       "      <th></th>\n",
       "      <th></th>\n",
       "      <th></th>\n",
       "      <th></th>\n",
       "      <th></th>\n",
       "      <th></th>\n",
       "      <th></th>\n",
       "      <th></th>\n",
       "      <th></th>\n",
       "      <th></th>\n",
       "      <th></th>\n",
       "      <th></th>\n",
       "      <th></th>\n",
       "      <th></th>\n",
       "    </tr>\n",
       "  </thead>\n",
       "  <tbody>\n",
       "    <tr>\n",
       "      <th>2016-01-04</th>\n",
       "      <td>93506.054</td>\n",
       "      <td>-3.691304</td>\n",
       "      <td>3.260870</td>\n",
       "      <td>78.565217</td>\n",
       "      <td>7.304348</td>\n",
       "      <td>112776.240</td>\n",
       "      <td>-9.341667</td>\n",
       "      <td>4.416667</td>\n",
       "      <td>70.083333</td>\n",
       "      <td>1.416667</td>\n",
       "      <td>...</td>\n",
       "      <td>68.458333</td>\n",
       "      <td>0.041667</td>\n",
       "      <td>125575.794</td>\n",
       "      <td>-9.908333</td>\n",
       "      <td>3.750000</td>\n",
       "      <td>55.125000</td>\n",
       "      <td>0.000000</td>\n",
       "      <td>7.517</td>\n",
       "      <td>1.0</td>\n",
       "      <td>4.0</td>\n",
       "    </tr>\n",
       "    <tr>\n",
       "      <th>2016-01-05</th>\n",
       "      <td>112776.240</td>\n",
       "      <td>-9.341667</td>\n",
       "      <td>4.416667</td>\n",
       "      <td>70.083333</td>\n",
       "      <td>1.416667</td>\n",
       "      <td>122962.116</td>\n",
       "      <td>-11.200000</td>\n",
       "      <td>3.708333</td>\n",
       "      <td>68.458333</td>\n",
       "      <td>0.041667</td>\n",
       "      <td>...</td>\n",
       "      <td>55.125000</td>\n",
       "      <td>0.000000</td>\n",
       "      <td>131745.917</td>\n",
       "      <td>-10.616667</td>\n",
       "      <td>1.916667</td>\n",
       "      <td>61.916667</td>\n",
       "      <td>1.333333</td>\n",
       "      <td>7.550</td>\n",
       "      <td>1.0</td>\n",
       "      <td>4.0</td>\n",
       "    </tr>\n",
       "    <tr>\n",
       "      <th>2016-01-06</th>\n",
       "      <td>122962.116</td>\n",
       "      <td>-11.200000</td>\n",
       "      <td>3.708333</td>\n",
       "      <td>68.458333</td>\n",
       "      <td>0.041667</td>\n",
       "      <td>125575.794</td>\n",
       "      <td>-9.908333</td>\n",
       "      <td>3.750000</td>\n",
       "      <td>55.125000</td>\n",
       "      <td>0.000000</td>\n",
       "      <td>...</td>\n",
       "      <td>61.916667</td>\n",
       "      <td>1.333333</td>\n",
       "      <td>135885.442</td>\n",
       "      <td>-11.320833</td>\n",
       "      <td>1.583333</td>\n",
       "      <td>77.583333</td>\n",
       "      <td>0.125000</td>\n",
       "      <td>7.583</td>\n",
       "      <td>5.0</td>\n",
       "      <td>4.0</td>\n",
       "    </tr>\n",
       "    <tr>\n",
       "      <th>2016-01-07</th>\n",
       "      <td>125575.794</td>\n",
       "      <td>-9.908333</td>\n",
       "      <td>3.750000</td>\n",
       "      <td>55.125000</td>\n",
       "      <td>0.000000</td>\n",
       "      <td>131745.917</td>\n",
       "      <td>-10.616667</td>\n",
       "      <td>1.916667</td>\n",
       "      <td>61.916667</td>\n",
       "      <td>1.333333</td>\n",
       "      <td>...</td>\n",
       "      <td>77.583333</td>\n",
       "      <td>0.125000</td>\n",
       "      <td>129980.459</td>\n",
       "      <td>-7.220833</td>\n",
       "      <td>2.791667</td>\n",
       "      <td>69.541667</td>\n",
       "      <td>5.916667</td>\n",
       "      <td>7.600</td>\n",
       "      <td>1.0</td>\n",
       "      <td>4.0</td>\n",
       "    </tr>\n",
       "    <tr>\n",
       "      <th>2016-01-08</th>\n",
       "      <td>131745.917</td>\n",
       "      <td>-10.616667</td>\n",
       "      <td>1.916667</td>\n",
       "      <td>61.916667</td>\n",
       "      <td>1.333333</td>\n",
       "      <td>135885.442</td>\n",
       "      <td>-11.320833</td>\n",
       "      <td>1.583333</td>\n",
       "      <td>77.583333</td>\n",
       "      <td>0.125000</td>\n",
       "      <td>...</td>\n",
       "      <td>69.541667</td>\n",
       "      <td>5.916667</td>\n",
       "      <td>113582.531</td>\n",
       "      <td>-1.837500</td>\n",
       "      <td>3.916667</td>\n",
       "      <td>90.416667</td>\n",
       "      <td>7.958333</td>\n",
       "      <td>7.650</td>\n",
       "      <td>2.0</td>\n",
       "      <td>4.0</td>\n",
       "    </tr>\n",
       "  </tbody>\n",
       "</table>\n",
       "<p>5 rows × 23 columns</p>\n",
       "</div>"
      ],
      "text/plain": [
       "            Energia(t-3)  Temp_zewn(t-3)  V_wiatru(t-3)  Wilg(t-3)  \\\n",
       "Data czas                                                            \n",
       "2016-01-04     93506.054       -3.691304       3.260870  78.565217   \n",
       "2016-01-05    112776.240       -9.341667       4.416667  70.083333   \n",
       "2016-01-06    122962.116      -11.200000       3.708333  68.458333   \n",
       "2016-01-07    125575.794       -9.908333       3.750000  55.125000   \n",
       "2016-01-08    131745.917      -10.616667       1.916667  61.916667   \n",
       "\n",
       "            Zachm(t-3)  Energia(t-2)  Temp_zewn(t-2)  V_wiatru(t-2)  \\\n",
       "Data czas                                                             \n",
       "2016-01-04    7.304348    112776.240       -9.341667       4.416667   \n",
       "2016-01-05    1.416667    122962.116      -11.200000       3.708333   \n",
       "2016-01-06    0.041667    125575.794       -9.908333       3.750000   \n",
       "2016-01-07    0.000000    131745.917      -10.616667       1.916667   \n",
       "2016-01-08    1.333333    135885.442      -11.320833       1.583333   \n",
       "\n",
       "            Wilg(t-2)  Zachm(t-2)  ...  Wilg(t-1)  Zachm(t-1)  Energia(t)  \\\n",
       "Data czas                          ...                                      \n",
       "2016-01-04  70.083333    1.416667  ...  68.458333    0.041667  125575.794   \n",
       "2016-01-05  68.458333    0.041667  ...  55.125000    0.000000  131745.917   \n",
       "2016-01-06  55.125000    0.000000  ...  61.916667    1.333333  135885.442   \n",
       "2016-01-07  61.916667    1.333333  ...  77.583333    0.125000  129980.459   \n",
       "2016-01-08  77.583333    0.125000  ...  69.541667    5.916667  113582.531   \n",
       "\n",
       "            Temp_zewn(t)  V_wiatru(t)    Wilg(t)  Zachm(t)  Dlug_dnia  \\\n",
       "Data czas                                                               \n",
       "2016-01-04     -9.908333     3.750000  55.125000  0.000000      7.517   \n",
       "2016-01-05    -10.616667     1.916667  61.916667  1.333333      7.550   \n",
       "2016-01-06    -11.320833     1.583333  77.583333  0.125000      7.583   \n",
       "2016-01-07     -7.220833     2.791667  69.541667  5.916667      7.600   \n",
       "2016-01-08     -1.837500     3.916667  90.416667  7.958333      7.650   \n",
       "\n",
       "            Typ_dnia  Pora_roku  \n",
       "Data czas                        \n",
       "2016-01-04       1.0        4.0  \n",
       "2016-01-05       1.0        4.0  \n",
       "2016-01-06       5.0        4.0  \n",
       "2016-01-07       1.0        4.0  \n",
       "2016-01-08       2.0        4.0  \n",
       "\n",
       "[5 rows x 23 columns]"
      ]
     },
     "execution_count": 1,
     "metadata": {},
     "output_type": "execute_result"
    }
   ],
   "source": [
    "import pandas as pd\n",
    "df = pd.read_csv('3dni_pogoda.csv')\n",
    "df.index = df['Data czas']\n",
    "df.drop(columns='Data czas', inplace = True)\n",
    "df.head()"
   ]
  },
  {
   "cell_type": "code",
   "execution_count": 2,
   "metadata": {},
   "outputs": [],
   "source": [
    "X = df.drop('Energia(t)', axis=1)\n",
    "y = df['Energia(t)']"
   ]
  },
  {
   "cell_type": "code",
   "execution_count": 3,
   "metadata": {},
   "outputs": [],
   "source": [
    "X_train, X_test, y_train, y_test = X[:'2017-10-01'], X['2017-10-01':] ,y[:'2017-10-01'] ,y['2017-10-01':]"
   ]
  },
  {
   "cell_type": "raw",
   "metadata": {},
   "source": [
    "Values have been scaled in order to make learning of the model more efficient"
   ]
  },
  {
   "cell_type": "code",
   "execution_count": 4,
   "metadata": {},
   "outputs": [
    {
     "data": {
      "text/plain": [
       "StandardScaler(copy=True, with_mean=True, with_std=True)"
      ]
     },
     "execution_count": 4,
     "metadata": {},
     "output_type": "execute_result"
    }
   ],
   "source": [
    "from sklearn.preprocessing import StandardScaler\n",
    "scaler = StandardScaler()\n",
    "\n",
    "scaler.fit(X_train)\n",
    "scaler.fit(X_test)"
   ]
  },
  {
   "cell_type": "code",
   "execution_count": 5,
   "metadata": {},
   "outputs": [],
   "source": [
    "X_train = scaler.transform(X_train)\n",
    "X_test = scaler.transform(X_test)"
   ]
  },
  {
   "cell_type": "raw",
   "metadata": {},
   "source": [
    "Parameters of the model have been chosen using greed search. L2 regularization have been used to prevent overfitting"
   ]
  },
  {
   "cell_type": "code",
   "execution_count": 6,
   "metadata": {},
   "outputs": [
    {
     "data": {
      "text/plain": [
       "\"from sklearn.metrics import mean_squared_error, explained_variance_score\\nimport numpy as np\\n\\n#alphas = np.logspace(-5, 5, 6)\\nmomentums = range(1, 10, 1)\\nlearning_rates = range(5, 30)\\n\\nregressors = []\\nnames = []\\n\\nfor lr in learning_rates:\\n    for m in momentums:\\n        regressors.append(MLPRegressor(hidden_layer_sizes=(33, 33, 33),max_iter=500,\\n                                       shuffle=False,\\n                                       activation='relu',\\n                                       alpha=100000, random_state=1,\\n                                       momentum=m/10,learning_rate_init=lr/10000))\\n        names.append('momentum {}, learning rate {}'.format(m/10, lr/10000))\\n\\nfor name, regressor in zip(names, regressors):\\n    regressor.fit(X_train,y_train)\\n    y_p = regressor.predict(X_test)\\n    print('Alpha {} R2 score: {}'.format(name, explained_variance_score(y_test, y_p)))\\n    print('Alpha {} mean squered error: {}'.format(name, mean_squared_error(y_test, y_p)))\\n    print('Alpha {} root mean squered error: {}'.format(name, np.sqrt(mean_squared_error(y_test, y_p))))\""
      ]
     },
     "execution_count": 6,
     "metadata": {},
     "output_type": "execute_result"
    }
   ],
   "source": [
    "from sklearn.neural_network import MLPRegressor\n",
    "'''from sklearn.metrics import mean_squared_error, explained_variance_score\n",
    "import numpy as np\n",
    "\n",
    "#alphas = np.logspace(-5, 5, 6)\n",
    "momentums = range(1, 10, 1)\n",
    "learning_rates = range(5, 30)\n",
    "\n",
    "regressors = []\n",
    "names = []\n",
    "\n",
    "for lr in learning_rates:\n",
    "    for m in momentums:\n",
    "        regressors.append(MLPRegressor(hidden_layer_sizes=(33, 33, 33),max_iter=500,\n",
    "                                       shuffle=False,\n",
    "                                       activation='relu',\n",
    "                                       alpha=100000, random_state=1,\n",
    "                                       momentum=m/10,learning_rate_init=lr/10000))\n",
    "        names.append('momentum {}, learning rate {}'.format(m/10, lr/10000))\n",
    "\n",
    "for name, regressor in zip(names, regressors):\n",
    "    regressor.fit(X_train,y_train)\n",
    "    y_p = regressor.predict(X_test)\n",
    "    print('Alpha {} R2 score: {}'.format(name, explained_variance_score(y_test, y_p)))\n",
    "    print('Alpha {} mean squered error: {}'.format(name, mean_squared_error(y_test, y_p)))\n",
    "    print('Alpha {} root mean squered error: {}'.format(name, np.sqrt(mean_squared_error(y_test, y_p))))'''"
   ]
  },
  {
   "cell_type": "raw",
   "metadata": {},
   "source": [
    "The final model looks as follows"
   ]
  },
  {
   "cell_type": "code",
   "execution_count": 7,
   "metadata": {},
   "outputs": [
    {
     "name": "stderr",
     "output_type": "stream",
     "text": [
      "C:\\Anaconda\\Anaconda3\\lib\\site-packages\\sklearn\\neural_network\\multilayer_perceptron.py:562: ConvergenceWarning: Stochastic Optimizer: Maximum iterations (500) reached and the optimization hasn't converged yet.\n",
      "  % self.max_iter, ConvergenceWarning)\n"
     ]
    },
    {
     "data": {
      "text/plain": [
       "MLPRegressor(activation='relu', alpha=100000, batch_size='auto', beta_1=0.9,\n",
       "       beta_2=0.999, early_stopping=False, epsilon=1e-08,\n",
       "       hidden_layer_sizes=(33, 33, 33), learning_rate='constant',\n",
       "       learning_rate_init=0.0028, max_iter=500, momentum=0.1,\n",
       "       n_iter_no_change=10, nesterovs_momentum=True, power_t=0.5,\n",
       "       random_state=1, shuffle=False, solver='adam', tol=0.0001,\n",
       "       validation_fraction=0.1, verbose=False, warm_start=False)"
      ]
     },
     "execution_count": 7,
     "metadata": {},
     "output_type": "execute_result"
    }
   ],
   "source": [
    "mlp = MLPRegressor(hidden_layer_sizes=(33, 33, 33),max_iter=500,\n",
    "                                       shuffle=False,\n",
    "                                       activation='relu',\n",
    "                                       alpha=100000, random_state=1,\n",
    "                                       momentum=0.1,learning_rate_init=0.0028)\n",
    "mlp.fit(X_train,y_train)"
   ]
  },
  {
   "cell_type": "raw",
   "metadata": {},
   "source": [
    "Predictions have been made and measured using R2 and RMSE scores"
   ]
  },
  {
   "cell_type": "code",
   "execution_count": 8,
   "metadata": {},
   "outputs": [],
   "source": [
    "y_pred = mlp.predict(X_test)"
   ]
  },
  {
   "cell_type": "code",
   "execution_count": 9,
   "metadata": {},
   "outputs": [
    {
     "name": "stdout",
     "output_type": "stream",
     "text": [
      "R2 score: 0.9349169405038731\n",
      "Mean squered error: 28052065.269289598\n",
      "Root mean squered error: 5296.420042754313\n"
     ]
    }
   ],
   "source": [
    "from sklearn.metrics import mean_squared_error, explained_variance_score\n",
    "import numpy as np\n",
    "\n",
    "print('R2 score: {}'.format(explained_variance_score(y_test, y_pred)))\n",
    "print('Mean squered error: {}'.format(mean_squared_error(y_test, y_pred)))\n",
    "print('Root mean squered error: {}'.format(np.sqrt(mean_squared_error(y_test, y_pred))))"
   ]
  },
  {
   "cell_type": "code",
   "execution_count": 10,
   "metadata": {},
   "outputs": [],
   "source": [
    "from pandas import Series\n",
    "\n",
    "y_pred_df = pd.DataFrame(data=y_pred, index=X['2017-10-01':].index.values)"
   ]
  },
  {
   "cell_type": "code",
   "execution_count": 11,
   "metadata": {},
   "outputs": [],
   "source": [
    "y_pred_df.index = pd.to_datetime(y_pred_df.index)"
   ]
  },
  {
   "cell_type": "code",
   "execution_count": 12,
   "metadata": {},
   "outputs": [],
   "source": [
    "df.index = pd.to_datetime(df.index)"
   ]
  },
  {
   "cell_type": "raw",
   "metadata": {},
   "source": [
    "The chart presents original times series (both from training and test parts) along with predicted one"
   ]
  },
  {
   "cell_type": "code",
   "execution_count": 13,
   "metadata": {},
   "outputs": [
    {
     "data": {
      "text/plain": [
       "<Figure size 1400x700 with 1 Axes>"
      ]
     },
     "metadata": {},
     "output_type": "display_data"
    }
   ],
   "source": [
    "import matplotlib.pyplot as plt\n",
    "\n",
    "ax = df['Energia(t)'].plot(figsize=(14, 7))\n",
    "y_pred_df.plot(ax=ax, label='Predykcja', alpha=.7, figsize=(14, 7))\n",
    "\n",
    "ax.set_xlabel('Date')\n",
    "ax.set_ylabel('Energy')\n",
    "plt.legend()\n",
    "\n",
    "plt.savefig('wykres.jpg')\n",
    "plt.show()"
   ]
  },
  {
   "cell_type": "raw",
   "metadata": {},
   "source": [
    "Just to make sure the model is not giving shifted values from input, the data from narrow period have been shown"
   ]
  },
  {
   "cell_type": "code",
   "execution_count": 14,
   "metadata": {},
   "outputs": [
    {
     "data": {
      "image/png": "[encoded data removed]",
      "text/plain": [
       "<Figure size 1008x504 with 1 Axes>"
      ]
     },
     "metadata": {
      "needs_background": "light"
     },
     "output_type": "display_data"
    }
   ],
   "source": [
    "ax = df['Energia(t)'].loc['2017-10-01':].plot(figsize=(14, 7))\n",
    "y_pred_df.plot(ax=ax, label='Predykcja', alpha=.7, figsize=(14, 7))\n",
    "\n",
    "ax.set_xlabel('Date')\n",
    "ax.set_ylabel('Energy')\n",
    "plt.legend()\n",
    "\n",
    "plt.savefig('wykres.jpg')\n",
    "plt.show()"
   ]
  },
  {
   "cell_type": "raw",
   "metadata": {},
   "source": [
    "In order to asses feature importances, sum of absolute values of weights coming from elements of input vector to first hidden layer have been summarized. Then they were normalized and visualized in a heatmap. It shows that the most important feature was value of energy measured in previous time window, followed by temperature in the current day, its length and \"type\" (which day in a week it is)."
   ]
  },
  {
   "cell_type": "code",
   "execution_count": 152,
   "metadata": {},
   "outputs": [],
   "source": [
    "input_weights = np.abs(mlp.coefs_[0]).sum(axis=1)\n",
    "input_weights = input_weights/np.linalg.norm(input_weights, ord=2, axis=0, keepdims=True)\n",
    "input_weights_df = pd.DataFrame(input_weights).set_index(X.columns)\n",
    "input_weights_df.rename(columns={ input_weights_df.columns[0]: 'Weight' }, inplace=True)"
   ]
  },
  {
   "cell_type": "code",
   "execution_count": 156,
   "metadata": {},
   "outputs": [
    {
     "data": {
      "text/plain": [
       "<matplotlib.axes._subplots.AxesSubplot at 0x142a5572390>"
      ]
     },
     "execution_count": 156,
     "metadata": {},
     "output_type": "execute_result"
    },
    {
     "data": {
      "image/png": "[encoded data removed]",
      "text/plain": [
       "<Figure size 648x648 with 2 Axes>"
      ]
     },
     "metadata": {
      "needs_background": "light"
     },
     "output_type": "display_data"
    }
   ],
   "source": [
    "import seaborn as sns\n",
    "\n",
    "fig, ax = plt.subplots(figsize=(9,9))  \n",
    "sns.heatmap(input_weights_df, annot=True)"
   ]
  },
  {
   "cell_type": "code",
   "execution_count": null,
   "metadata": {},
   "outputs": [],
   "source": []
  }
 ],
 "metadata": {
  "kernelspec": {
   "display_name": "Python 3",
   "language": "python",
   "name": "python3"
  },
  "language_info": {
   "codemirror_mode": {
    "name": "ipython",
    "version": 3
   },
   "file_extension": ".py",
   "mimetype": "text/x-python",
   "name": "python",
   "nbconvert_exporter": "python",
   "pygments_lexer": "ipython3",
   "version": "3.7.3"
  }
 },
 "nbformat": 4,
 "nbformat_minor": 2
}
