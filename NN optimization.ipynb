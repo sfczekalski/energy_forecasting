{
 "cells": [
  {
   "cell_type": "code",
   "execution_count": 1,
   "metadata": {},
   "outputs": [
    {
     "data": {
      "text/html": [
       "<div>\n",
       "<style scoped>\n",
       "    .dataframe tbody tr th:only-of-type {\n",
       "        vertical-align: middle;\n",
       "    }\n",
       "\n",
       "    .dataframe tbody tr th {\n",
       "        vertical-align: top;\n",
       "    }\n",
       "\n",
       "    .dataframe thead th {\n",
       "        text-align: right;\n",
       "    }\n",
       "</style>\n",
       "<table border=\"1\" class=\"dataframe\">\n",
       "  <thead>\n",
       "    <tr style=\"text-align: right;\">\n",
       "      <th></th>\n",
       "      <th>Energia(t-3)</th>\n",
       "      <th>Temp_zewn(t-3)</th>\n",
       "      <th>V_wiatru(t-3)</th>\n",
       "      <th>Wilg(t-3)</th>\n",
       "      <th>Zachm(t-3)</th>\n",
       "      <th>Energia(t-2)</th>\n",
       "      <th>Temp_zewn(t-2)</th>\n",
       "      <th>V_wiatru(t-2)</th>\n",
       "      <th>Wilg(t-2)</th>\n",
       "      <th>Zachm(t-2)</th>\n",
       "      <th>...</th>\n",
       "      <th>Wilg(t-1)</th>\n",
       "      <th>Zachm(t-1)</th>\n",
       "      <th>Energia(t)</th>\n",
       "      <th>Temp_zewn(t)</th>\n",
       "      <th>V_wiatru(t)</th>\n",
       "      <th>Wilg(t)</th>\n",
       "      <th>Zachm(t)</th>\n",
       "      <th>Dlug_dnia</th>\n",
       "      <th>Typ_dnia</th>\n",
       "      <th>Pora_roku</th>\n",
       "    </tr>\n",
       "    <tr>\n",
       "      <th>Data czas</th>\n",
       "      <th></th>\n",
       "      <th></th>\n",
       "      <th></th>\n",
       "      <th></th>\n",
       "      <th></th>\n",
       "      <th></th>\n",
       "      <th></th>\n",
       "      <th></th>\n",
       "      <th></th>\n",
       "      <th></th>\n",
       "      <th></th>\n",
       "      <th></th>\n",
       "      <th></th>\n",
       "      <th></th>\n",
       "      <th></th>\n",
       "      <th></th>\n",
       "      <th></th>\n",
       "      <th></th>\n",
       "      <th></th>\n",
       "      <th></th>\n",
       "      <th></th>\n",
       "    </tr>\n",
       "  </thead>\n",
       "  <tbody>\n",
       "    <tr>\n",
       "      <th>2016-01-04</th>\n",
       "      <td>4065.480609</td>\n",
       "      <td>-3.691304</td>\n",
       "      <td>3.260870</td>\n",
       "      <td>78.565217</td>\n",
       "      <td>7.304348</td>\n",
       "      <td>4699.010000</td>\n",
       "      <td>-9.341667</td>\n",
       "      <td>4.416667</td>\n",
       "      <td>70.083333</td>\n",
       "      <td>1.416667</td>\n",
       "      <td>...</td>\n",
       "      <td>68.458333</td>\n",
       "      <td>0.041667</td>\n",
       "      <td>5232.324750</td>\n",
       "      <td>-9.908333</td>\n",
       "      <td>3.750000</td>\n",
       "      <td>55.125000</td>\n",
       "      <td>0.000000</td>\n",
       "      <td>7.517</td>\n",
       "      <td>1.0</td>\n",
       "      <td>4.0</td>\n",
       "    </tr>\n",
       "    <tr>\n",
       "      <th>2016-01-05</th>\n",
       "      <td>4699.010000</td>\n",
       "      <td>-9.341667</td>\n",
       "      <td>4.416667</td>\n",
       "      <td>70.083333</td>\n",
       "      <td>1.416667</td>\n",
       "      <td>5123.421500</td>\n",
       "      <td>-11.200000</td>\n",
       "      <td>3.708333</td>\n",
       "      <td>68.458333</td>\n",
       "      <td>0.041667</td>\n",
       "      <td>...</td>\n",
       "      <td>55.125000</td>\n",
       "      <td>0.000000</td>\n",
       "      <td>5489.413208</td>\n",
       "      <td>-10.616667</td>\n",
       "      <td>1.916667</td>\n",
       "      <td>61.916667</td>\n",
       "      <td>1.333333</td>\n",
       "      <td>7.550</td>\n",
       "      <td>1.0</td>\n",
       "      <td>4.0</td>\n",
       "    </tr>\n",
       "    <tr>\n",
       "      <th>2016-01-06</th>\n",
       "      <td>5123.421500</td>\n",
       "      <td>-11.200000</td>\n",
       "      <td>3.708333</td>\n",
       "      <td>68.458333</td>\n",
       "      <td>0.041667</td>\n",
       "      <td>5232.324750</td>\n",
       "      <td>-9.908333</td>\n",
       "      <td>3.750000</td>\n",
       "      <td>55.125000</td>\n",
       "      <td>0.000000</td>\n",
       "      <td>...</td>\n",
       "      <td>61.916667</td>\n",
       "      <td>1.333333</td>\n",
       "      <td>5661.893417</td>\n",
       "      <td>-11.320833</td>\n",
       "      <td>1.583333</td>\n",
       "      <td>77.583333</td>\n",
       "      <td>0.125000</td>\n",
       "      <td>7.583</td>\n",
       "      <td>5.0</td>\n",
       "      <td>4.0</td>\n",
       "    </tr>\n",
       "    <tr>\n",
       "      <th>2016-01-07</th>\n",
       "      <td>5232.324750</td>\n",
       "      <td>-9.908333</td>\n",
       "      <td>3.750000</td>\n",
       "      <td>55.125000</td>\n",
       "      <td>0.000000</td>\n",
       "      <td>5489.413208</td>\n",
       "      <td>-10.616667</td>\n",
       "      <td>1.916667</td>\n",
       "      <td>61.916667</td>\n",
       "      <td>1.333333</td>\n",
       "      <td>...</td>\n",
       "      <td>77.583333</td>\n",
       "      <td>0.125000</td>\n",
       "      <td>5415.852458</td>\n",
       "      <td>-7.220833</td>\n",
       "      <td>2.791667</td>\n",
       "      <td>69.541667</td>\n",
       "      <td>5.916667</td>\n",
       "      <td>7.600</td>\n",
       "      <td>1.0</td>\n",
       "      <td>4.0</td>\n",
       "    </tr>\n",
       "    <tr>\n",
       "      <th>2016-01-08</th>\n",
       "      <td>5489.413208</td>\n",
       "      <td>-10.616667</td>\n",
       "      <td>1.916667</td>\n",
       "      <td>61.916667</td>\n",
       "      <td>1.333333</td>\n",
       "      <td>5661.893417</td>\n",
       "      <td>-11.320833</td>\n",
       "      <td>1.583333</td>\n",
       "      <td>77.583333</td>\n",
       "      <td>0.125000</td>\n",
       "      <td>...</td>\n",
       "      <td>69.541667</td>\n",
       "      <td>5.916667</td>\n",
       "      <td>4732.605458</td>\n",
       "      <td>-1.837500</td>\n",
       "      <td>3.916667</td>\n",
       "      <td>90.416667</td>\n",
       "      <td>7.958333</td>\n",
       "      <td>7.650</td>\n",
       "      <td>2.0</td>\n",
       "      <td>4.0</td>\n",
       "    </tr>\n",
       "  </tbody>\n",
       "</table>\n",
       "<p>5 rows × 23 columns</p>\n",
       "</div>"
      ],
      "text/plain": [
       "            Energia(t-3)  Temp_zewn(t-3)  V_wiatru(t-3)  Wilg(t-3)  \\\n",
       "Data czas                                                            \n",
       "2016-01-04   4065.480609       -3.691304       3.260870  78.565217   \n",
       "2016-01-05   4699.010000       -9.341667       4.416667  70.083333   \n",
       "2016-01-06   5123.421500      -11.200000       3.708333  68.458333   \n",
       "2016-01-07   5232.324750       -9.908333       3.750000  55.125000   \n",
       "2016-01-08   5489.413208      -10.616667       1.916667  61.916667   \n",
       "\n",
       "            Zachm(t-3)  Energia(t-2)  Temp_zewn(t-2)  V_wiatru(t-2)  \\\n",
       "Data czas                                                             \n",
       "2016-01-04    7.304348   4699.010000       -9.341667       4.416667   \n",
       "2016-01-05    1.416667   5123.421500      -11.200000       3.708333   \n",
       "2016-01-06    0.041667   5232.324750       -9.908333       3.750000   \n",
       "2016-01-07    0.000000   5489.413208      -10.616667       1.916667   \n",
       "2016-01-08    1.333333   5661.893417      -11.320833       1.583333   \n",
       "\n",
       "            Wilg(t-2)  Zachm(t-2)    ...      Wilg(t-1)  Zachm(t-1)  \\\n",
       "Data czas                            ...                              \n",
       "2016-01-04  70.083333    1.416667    ...      68.458333    0.041667   \n",
       "2016-01-05  68.458333    0.041667    ...      55.125000    0.000000   \n",
       "2016-01-06  55.125000    0.000000    ...      61.916667    1.333333   \n",
       "2016-01-07  61.916667    1.333333    ...      77.583333    0.125000   \n",
       "2016-01-08  77.583333    0.125000    ...      69.541667    5.916667   \n",
       "\n",
       "             Energia(t)  Temp_zewn(t)  V_wiatru(t)    Wilg(t)  Zachm(t)  \\\n",
       "Data czas                                                                 \n",
       "2016-01-04  5232.324750     -9.908333     3.750000  55.125000  0.000000   \n",
       "2016-01-05  5489.413208    -10.616667     1.916667  61.916667  1.333333   \n",
       "2016-01-06  5661.893417    -11.320833     1.583333  77.583333  0.125000   \n",
       "2016-01-07  5415.852458     -7.220833     2.791667  69.541667  5.916667   \n",
       "2016-01-08  4732.605458     -1.837500     3.916667  90.416667  7.958333   \n",
       "\n",
       "            Dlug_dnia  Typ_dnia  Pora_roku  \n",
       "Data czas                                   \n",
       "2016-01-04      7.517       1.0        4.0  \n",
       "2016-01-05      7.550       1.0        4.0  \n",
       "2016-01-06      7.583       5.0        4.0  \n",
       "2016-01-07      7.600       1.0        4.0  \n",
       "2016-01-08      7.650       2.0        4.0  \n",
       "\n",
       "[5 rows x 23 columns]"
      ]
     },
     "execution_count": 1,
     "metadata": {},
     "output_type": "execute_result"
    }
   ],
   "source": [
    "import pandas as pd\n",
    "df = pd.read_csv('3dni_pogoda.csv')\n",
    "df.index = df['Data czas']\n",
    "df.drop(columns='Data czas', inplace = True)\n",
    "df.head()"
   ]
  },
  {
   "cell_type": "code",
   "execution_count": 2,
   "metadata": {},
   "outputs": [],
   "source": [
    "X = df.drop('Energia(t)', axis=1)\n",
    "y = df['Energia(t)']"
   ]
  },
  {
   "cell_type": "code",
   "execution_count": 3,
   "metadata": {},
   "outputs": [],
   "source": [
    "X_train, X_test, y_train, y_test = X[:'2017-10-01'], X['2017-10-01':] ,y[:'2017-10-01'] ,y['2017-10-01':]"
   ]
  },
  {
   "cell_type": "code",
   "execution_count": 4,
   "metadata": {},
   "outputs": [
    {
     "data": {
      "text/plain": [
       "StandardScaler(copy=True, with_mean=True, with_std=True)"
      ]
     },
     "execution_count": 4,
     "metadata": {},
     "output_type": "execute_result"
    }
   ],
   "source": [
    "from sklearn.preprocessing import StandardScaler\n",
    "scaler = StandardScaler()\n",
    "\n",
    "scaler.fit(X_train)"
   ]
  },
  {
   "cell_type": "code",
   "execution_count": 5,
   "metadata": {},
   "outputs": [],
   "source": [
    "X_train = scaler.transform(X_train)\n",
    "X_test = scaler.transform(X_test)"
   ]
  },
  {
   "cell_type": "code",
   "execution_count": 6,
   "metadata": {},
   "outputs": [
    {
     "name": "stderr",
     "output_type": "stream",
     "text": [
      "/home/stas/anaconda3/lib/python3.7/site-packages/sklearn/neural_network/multilayer_perceptron.py:562: ConvergenceWarning: Stochastic Optimizer: Maximum iterations (500) reached and the optimization hasn't converged yet.\n",
      "  % self.max_iter, ConvergenceWarning)\n"
     ]
    },
    {
     "data": {
      "text/plain": [
       "MLPRegressor(activation='relu', alpha=100000, batch_size='auto', beta_1=0.9,\n",
       "       beta_2=0.999, early_stopping=False, epsilon=1e-08,\n",
       "       hidden_layer_sizes=(33, 33, 33), learning_rate='constant',\n",
       "       learning_rate_init=0.001, max_iter=500, momentum=0.9,\n",
       "       n_iter_no_change=10, nesterovs_momentum=True, power_t=0.5,\n",
       "       random_state=1, shuffle=False, solver='adam', tol=0.0001,\n",
       "       validation_fraction=0.1, verbose=False, warm_start=False)"
      ]
     },
     "execution_count": 6,
     "metadata": {},
     "output_type": "execute_result"
    }
   ],
   "source": [
    "from sklearn.neural_network import MLPRegressor\n",
    "\n",
    "\n",
    "mlp = MLPRegressor(hidden_layer_sizes=(33, 33, 33), max_iter=500,\n",
    "                   shuffle=False,# early_stopping=True,\n",
    "                  activation='relu', random_state=1,\n",
    "                  alpha=100000)\n",
    "mlp.fit(X_train,y_train)\n"
   ]
  },
  {
   "cell_type": "code",
   "execution_count": 75,
   "metadata": {},
   "outputs": [
    {
     "name": "stderr",
     "output_type": "stream",
     "text": [
      "/home/stas/anaconda3/lib/python3.7/site-packages/sklearn/neural_network/multilayer_perceptron.py:562: ConvergenceWarning: Stochastic Optimizer: Maximum iterations (500) reached and the optimization hasn't converged yet.\n",
      "  % self.max_iter, ConvergenceWarning)\n"
     ]
    },
    {
     "name": "stdout",
     "output_type": "stream",
     "text": [
      "Alpha momentum 0.1, learning rate 0.0005 R2 score: 0.7100664991802068\n",
      "Alpha momentum 0.1, learning rate 0.0005 mean squered error: 135396.98981908173\n",
      "Alpha momentum 0.1, learning rate 0.0005 root mean squered error: 367.9632995545639\n"
     ]
    },
    {
     "name": "stderr",
     "output_type": "stream",
     "text": [
      "/home/stas/anaconda3/lib/python3.7/site-packages/sklearn/neural_network/multilayer_perceptron.py:562: ConvergenceWarning: Stochastic Optimizer: Maximum iterations (500) reached and the optimization hasn't converged yet.\n",
      "  % self.max_iter, ConvergenceWarning)\n"
     ]
    },
    {
     "name": "stdout",
     "output_type": "stream",
     "text": [
      "Alpha momentum 0.2, learning rate 0.0005 R2 score: 0.7100664991802068\n",
      "Alpha momentum 0.2, learning rate 0.0005 mean squered error: 135396.98981908173\n",
      "Alpha momentum 0.2, learning rate 0.0005 root mean squered error: 367.9632995545639\n"
     ]
    },
    {
     "name": "stderr",
     "output_type": "stream",
     "text": [
      "/home/stas/anaconda3/lib/python3.7/site-packages/sklearn/neural_network/multilayer_perceptron.py:562: ConvergenceWarning: Stochastic Optimizer: Maximum iterations (500) reached and the optimization hasn't converged yet.\n",
      "  % self.max_iter, ConvergenceWarning)\n"
     ]
    },
    {
     "name": "stdout",
     "output_type": "stream",
     "text": [
      "Alpha momentum 0.3, learning rate 0.0005 R2 score: 0.7100664991802068\n",
      "Alpha momentum 0.3, learning rate 0.0005 mean squered error: 135396.98981908173\n",
      "Alpha momentum 0.3, learning rate 0.0005 root mean squered error: 367.9632995545639\n"
     ]
    },
    {
     "name": "stderr",
     "output_type": "stream",
     "text": [
      "/home/stas/anaconda3/lib/python3.7/site-packages/sklearn/neural_network/multilayer_perceptron.py:562: ConvergenceWarning: Stochastic Optimizer: Maximum iterations (500) reached and the optimization hasn't converged yet.\n",
      "  % self.max_iter, ConvergenceWarning)\n"
     ]
    },
    {
     "name": "stdout",
     "output_type": "stream",
     "text": [
      "Alpha momentum 0.4, learning rate 0.0005 R2 score: 0.7100664991802068\n",
      "Alpha momentum 0.4, learning rate 0.0005 mean squered error: 135396.98981908173\n",
      "Alpha momentum 0.4, learning rate 0.0005 root mean squered error: 367.9632995545639\n"
     ]
    },
    {
     "name": "stderr",
     "output_type": "stream",
     "text": [
      "/home/stas/anaconda3/lib/python3.7/site-packages/sklearn/neural_network/multilayer_perceptron.py:562: ConvergenceWarning: Stochastic Optimizer: Maximum iterations (500) reached and the optimization hasn't converged yet.\n",
      "  % self.max_iter, ConvergenceWarning)\n"
     ]
    },
    {
     "name": "stdout",
     "output_type": "stream",
     "text": [
      "Alpha momentum 0.5, learning rate 0.0005 R2 score: 0.7100664991802068\n",
      "Alpha momentum 0.5, learning rate 0.0005 mean squered error: 135396.98981908173\n",
      "Alpha momentum 0.5, learning rate 0.0005 root mean squered error: 367.9632995545639\n"
     ]
    },
    {
     "name": "stderr",
     "output_type": "stream",
     "text": [
      "/home/stas/anaconda3/lib/python3.7/site-packages/sklearn/neural_network/multilayer_perceptron.py:562: ConvergenceWarning: Stochastic Optimizer: Maximum iterations (500) reached and the optimization hasn't converged yet.\n",
      "  % self.max_iter, ConvergenceWarning)\n"
     ]
    },
    {
     "name": "stdout",
     "output_type": "stream",
     "text": [
      "Alpha momentum 0.6, learning rate 0.0005 R2 score: 0.7100664991802068\n",
      "Alpha momentum 0.6, learning rate 0.0005 mean squered error: 135396.98981908173\n",
      "Alpha momentum 0.6, learning rate 0.0005 root mean squered error: 367.9632995545639\n"
     ]
    },
    {
     "name": "stderr",
     "output_type": "stream",
     "text": [
      "/home/stas/anaconda3/lib/python3.7/site-packages/sklearn/neural_network/multilayer_perceptron.py:562: ConvergenceWarning: Stochastic Optimizer: Maximum iterations (500) reached and the optimization hasn't converged yet.\n",
      "  % self.max_iter, ConvergenceWarning)\n"
     ]
    },
    {
     "name": "stdout",
     "output_type": "stream",
     "text": [
      "Alpha momentum 0.7, learning rate 0.0005 R2 score: 0.7100664991802068\n",
      "Alpha momentum 0.7, learning rate 0.0005 mean squered error: 135396.98981908173\n",
      "Alpha momentum 0.7, learning rate 0.0005 root mean squered error: 367.9632995545639\n"
     ]
    },
    {
     "name": "stderr",
     "output_type": "stream",
     "text": [
      "/home/stas/anaconda3/lib/python3.7/site-packages/sklearn/neural_network/multilayer_perceptron.py:562: ConvergenceWarning: Stochastic Optimizer: Maximum iterations (500) reached and the optimization hasn't converged yet.\n",
      "  % self.max_iter, ConvergenceWarning)\n"
     ]
    },
    {
     "name": "stdout",
     "output_type": "stream",
     "text": [
      "Alpha momentum 0.8, learning rate 0.0005 R2 score: 0.7100664991802068\n",
      "Alpha momentum 0.8, learning rate 0.0005 mean squered error: 135396.98981908173\n",
      "Alpha momentum 0.8, learning rate 0.0005 root mean squered error: 367.9632995545639\n"
     ]
    },
    {
     "name": "stderr",
     "output_type": "stream",
     "text": [
      "/home/stas/anaconda3/lib/python3.7/site-packages/sklearn/neural_network/multilayer_perceptron.py:562: ConvergenceWarning: Stochastic Optimizer: Maximum iterations (500) reached and the optimization hasn't converged yet.\n",
      "  % self.max_iter, ConvergenceWarning)\n"
     ]
    },
    {
     "name": "stdout",
     "output_type": "stream",
     "text": [
      "Alpha momentum 0.9, learning rate 0.0005 R2 score: 0.7100664991802068\n",
      "Alpha momentum 0.9, learning rate 0.0005 mean squered error: 135396.98981908173\n",
      "Alpha momentum 0.9, learning rate 0.0005 root mean squered error: 367.9632995545639\n"
     ]
    },
    {
     "name": "stderr",
     "output_type": "stream",
     "text": [
      "/home/stas/anaconda3/lib/python3.7/site-packages/sklearn/neural_network/multilayer_perceptron.py:562: ConvergenceWarning: Stochastic Optimizer: Maximum iterations (500) reached and the optimization hasn't converged yet.\n",
      "  % self.max_iter, ConvergenceWarning)\n"
     ]
    },
    {
     "name": "stdout",
     "output_type": "stream",
     "text": [
      "Alpha momentum 0.1, learning rate 0.0006 R2 score: 0.7691537796820849\n",
      "Alpha momentum 0.1, learning rate 0.0006 mean squered error: 99899.66316431703\n",
      "Alpha momentum 0.1, learning rate 0.0006 root mean squered error: 316.06907973466343\n"
     ]
    },
    {
     "name": "stderr",
     "output_type": "stream",
     "text": [
      "/home/stas/anaconda3/lib/python3.7/site-packages/sklearn/neural_network/multilayer_perceptron.py:562: ConvergenceWarning: Stochastic Optimizer: Maximum iterations (500) reached and the optimization hasn't converged yet.\n",
      "  % self.max_iter, ConvergenceWarning)\n"
     ]
    },
    {
     "name": "stdout",
     "output_type": "stream",
     "text": [
      "Alpha momentum 0.2, learning rate 0.0006 R2 score: 0.7691537796820849\n",
      "Alpha momentum 0.2, learning rate 0.0006 mean squered error: 99899.66316431703\n",
      "Alpha momentum 0.2, learning rate 0.0006 root mean squered error: 316.06907973466343\n"
     ]
    },
    {
     "name": "stderr",
     "output_type": "stream",
     "text": [
      "/home/stas/anaconda3/lib/python3.7/site-packages/sklearn/neural_network/multilayer_perceptron.py:562: ConvergenceWarning: Stochastic Optimizer: Maximum iterations (500) reached and the optimization hasn't converged yet.\n",
      "  % self.max_iter, ConvergenceWarning)\n"
     ]
    },
    {
     "name": "stdout",
     "output_type": "stream",
     "text": [
      "Alpha momentum 0.3, learning rate 0.0006 R2 score: 0.7691537796820849\n",
      "Alpha momentum 0.3, learning rate 0.0006 mean squered error: 99899.66316431703\n",
      "Alpha momentum 0.3, learning rate 0.0006 root mean squered error: 316.06907973466343\n"
     ]
    },
    {
     "name": "stderr",
     "output_type": "stream",
     "text": [
      "/home/stas/anaconda3/lib/python3.7/site-packages/sklearn/neural_network/multilayer_perceptron.py:562: ConvergenceWarning: Stochastic Optimizer: Maximum iterations (500) reached and the optimization hasn't converged yet.\n",
      "  % self.max_iter, ConvergenceWarning)\n"
     ]
    },
    {
     "name": "stdout",
     "output_type": "stream",
     "text": [
      "Alpha momentum 0.4, learning rate 0.0006 R2 score: 0.7691537796820849\n",
      "Alpha momentum 0.4, learning rate 0.0006 mean squered error: 99899.66316431703\n",
      "Alpha momentum 0.4, learning rate 0.0006 root mean squered error: 316.06907973466343\n"
     ]
    },
    {
     "name": "stderr",
     "output_type": "stream",
     "text": [
      "/home/stas/anaconda3/lib/python3.7/site-packages/sklearn/neural_network/multilayer_perceptron.py:562: ConvergenceWarning: Stochastic Optimizer: Maximum iterations (500) reached and the optimization hasn't converged yet.\n",
      "  % self.max_iter, ConvergenceWarning)\n"
     ]
    },
    {
     "name": "stdout",
     "output_type": "stream",
     "text": [
      "Alpha momentum 0.5, learning rate 0.0006 R2 score: 0.7691537796820849\n",
      "Alpha momentum 0.5, learning rate 0.0006 mean squered error: 99899.66316431703\n",
      "Alpha momentum 0.5, learning rate 0.0006 root mean squered error: 316.06907973466343\n"
     ]
    },
    {
     "name": "stderr",
     "output_type": "stream",
     "text": [
      "/home/stas/anaconda3/lib/python3.7/site-packages/sklearn/neural_network/multilayer_perceptron.py:562: ConvergenceWarning: Stochastic Optimizer: Maximum iterations (500) reached and the optimization hasn't converged yet.\n",
      "  % self.max_iter, ConvergenceWarning)\n"
     ]
    },
    {
     "name": "stdout",
     "output_type": "stream",
     "text": [
      "Alpha momentum 0.6, learning rate 0.0006 R2 score: 0.7691537796820849\n",
      "Alpha momentum 0.6, learning rate 0.0006 mean squered error: 99899.66316431703\n",
      "Alpha momentum 0.6, learning rate 0.0006 root mean squered error: 316.06907973466343\n"
     ]
    },
    {
     "name": "stderr",
     "output_type": "stream",
     "text": [
      "/home/stas/anaconda3/lib/python3.7/site-packages/sklearn/neural_network/multilayer_perceptron.py:562: ConvergenceWarning: Stochastic Optimizer: Maximum iterations (500) reached and the optimization hasn't converged yet.\n",
      "  % self.max_iter, ConvergenceWarning)\n"
     ]
    },
    {
     "name": "stdout",
     "output_type": "stream",
     "text": [
      "Alpha momentum 0.7, learning rate 0.0006 R2 score: 0.7691537796820849\n",
      "Alpha momentum 0.7, learning rate 0.0006 mean squered error: 99899.66316431703\n",
      "Alpha momentum 0.7, learning rate 0.0006 root mean squered error: 316.06907973466343\n"
     ]
    },
    {
     "name": "stderr",
     "output_type": "stream",
     "text": [
      "/home/stas/anaconda3/lib/python3.7/site-packages/sklearn/neural_network/multilayer_perceptron.py:562: ConvergenceWarning: Stochastic Optimizer: Maximum iterations (500) reached and the optimization hasn't converged yet.\n",
      "  % self.max_iter, ConvergenceWarning)\n"
     ]
    },
    {
     "name": "stdout",
     "output_type": "stream",
     "text": [
      "Alpha momentum 0.8, learning rate 0.0006 R2 score: 0.7691537796820849\n",
      "Alpha momentum 0.8, learning rate 0.0006 mean squered error: 99899.66316431703\n",
      "Alpha momentum 0.8, learning rate 0.0006 root mean squered error: 316.06907973466343\n"
     ]
    },
    {
     "name": "stderr",
     "output_type": "stream",
     "text": [
      "/home/stas/anaconda3/lib/python3.7/site-packages/sklearn/neural_network/multilayer_perceptron.py:562: ConvergenceWarning: Stochastic Optimizer: Maximum iterations (500) reached and the optimization hasn't converged yet.\n",
      "  % self.max_iter, ConvergenceWarning)\n"
     ]
    },
    {
     "name": "stdout",
     "output_type": "stream",
     "text": [
      "Alpha momentum 0.9, learning rate 0.0006 R2 score: 0.7691537796820849\n",
      "Alpha momentum 0.9, learning rate 0.0006 mean squered error: 99899.66316431703\n",
      "Alpha momentum 0.9, learning rate 0.0006 root mean squered error: 316.06907973466343\n"
     ]
    },
    {
     "name": "stderr",
     "output_type": "stream",
     "text": [
      "/home/stas/anaconda3/lib/python3.7/site-packages/sklearn/neural_network/multilayer_perceptron.py:562: ConvergenceWarning: Stochastic Optimizer: Maximum iterations (500) reached and the optimization hasn't converged yet.\n",
      "  % self.max_iter, ConvergenceWarning)\n"
     ]
    },
    {
     "name": "stdout",
     "output_type": "stream",
     "text": [
      "Alpha momentum 0.1, learning rate 0.0007 R2 score: 0.8173717868775228\n",
      "Alpha momentum 0.1, learning rate 0.0007 mean squered error: 75454.55428426669\n",
      "Alpha momentum 0.1, learning rate 0.0007 root mean squered error: 274.6899238855817\n"
     ]
    },
    {
     "name": "stderr",
     "output_type": "stream",
     "text": [
      "/home/stas/anaconda3/lib/python3.7/site-packages/sklearn/neural_network/multilayer_perceptron.py:562: ConvergenceWarning: Stochastic Optimizer: Maximum iterations (500) reached and the optimization hasn't converged yet.\n",
      "  % self.max_iter, ConvergenceWarning)\n"
     ]
    },
    {
     "name": "stdout",
     "output_type": "stream",
     "text": [
      "Alpha momentum 0.2, learning rate 0.0007 R2 score: 0.8173717868775228\n",
      "Alpha momentum 0.2, learning rate 0.0007 mean squered error: 75454.55428426669\n",
      "Alpha momentum 0.2, learning rate 0.0007 root mean squered error: 274.6899238855817\n"
     ]
    },
    {
     "name": "stderr",
     "output_type": "stream",
     "text": [
      "/home/stas/anaconda3/lib/python3.7/site-packages/sklearn/neural_network/multilayer_perceptron.py:562: ConvergenceWarning: Stochastic Optimizer: Maximum iterations (500) reached and the optimization hasn't converged yet.\n",
      "  % self.max_iter, ConvergenceWarning)\n"
     ]
    },
    {
     "name": "stdout",
     "output_type": "stream",
     "text": [
      "Alpha momentum 0.3, learning rate 0.0007 R2 score: 0.8173717868775228\n",
      "Alpha momentum 0.3, learning rate 0.0007 mean squered error: 75454.55428426669\n",
      "Alpha momentum 0.3, learning rate 0.0007 root mean squered error: 274.6899238855817\n"
     ]
    },
    {
     "name": "stderr",
     "output_type": "stream",
     "text": [
      "/home/stas/anaconda3/lib/python3.7/site-packages/sklearn/neural_network/multilayer_perceptron.py:562: ConvergenceWarning: Stochastic Optimizer: Maximum iterations (500) reached and the optimization hasn't converged yet.\n",
      "  % self.max_iter, ConvergenceWarning)\n"
     ]
    },
    {
     "name": "stdout",
     "output_type": "stream",
     "text": [
      "Alpha momentum 0.4, learning rate 0.0007 R2 score: 0.8173717868775228\n",
      "Alpha momentum 0.4, learning rate 0.0007 mean squered error: 75454.55428426669\n",
      "Alpha momentum 0.4, learning rate 0.0007 root mean squered error: 274.6899238855817\n"
     ]
    },
    {
     "name": "stderr",
     "output_type": "stream",
     "text": [
      "/home/stas/anaconda3/lib/python3.7/site-packages/sklearn/neural_network/multilayer_perceptron.py:562: ConvergenceWarning: Stochastic Optimizer: Maximum iterations (500) reached and the optimization hasn't converged yet.\n",
      "  % self.max_iter, ConvergenceWarning)\n"
     ]
    },
    {
     "name": "stdout",
     "output_type": "stream",
     "text": [
      "Alpha momentum 0.5, learning rate 0.0007 R2 score: 0.8173717868775228\n",
      "Alpha momentum 0.5, learning rate 0.0007 mean squered error: 75454.55428426669\n",
      "Alpha momentum 0.5, learning rate 0.0007 root mean squered error: 274.6899238855817\n"
     ]
    },
    {
     "name": "stderr",
     "output_type": "stream",
     "text": [
      "/home/stas/anaconda3/lib/python3.7/site-packages/sklearn/neural_network/multilayer_perceptron.py:562: ConvergenceWarning: Stochastic Optimizer: Maximum iterations (500) reached and the optimization hasn't converged yet.\n",
      "  % self.max_iter, ConvergenceWarning)\n"
     ]
    },
    {
     "name": "stdout",
     "output_type": "stream",
     "text": [
      "Alpha momentum 0.6, learning rate 0.0007 R2 score: 0.8173717868775228\n",
      "Alpha momentum 0.6, learning rate 0.0007 mean squered error: 75454.55428426669\n",
      "Alpha momentum 0.6, learning rate 0.0007 root mean squered error: 274.6899238855817\n"
     ]
    },
    {
     "name": "stderr",
     "output_type": "stream",
     "text": [
      "/home/stas/anaconda3/lib/python3.7/site-packages/sklearn/neural_network/multilayer_perceptron.py:562: ConvergenceWarning: Stochastic Optimizer: Maximum iterations (500) reached and the optimization hasn't converged yet.\n",
      "  % self.max_iter, ConvergenceWarning)\n"
     ]
    },
    {
     "name": "stdout",
     "output_type": "stream",
     "text": [
      "Alpha momentum 0.7, learning rate 0.0007 R2 score: 0.8173717868775228\n",
      "Alpha momentum 0.7, learning rate 0.0007 mean squered error: 75454.55428426669\n",
      "Alpha momentum 0.7, learning rate 0.0007 root mean squered error: 274.6899238855817\n"
     ]
    },
    {
     "name": "stderr",
     "output_type": "stream",
     "text": [
      "/home/stas/anaconda3/lib/python3.7/site-packages/sklearn/neural_network/multilayer_perceptron.py:562: ConvergenceWarning: Stochastic Optimizer: Maximum iterations (500) reached and the optimization hasn't converged yet.\n",
      "  % self.max_iter, ConvergenceWarning)\n"
     ]
    },
    {
     "name": "stdout",
     "output_type": "stream",
     "text": [
      "Alpha momentum 0.8, learning rate 0.0007 R2 score: 0.8173717868775228\n",
      "Alpha momentum 0.8, learning rate 0.0007 mean squered error: 75454.55428426669\n",
      "Alpha momentum 0.8, learning rate 0.0007 root mean squered error: 274.6899238855817\n"
     ]
    },
    {
     "name": "stderr",
     "output_type": "stream",
     "text": [
      "/home/stas/anaconda3/lib/python3.7/site-packages/sklearn/neural_network/multilayer_perceptron.py:562: ConvergenceWarning: Stochastic Optimizer: Maximum iterations (500) reached and the optimization hasn't converged yet.\n",
      "  % self.max_iter, ConvergenceWarning)\n"
     ]
    },
    {
     "name": "stdout",
     "output_type": "stream",
     "text": [
      "Alpha momentum 0.9, learning rate 0.0007 R2 score: 0.8173717868775228\n",
      "Alpha momentum 0.9, learning rate 0.0007 mean squered error: 75454.55428426669\n",
      "Alpha momentum 0.9, learning rate 0.0007 root mean squered error: 274.6899238855817\n"
     ]
    },
    {
     "name": "stderr",
     "output_type": "stream",
     "text": [
      "/home/stas/anaconda3/lib/python3.7/site-packages/sklearn/neural_network/multilayer_perceptron.py:562: ConvergenceWarning: Stochastic Optimizer: Maximum iterations (500) reached and the optimization hasn't converged yet.\n",
      "  % self.max_iter, ConvergenceWarning)\n"
     ]
    },
    {
     "name": "stdout",
     "output_type": "stream",
     "text": [
      "Alpha momentum 0.1, learning rate 0.0008 R2 score: 0.8575050328186995\n",
      "Alpha momentum 0.1, learning rate 0.0008 mean squered error: 58191.35319521731\n",
      "Alpha momentum 0.1, learning rate 0.0008 root mean squered error: 241.22883989112353\n"
     ]
    },
    {
     "name": "stderr",
     "output_type": "stream",
     "text": [
      "/home/stas/anaconda3/lib/python3.7/site-packages/sklearn/neural_network/multilayer_perceptron.py:562: ConvergenceWarning: Stochastic Optimizer: Maximum iterations (500) reached and the optimization hasn't converged yet.\n",
      "  % self.max_iter, ConvergenceWarning)\n"
     ]
    },
    {
     "name": "stdout",
     "output_type": "stream",
     "text": [
      "Alpha momentum 0.2, learning rate 0.0008 R2 score: 0.8575050328186995\n",
      "Alpha momentum 0.2, learning rate 0.0008 mean squered error: 58191.35319521731\n",
      "Alpha momentum 0.2, learning rate 0.0008 root mean squered error: 241.22883989112353\n"
     ]
    },
    {
     "name": "stderr",
     "output_type": "stream",
     "text": [
      "/home/stas/anaconda3/lib/python3.7/site-packages/sklearn/neural_network/multilayer_perceptron.py:562: ConvergenceWarning: Stochastic Optimizer: Maximum iterations (500) reached and the optimization hasn't converged yet.\n",
      "  % self.max_iter, ConvergenceWarning)\n"
     ]
    },
    {
     "name": "stdout",
     "output_type": "stream",
     "text": [
      "Alpha momentum 0.3, learning rate 0.0008 R2 score: 0.8575050328186995\n",
      "Alpha momentum 0.3, learning rate 0.0008 mean squered error: 58191.35319521731\n",
      "Alpha momentum 0.3, learning rate 0.0008 root mean squered error: 241.22883989112353\n"
     ]
    },
    {
     "name": "stderr",
     "output_type": "stream",
     "text": [
      "/home/stas/anaconda3/lib/python3.7/site-packages/sklearn/neural_network/multilayer_perceptron.py:562: ConvergenceWarning: Stochastic Optimizer: Maximum iterations (500) reached and the optimization hasn't converged yet.\n",
      "  % self.max_iter, ConvergenceWarning)\n"
     ]
    },
    {
     "name": "stdout",
     "output_type": "stream",
     "text": [
      "Alpha momentum 0.4, learning rate 0.0008 R2 score: 0.8575050328186995\n",
      "Alpha momentum 0.4, learning rate 0.0008 mean squered error: 58191.35319521731\n",
      "Alpha momentum 0.4, learning rate 0.0008 root mean squered error: 241.22883989112353\n"
     ]
    },
    {
     "name": "stderr",
     "output_type": "stream",
     "text": [
      "/home/stas/anaconda3/lib/python3.7/site-packages/sklearn/neural_network/multilayer_perceptron.py:562: ConvergenceWarning: Stochastic Optimizer: Maximum iterations (500) reached and the optimization hasn't converged yet.\n",
      "  % self.max_iter, ConvergenceWarning)\n"
     ]
    },
    {
     "name": "stdout",
     "output_type": "stream",
     "text": [
      "Alpha momentum 0.5, learning rate 0.0008 R2 score: 0.8575050328186995\n",
      "Alpha momentum 0.5, learning rate 0.0008 mean squered error: 58191.35319521731\n",
      "Alpha momentum 0.5, learning rate 0.0008 root mean squered error: 241.22883989112353\n"
     ]
    },
    {
     "name": "stderr",
     "output_type": "stream",
     "text": [
      "/home/stas/anaconda3/lib/python3.7/site-packages/sklearn/neural_network/multilayer_perceptron.py:562: ConvergenceWarning: Stochastic Optimizer: Maximum iterations (500) reached and the optimization hasn't converged yet.\n",
      "  % self.max_iter, ConvergenceWarning)\n"
     ]
    },
    {
     "name": "stdout",
     "output_type": "stream",
     "text": [
      "Alpha momentum 0.6, learning rate 0.0008 R2 score: 0.8575050328186995\n",
      "Alpha momentum 0.6, learning rate 0.0008 mean squered error: 58191.35319521731\n",
      "Alpha momentum 0.6, learning rate 0.0008 root mean squered error: 241.22883989112353\n"
     ]
    },
    {
     "name": "stderr",
     "output_type": "stream",
     "text": [
      "/home/stas/anaconda3/lib/python3.7/site-packages/sklearn/neural_network/multilayer_perceptron.py:562: ConvergenceWarning: Stochastic Optimizer: Maximum iterations (500) reached and the optimization hasn't converged yet.\n",
      "  % self.max_iter, ConvergenceWarning)\n"
     ]
    },
    {
     "name": "stdout",
     "output_type": "stream",
     "text": [
      "Alpha momentum 0.7, learning rate 0.0008 R2 score: 0.8575050328186995\n",
      "Alpha momentum 0.7, learning rate 0.0008 mean squered error: 58191.35319521731\n",
      "Alpha momentum 0.7, learning rate 0.0008 root mean squered error: 241.22883989112353\n"
     ]
    },
    {
     "name": "stderr",
     "output_type": "stream",
     "text": [
      "/home/stas/anaconda3/lib/python3.7/site-packages/sklearn/neural_network/multilayer_perceptron.py:562: ConvergenceWarning: Stochastic Optimizer: Maximum iterations (500) reached and the optimization hasn't converged yet.\n",
      "  % self.max_iter, ConvergenceWarning)\n"
     ]
    },
    {
     "name": "stdout",
     "output_type": "stream",
     "text": [
      "Alpha momentum 0.8, learning rate 0.0008 R2 score: 0.8575050328186995\n",
      "Alpha momentum 0.8, learning rate 0.0008 mean squered error: 58191.35319521731\n",
      "Alpha momentum 0.8, learning rate 0.0008 root mean squered error: 241.22883989112353\n"
     ]
    },
    {
     "name": "stderr",
     "output_type": "stream",
     "text": [
      "/home/stas/anaconda3/lib/python3.7/site-packages/sklearn/neural_network/multilayer_perceptron.py:562: ConvergenceWarning: Stochastic Optimizer: Maximum iterations (500) reached and the optimization hasn't converged yet.\n",
      "  % self.max_iter, ConvergenceWarning)\n"
     ]
    },
    {
     "name": "stdout",
     "output_type": "stream",
     "text": [
      "Alpha momentum 0.9, learning rate 0.0008 R2 score: 0.8575050328186995\n",
      "Alpha momentum 0.9, learning rate 0.0008 mean squered error: 58191.35319521731\n",
      "Alpha momentum 0.9, learning rate 0.0008 root mean squered error: 241.22883989112353\n"
     ]
    },
    {
     "name": "stderr",
     "output_type": "stream",
     "text": [
      "/home/stas/anaconda3/lib/python3.7/site-packages/sklearn/neural_network/multilayer_perceptron.py:562: ConvergenceWarning: Stochastic Optimizer: Maximum iterations (500) reached and the optimization hasn't converged yet.\n",
      "  % self.max_iter, ConvergenceWarning)\n"
     ]
    },
    {
     "name": "stdout",
     "output_type": "stream",
     "text": [
      "Alpha momentum 0.1, learning rate 0.0009 R2 score: 0.8921598398763363\n",
      "Alpha momentum 0.1, learning rate 0.0009 mean squered error: 44716.597542231226\n",
      "Alpha momentum 0.1, learning rate 0.0009 root mean squered error: 211.4629933161621\n"
     ]
    },
    {
     "name": "stderr",
     "output_type": "stream",
     "text": [
      "/home/stas/anaconda3/lib/python3.7/site-packages/sklearn/neural_network/multilayer_perceptron.py:562: ConvergenceWarning: Stochastic Optimizer: Maximum iterations (500) reached and the optimization hasn't converged yet.\n",
      "  % self.max_iter, ConvergenceWarning)\n"
     ]
    },
    {
     "name": "stdout",
     "output_type": "stream",
     "text": [
      "Alpha momentum 0.2, learning rate 0.0009 R2 score: 0.8921598398763363\n",
      "Alpha momentum 0.2, learning rate 0.0009 mean squered error: 44716.597542231226\n",
      "Alpha momentum 0.2, learning rate 0.0009 root mean squered error: 211.4629933161621\n"
     ]
    },
    {
     "name": "stderr",
     "output_type": "stream",
     "text": [
      "/home/stas/anaconda3/lib/python3.7/site-packages/sklearn/neural_network/multilayer_perceptron.py:562: ConvergenceWarning: Stochastic Optimizer: Maximum iterations (500) reached and the optimization hasn't converged yet.\n",
      "  % self.max_iter, ConvergenceWarning)\n"
     ]
    },
    {
     "name": "stdout",
     "output_type": "stream",
     "text": [
      "Alpha momentum 0.3, learning rate 0.0009 R2 score: 0.8921598398763363\n",
      "Alpha momentum 0.3, learning rate 0.0009 mean squered error: 44716.597542231226\n",
      "Alpha momentum 0.3, learning rate 0.0009 root mean squered error: 211.4629933161621\n"
     ]
    },
    {
     "name": "stderr",
     "output_type": "stream",
     "text": [
      "/home/stas/anaconda3/lib/python3.7/site-packages/sklearn/neural_network/multilayer_perceptron.py:562: ConvergenceWarning: Stochastic Optimizer: Maximum iterations (500) reached and the optimization hasn't converged yet.\n",
      "  % self.max_iter, ConvergenceWarning)\n"
     ]
    },
    {
     "name": "stdout",
     "output_type": "stream",
     "text": [
      "Alpha momentum 0.4, learning rate 0.0009 R2 score: 0.8921598398763363\n",
      "Alpha momentum 0.4, learning rate 0.0009 mean squered error: 44716.597542231226\n",
      "Alpha momentum 0.4, learning rate 0.0009 root mean squered error: 211.4629933161621\n"
     ]
    },
    {
     "name": "stderr",
     "output_type": "stream",
     "text": [
      "/home/stas/anaconda3/lib/python3.7/site-packages/sklearn/neural_network/multilayer_perceptron.py:562: ConvergenceWarning: Stochastic Optimizer: Maximum iterations (500) reached and the optimization hasn't converged yet.\n",
      "  % self.max_iter, ConvergenceWarning)\n"
     ]
    },
    {
     "name": "stdout",
     "output_type": "stream",
     "text": [
      "Alpha momentum 0.5, learning rate 0.0009 R2 score: 0.8921598398763363\n",
      "Alpha momentum 0.5, learning rate 0.0009 mean squered error: 44716.597542231226\n",
      "Alpha momentum 0.5, learning rate 0.0009 root mean squered error: 211.4629933161621\n"
     ]
    },
    {
     "name": "stderr",
     "output_type": "stream",
     "text": [
      "/home/stas/anaconda3/lib/python3.7/site-packages/sklearn/neural_network/multilayer_perceptron.py:562: ConvergenceWarning: Stochastic Optimizer: Maximum iterations (500) reached and the optimization hasn't converged yet.\n",
      "  % self.max_iter, ConvergenceWarning)\n"
     ]
    },
    {
     "name": "stdout",
     "output_type": "stream",
     "text": [
      "Alpha momentum 0.6, learning rate 0.0009 R2 score: 0.8921598398763363\n",
      "Alpha momentum 0.6, learning rate 0.0009 mean squered error: 44716.597542231226\n",
      "Alpha momentum 0.6, learning rate 0.0009 root mean squered error: 211.4629933161621\n"
     ]
    },
    {
     "name": "stderr",
     "output_type": "stream",
     "text": [
      "/home/stas/anaconda3/lib/python3.7/site-packages/sklearn/neural_network/multilayer_perceptron.py:562: ConvergenceWarning: Stochastic Optimizer: Maximum iterations (500) reached and the optimization hasn't converged yet.\n",
      "  % self.max_iter, ConvergenceWarning)\n"
     ]
    },
    {
     "name": "stdout",
     "output_type": "stream",
     "text": [
      "Alpha momentum 0.7, learning rate 0.0009 R2 score: 0.8921598398763363\n",
      "Alpha momentum 0.7, learning rate 0.0009 mean squered error: 44716.597542231226\n",
      "Alpha momentum 0.7, learning rate 0.0009 root mean squered error: 211.4629933161621\n"
     ]
    },
    {
     "name": "stderr",
     "output_type": "stream",
     "text": [
      "/home/stas/anaconda3/lib/python3.7/site-packages/sklearn/neural_network/multilayer_perceptron.py:562: ConvergenceWarning: Stochastic Optimizer: Maximum iterations (500) reached and the optimization hasn't converged yet.\n",
      "  % self.max_iter, ConvergenceWarning)\n"
     ]
    },
    {
     "name": "stdout",
     "output_type": "stream",
     "text": [
      "Alpha momentum 0.8, learning rate 0.0009 R2 score: 0.8921598398763363\n",
      "Alpha momentum 0.8, learning rate 0.0009 mean squered error: 44716.597542231226\n",
      "Alpha momentum 0.8, learning rate 0.0009 root mean squered error: 211.4629933161621\n"
     ]
    },
    {
     "name": "stderr",
     "output_type": "stream",
     "text": [
      "/home/stas/anaconda3/lib/python3.7/site-packages/sklearn/neural_network/multilayer_perceptron.py:562: ConvergenceWarning: Stochastic Optimizer: Maximum iterations (500) reached and the optimization hasn't converged yet.\n",
      "  % self.max_iter, ConvergenceWarning)\n"
     ]
    },
    {
     "name": "stdout",
     "output_type": "stream",
     "text": [
      "Alpha momentum 0.9, learning rate 0.0009 R2 score: 0.8921598398763363\n",
      "Alpha momentum 0.9, learning rate 0.0009 mean squered error: 44716.597542231226\n",
      "Alpha momentum 0.9, learning rate 0.0009 root mean squered error: 211.4629933161621\n"
     ]
    },
    {
     "name": "stderr",
     "output_type": "stream",
     "text": [
      "/home/stas/anaconda3/lib/python3.7/site-packages/sklearn/neural_network/multilayer_perceptron.py:562: ConvergenceWarning: Stochastic Optimizer: Maximum iterations (500) reached and the optimization hasn't converged yet.\n",
      "  % self.max_iter, ConvergenceWarning)\n"
     ]
    },
    {
     "name": "stdout",
     "output_type": "stream",
     "text": [
      "Alpha momentum 0.1, learning rate 0.001 R2 score: 0.9155466795364061\n",
      "Alpha momentum 0.1, learning rate 0.001 mean squered error: 35854.467331361266\n",
      "Alpha momentum 0.1, learning rate 0.001 root mean squered error: 189.35275897478036\n"
     ]
    },
    {
     "name": "stderr",
     "output_type": "stream",
     "text": [
      "/home/stas/anaconda3/lib/python3.7/site-packages/sklearn/neural_network/multilayer_perceptron.py:562: ConvergenceWarning: Stochastic Optimizer: Maximum iterations (500) reached and the optimization hasn't converged yet.\n",
      "  % self.max_iter, ConvergenceWarning)\n"
     ]
    },
    {
     "name": "stdout",
     "output_type": "stream",
     "text": [
      "Alpha momentum 0.2, learning rate 0.001 R2 score: 0.9155466795364061\n",
      "Alpha momentum 0.2, learning rate 0.001 mean squered error: 35854.467331361266\n",
      "Alpha momentum 0.2, learning rate 0.001 root mean squered error: 189.35275897478036\n"
     ]
    },
    {
     "name": "stderr",
     "output_type": "stream",
     "text": [
      "/home/stas/anaconda3/lib/python3.7/site-packages/sklearn/neural_network/multilayer_perceptron.py:562: ConvergenceWarning: Stochastic Optimizer: Maximum iterations (500) reached and the optimization hasn't converged yet.\n",
      "  % self.max_iter, ConvergenceWarning)\n"
     ]
    },
    {
     "name": "stdout",
     "output_type": "stream",
     "text": [
      "Alpha momentum 0.3, learning rate 0.001 R2 score: 0.9155466795364061\n",
      "Alpha momentum 0.3, learning rate 0.001 mean squered error: 35854.467331361266\n",
      "Alpha momentum 0.3, learning rate 0.001 root mean squered error: 189.35275897478036\n"
     ]
    },
    {
     "name": "stderr",
     "output_type": "stream",
     "text": [
      "/home/stas/anaconda3/lib/python3.7/site-packages/sklearn/neural_network/multilayer_perceptron.py:562: ConvergenceWarning: Stochastic Optimizer: Maximum iterations (500) reached and the optimization hasn't converged yet.\n",
      "  % self.max_iter, ConvergenceWarning)\n"
     ]
    },
    {
     "name": "stdout",
     "output_type": "stream",
     "text": [
      "Alpha momentum 0.4, learning rate 0.001 R2 score: 0.9155466795364061\n",
      "Alpha momentum 0.4, learning rate 0.001 mean squered error: 35854.467331361266\n",
      "Alpha momentum 0.4, learning rate 0.001 root mean squered error: 189.35275897478036\n"
     ]
    },
    {
     "name": "stderr",
     "output_type": "stream",
     "text": [
      "/home/stas/anaconda3/lib/python3.7/site-packages/sklearn/neural_network/multilayer_perceptron.py:562: ConvergenceWarning: Stochastic Optimizer: Maximum iterations (500) reached and the optimization hasn't converged yet.\n",
      "  % self.max_iter, ConvergenceWarning)\n"
     ]
    },
    {
     "name": "stdout",
     "output_type": "stream",
     "text": [
      "Alpha momentum 0.5, learning rate 0.001 R2 score: 0.9155466795364061\n",
      "Alpha momentum 0.5, learning rate 0.001 mean squered error: 35854.467331361266\n",
      "Alpha momentum 0.5, learning rate 0.001 root mean squered error: 189.35275897478036\n"
     ]
    },
    {
     "name": "stderr",
     "output_type": "stream",
     "text": [
      "/home/stas/anaconda3/lib/python3.7/site-packages/sklearn/neural_network/multilayer_perceptron.py:562: ConvergenceWarning: Stochastic Optimizer: Maximum iterations (500) reached and the optimization hasn't converged yet.\n",
      "  % self.max_iter, ConvergenceWarning)\n"
     ]
    },
    {
     "name": "stdout",
     "output_type": "stream",
     "text": [
      "Alpha momentum 0.6, learning rate 0.001 R2 score: 0.9155466795364061\n",
      "Alpha momentum 0.6, learning rate 0.001 mean squered error: 35854.467331361266\n",
      "Alpha momentum 0.6, learning rate 0.001 root mean squered error: 189.35275897478036\n"
     ]
    },
    {
     "name": "stderr",
     "output_type": "stream",
     "text": [
      "/home/stas/anaconda3/lib/python3.7/site-packages/sklearn/neural_network/multilayer_perceptron.py:562: ConvergenceWarning: Stochastic Optimizer: Maximum iterations (500) reached and the optimization hasn't converged yet.\n",
      "  % self.max_iter, ConvergenceWarning)\n"
     ]
    },
    {
     "name": "stdout",
     "output_type": "stream",
     "text": [
      "Alpha momentum 0.7, learning rate 0.001 R2 score: 0.9155466795364061\n",
      "Alpha momentum 0.7, learning rate 0.001 mean squered error: 35854.467331361266\n",
      "Alpha momentum 0.7, learning rate 0.001 root mean squered error: 189.35275897478036\n"
     ]
    },
    {
     "name": "stderr",
     "output_type": "stream",
     "text": [
      "/home/stas/anaconda3/lib/python3.7/site-packages/sklearn/neural_network/multilayer_perceptron.py:562: ConvergenceWarning: Stochastic Optimizer: Maximum iterations (500) reached and the optimization hasn't converged yet.\n",
      "  % self.max_iter, ConvergenceWarning)\n"
     ]
    },
    {
     "name": "stdout",
     "output_type": "stream",
     "text": [
      "Alpha momentum 0.8, learning rate 0.001 R2 score: 0.9155466795364061\n",
      "Alpha momentum 0.8, learning rate 0.001 mean squered error: 35854.467331361266\n",
      "Alpha momentum 0.8, learning rate 0.001 root mean squered error: 189.35275897478036\n"
     ]
    },
    {
     "name": "stderr",
     "output_type": "stream",
     "text": [
      "/home/stas/anaconda3/lib/python3.7/site-packages/sklearn/neural_network/multilayer_perceptron.py:562: ConvergenceWarning: Stochastic Optimizer: Maximum iterations (500) reached and the optimization hasn't converged yet.\n",
      "  % self.max_iter, ConvergenceWarning)\n"
     ]
    },
    {
     "name": "stdout",
     "output_type": "stream",
     "text": [
      "Alpha momentum 0.9, learning rate 0.001 R2 score: 0.9155466795364061\n",
      "Alpha momentum 0.9, learning rate 0.001 mean squered error: 35854.467331361266\n",
      "Alpha momentum 0.9, learning rate 0.001 root mean squered error: 189.35275897478036\n"
     ]
    },
    {
     "name": "stderr",
     "output_type": "stream",
     "text": [
      "/home/stas/anaconda3/lib/python3.7/site-packages/sklearn/neural_network/multilayer_perceptron.py:562: ConvergenceWarning: Stochastic Optimizer: Maximum iterations (500) reached and the optimization hasn't converged yet.\n",
      "  % self.max_iter, ConvergenceWarning)\n"
     ]
    },
    {
     "name": "stdout",
     "output_type": "stream",
     "text": [
      "Alpha momentum 0.1, learning rate 0.0011 R2 score: 0.9303753063034126\n",
      "Alpha momentum 0.1, learning rate 0.0011 mean squered error: 30268.902967081947\n",
      "Alpha momentum 0.1, learning rate 0.0011 root mean squered error: 173.97960503197478\n"
     ]
    },
    {
     "name": "stderr",
     "output_type": "stream",
     "text": [
      "/home/stas/anaconda3/lib/python3.7/site-packages/sklearn/neural_network/multilayer_perceptron.py:562: ConvergenceWarning: Stochastic Optimizer: Maximum iterations (500) reached and the optimization hasn't converged yet.\n",
      "  % self.max_iter, ConvergenceWarning)\n"
     ]
    },
    {
     "name": "stdout",
     "output_type": "stream",
     "text": [
      "Alpha momentum 0.2, learning rate 0.0011 R2 score: 0.9303753063034126\n",
      "Alpha momentum 0.2, learning rate 0.0011 mean squered error: 30268.902967081947\n",
      "Alpha momentum 0.2, learning rate 0.0011 root mean squered error: 173.97960503197478\n"
     ]
    },
    {
     "name": "stderr",
     "output_type": "stream",
     "text": [
      "/home/stas/anaconda3/lib/python3.7/site-packages/sklearn/neural_network/multilayer_perceptron.py:562: ConvergenceWarning: Stochastic Optimizer: Maximum iterations (500) reached and the optimization hasn't converged yet.\n",
      "  % self.max_iter, ConvergenceWarning)\n"
     ]
    },
    {
     "name": "stdout",
     "output_type": "stream",
     "text": [
      "Alpha momentum 0.3, learning rate 0.0011 R2 score: 0.9303753063034126\n",
      "Alpha momentum 0.3, learning rate 0.0011 mean squered error: 30268.902967081947\n",
      "Alpha momentum 0.3, learning rate 0.0011 root mean squered error: 173.97960503197478\n"
     ]
    },
    {
     "name": "stderr",
     "output_type": "stream",
     "text": [
      "/home/stas/anaconda3/lib/python3.7/site-packages/sklearn/neural_network/multilayer_perceptron.py:562: ConvergenceWarning: Stochastic Optimizer: Maximum iterations (500) reached and the optimization hasn't converged yet.\n",
      "  % self.max_iter, ConvergenceWarning)\n"
     ]
    },
    {
     "name": "stdout",
     "output_type": "stream",
     "text": [
      "Alpha momentum 0.4, learning rate 0.0011 R2 score: 0.9303753063034126\n",
      "Alpha momentum 0.4, learning rate 0.0011 mean squered error: 30268.902967081947\n",
      "Alpha momentum 0.4, learning rate 0.0011 root mean squered error: 173.97960503197478\n"
     ]
    },
    {
     "name": "stderr",
     "output_type": "stream",
     "text": [
      "/home/stas/anaconda3/lib/python3.7/site-packages/sklearn/neural_network/multilayer_perceptron.py:562: ConvergenceWarning: Stochastic Optimizer: Maximum iterations (500) reached and the optimization hasn't converged yet.\n",
      "  % self.max_iter, ConvergenceWarning)\n"
     ]
    },
    {
     "name": "stdout",
     "output_type": "stream",
     "text": [
      "Alpha momentum 0.5, learning rate 0.0011 R2 score: 0.9303753063034126\n",
      "Alpha momentum 0.5, learning rate 0.0011 mean squered error: 30268.902967081947\n",
      "Alpha momentum 0.5, learning rate 0.0011 root mean squered error: 173.97960503197478\n"
     ]
    },
    {
     "name": "stderr",
     "output_type": "stream",
     "text": [
      "/home/stas/anaconda3/lib/python3.7/site-packages/sklearn/neural_network/multilayer_perceptron.py:562: ConvergenceWarning: Stochastic Optimizer: Maximum iterations (500) reached and the optimization hasn't converged yet.\n",
      "  % self.max_iter, ConvergenceWarning)\n"
     ]
    },
    {
     "name": "stdout",
     "output_type": "stream",
     "text": [
      "Alpha momentum 0.6, learning rate 0.0011 R2 score: 0.9303753063034126\n",
      "Alpha momentum 0.6, learning rate 0.0011 mean squered error: 30268.902967081947\n",
      "Alpha momentum 0.6, learning rate 0.0011 root mean squered error: 173.97960503197478\n"
     ]
    },
    {
     "name": "stderr",
     "output_type": "stream",
     "text": [
      "/home/stas/anaconda3/lib/python3.7/site-packages/sklearn/neural_network/multilayer_perceptron.py:562: ConvergenceWarning: Stochastic Optimizer: Maximum iterations (500) reached and the optimization hasn't converged yet.\n",
      "  % self.max_iter, ConvergenceWarning)\n"
     ]
    },
    {
     "name": "stdout",
     "output_type": "stream",
     "text": [
      "Alpha momentum 0.7, learning rate 0.0011 R2 score: 0.9303753063034126\n",
      "Alpha momentum 0.7, learning rate 0.0011 mean squered error: 30268.902967081947\n",
      "Alpha momentum 0.7, learning rate 0.0011 root mean squered error: 173.97960503197478\n"
     ]
    },
    {
     "name": "stderr",
     "output_type": "stream",
     "text": [
      "/home/stas/anaconda3/lib/python3.7/site-packages/sklearn/neural_network/multilayer_perceptron.py:562: ConvergenceWarning: Stochastic Optimizer: Maximum iterations (500) reached and the optimization hasn't converged yet.\n",
      "  % self.max_iter, ConvergenceWarning)\n"
     ]
    },
    {
     "name": "stdout",
     "output_type": "stream",
     "text": [
      "Alpha momentum 0.8, learning rate 0.0011 R2 score: 0.9303753063034126\n",
      "Alpha momentum 0.8, learning rate 0.0011 mean squered error: 30268.902967081947\n",
      "Alpha momentum 0.8, learning rate 0.0011 root mean squered error: 173.97960503197478\n"
     ]
    },
    {
     "name": "stderr",
     "output_type": "stream",
     "text": [
      "/home/stas/anaconda3/lib/python3.7/site-packages/sklearn/neural_network/multilayer_perceptron.py:562: ConvergenceWarning: Stochastic Optimizer: Maximum iterations (500) reached and the optimization hasn't converged yet.\n",
      "  % self.max_iter, ConvergenceWarning)\n"
     ]
    },
    {
     "name": "stdout",
     "output_type": "stream",
     "text": [
      "Alpha momentum 0.9, learning rate 0.0011 R2 score: 0.9303753063034126\n",
      "Alpha momentum 0.9, learning rate 0.0011 mean squered error: 30268.902967081947\n",
      "Alpha momentum 0.9, learning rate 0.0011 root mean squered error: 173.97960503197478\n"
     ]
    },
    {
     "name": "stderr",
     "output_type": "stream",
     "text": [
      "/home/stas/anaconda3/lib/python3.7/site-packages/sklearn/neural_network/multilayer_perceptron.py:562: ConvergenceWarning: Stochastic Optimizer: Maximum iterations (500) reached and the optimization hasn't converged yet.\n",
      "  % self.max_iter, ConvergenceWarning)\n"
     ]
    },
    {
     "name": "stdout",
     "output_type": "stream",
     "text": [
      "Alpha momentum 0.1, learning rate 0.0012 R2 score: 0.9408434338751883\n",
      "Alpha momentum 0.1, learning rate 0.0012 mean squered error: 26438.63727239929\n",
      "Alpha momentum 0.1, learning rate 0.0012 root mean squered error: 162.59962260841596\n"
     ]
    },
    {
     "name": "stderr",
     "output_type": "stream",
     "text": [
      "/home/stas/anaconda3/lib/python3.7/site-packages/sklearn/neural_network/multilayer_perceptron.py:562: ConvergenceWarning: Stochastic Optimizer: Maximum iterations (500) reached and the optimization hasn't converged yet.\n",
      "  % self.max_iter, ConvergenceWarning)\n"
     ]
    },
    {
     "name": "stdout",
     "output_type": "stream",
     "text": [
      "Alpha momentum 0.2, learning rate 0.0012 R2 score: 0.9408434338751883\n",
      "Alpha momentum 0.2, learning rate 0.0012 mean squered error: 26438.63727239929\n",
      "Alpha momentum 0.2, learning rate 0.0012 root mean squered error: 162.59962260841596\n"
     ]
    },
    {
     "name": "stderr",
     "output_type": "stream",
     "text": [
      "/home/stas/anaconda3/lib/python3.7/site-packages/sklearn/neural_network/multilayer_perceptron.py:562: ConvergenceWarning: Stochastic Optimizer: Maximum iterations (500) reached and the optimization hasn't converged yet.\n",
      "  % self.max_iter, ConvergenceWarning)\n"
     ]
    },
    {
     "name": "stdout",
     "output_type": "stream",
     "text": [
      "Alpha momentum 0.3, learning rate 0.0012 R2 score: 0.9408434338751883\n",
      "Alpha momentum 0.3, learning rate 0.0012 mean squered error: 26438.63727239929\n",
      "Alpha momentum 0.3, learning rate 0.0012 root mean squered error: 162.59962260841596\n"
     ]
    },
    {
     "name": "stderr",
     "output_type": "stream",
     "text": [
      "/home/stas/anaconda3/lib/python3.7/site-packages/sklearn/neural_network/multilayer_perceptron.py:562: ConvergenceWarning: Stochastic Optimizer: Maximum iterations (500) reached and the optimization hasn't converged yet.\n",
      "  % self.max_iter, ConvergenceWarning)\n"
     ]
    },
    {
     "name": "stdout",
     "output_type": "stream",
     "text": [
      "Alpha momentum 0.4, learning rate 0.0012 R2 score: 0.9408434338751883\n",
      "Alpha momentum 0.4, learning rate 0.0012 mean squered error: 26438.63727239929\n",
      "Alpha momentum 0.4, learning rate 0.0012 root mean squered error: 162.59962260841596\n"
     ]
    },
    {
     "name": "stderr",
     "output_type": "stream",
     "text": [
      "/home/stas/anaconda3/lib/python3.7/site-packages/sklearn/neural_network/multilayer_perceptron.py:562: ConvergenceWarning: Stochastic Optimizer: Maximum iterations (500) reached and the optimization hasn't converged yet.\n",
      "  % self.max_iter, ConvergenceWarning)\n"
     ]
    },
    {
     "name": "stdout",
     "output_type": "stream",
     "text": [
      "Alpha momentum 0.5, learning rate 0.0012 R2 score: 0.9408434338751883\n",
      "Alpha momentum 0.5, learning rate 0.0012 mean squered error: 26438.63727239929\n",
      "Alpha momentum 0.5, learning rate 0.0012 root mean squered error: 162.59962260841596\n"
     ]
    },
    {
     "name": "stderr",
     "output_type": "stream",
     "text": [
      "/home/stas/anaconda3/lib/python3.7/site-packages/sklearn/neural_network/multilayer_perceptron.py:562: ConvergenceWarning: Stochastic Optimizer: Maximum iterations (500) reached and the optimization hasn't converged yet.\n",
      "  % self.max_iter, ConvergenceWarning)\n"
     ]
    },
    {
     "name": "stdout",
     "output_type": "stream",
     "text": [
      "Alpha momentum 0.6, learning rate 0.0012 R2 score: 0.9408434338751883\n",
      "Alpha momentum 0.6, learning rate 0.0012 mean squered error: 26438.63727239929\n",
      "Alpha momentum 0.6, learning rate 0.0012 root mean squered error: 162.59962260841596\n"
     ]
    },
    {
     "name": "stderr",
     "output_type": "stream",
     "text": [
      "/home/stas/anaconda3/lib/python3.7/site-packages/sklearn/neural_network/multilayer_perceptron.py:562: ConvergenceWarning: Stochastic Optimizer: Maximum iterations (500) reached and the optimization hasn't converged yet.\n",
      "  % self.max_iter, ConvergenceWarning)\n"
     ]
    },
    {
     "name": "stdout",
     "output_type": "stream",
     "text": [
      "Alpha momentum 0.7, learning rate 0.0012 R2 score: 0.9408434338751883\n",
      "Alpha momentum 0.7, learning rate 0.0012 mean squered error: 26438.63727239929\n",
      "Alpha momentum 0.7, learning rate 0.0012 root mean squered error: 162.59962260841596\n"
     ]
    },
    {
     "name": "stderr",
     "output_type": "stream",
     "text": [
      "/home/stas/anaconda3/lib/python3.7/site-packages/sklearn/neural_network/multilayer_perceptron.py:562: ConvergenceWarning: Stochastic Optimizer: Maximum iterations (500) reached and the optimization hasn't converged yet.\n",
      "  % self.max_iter, ConvergenceWarning)\n"
     ]
    },
    {
     "name": "stdout",
     "output_type": "stream",
     "text": [
      "Alpha momentum 0.8, learning rate 0.0012 R2 score: 0.9408434338751883\n",
      "Alpha momentum 0.8, learning rate 0.0012 mean squered error: 26438.63727239929\n",
      "Alpha momentum 0.8, learning rate 0.0012 root mean squered error: 162.59962260841596\n"
     ]
    },
    {
     "name": "stderr",
     "output_type": "stream",
     "text": [
      "/home/stas/anaconda3/lib/python3.7/site-packages/sklearn/neural_network/multilayer_perceptron.py:562: ConvergenceWarning: Stochastic Optimizer: Maximum iterations (500) reached and the optimization hasn't converged yet.\n",
      "  % self.max_iter, ConvergenceWarning)\n"
     ]
    },
    {
     "name": "stdout",
     "output_type": "stream",
     "text": [
      "Alpha momentum 0.9, learning rate 0.0012 R2 score: 0.9408434338751883\n",
      "Alpha momentum 0.9, learning rate 0.0012 mean squered error: 26438.63727239929\n",
      "Alpha momentum 0.9, learning rate 0.0012 root mean squered error: 162.59962260841596\n"
     ]
    },
    {
     "name": "stderr",
     "output_type": "stream",
     "text": [
      "/home/stas/anaconda3/lib/python3.7/site-packages/sklearn/neural_network/multilayer_perceptron.py:562: ConvergenceWarning: Stochastic Optimizer: Maximum iterations (500) reached and the optimization hasn't converged yet.\n",
      "  % self.max_iter, ConvergenceWarning)\n"
     ]
    },
    {
     "name": "stdout",
     "output_type": "stream",
     "text": [
      "Alpha momentum 0.1, learning rate 0.0013 R2 score: 0.9468839436536798\n",
      "Alpha momentum 0.1, learning rate 0.0013 mean squered error: 24250.232702957794\n",
      "Alpha momentum 0.1, learning rate 0.0013 root mean squered error: 155.7248621863503\n"
     ]
    },
    {
     "name": "stderr",
     "output_type": "stream",
     "text": [
      "/home/stas/anaconda3/lib/python3.7/site-packages/sklearn/neural_network/multilayer_perceptron.py:562: ConvergenceWarning: Stochastic Optimizer: Maximum iterations (500) reached and the optimization hasn't converged yet.\n",
      "  % self.max_iter, ConvergenceWarning)\n"
     ]
    },
    {
     "name": "stdout",
     "output_type": "stream",
     "text": [
      "Alpha momentum 0.2, learning rate 0.0013 R2 score: 0.9468839436536798\n",
      "Alpha momentum 0.2, learning rate 0.0013 mean squered error: 24250.232702957794\n",
      "Alpha momentum 0.2, learning rate 0.0013 root mean squered error: 155.7248621863503\n"
     ]
    },
    {
     "name": "stderr",
     "output_type": "stream",
     "text": [
      "/home/stas/anaconda3/lib/python3.7/site-packages/sklearn/neural_network/multilayer_perceptron.py:562: ConvergenceWarning: Stochastic Optimizer: Maximum iterations (500) reached and the optimization hasn't converged yet.\n",
      "  % self.max_iter, ConvergenceWarning)\n"
     ]
    },
    {
     "name": "stdout",
     "output_type": "stream",
     "text": [
      "Alpha momentum 0.3, learning rate 0.0013 R2 score: 0.9468839436536798\n",
      "Alpha momentum 0.3, learning rate 0.0013 mean squered error: 24250.232702957794\n",
      "Alpha momentum 0.3, learning rate 0.0013 root mean squered error: 155.7248621863503\n"
     ]
    },
    {
     "name": "stderr",
     "output_type": "stream",
     "text": [
      "/home/stas/anaconda3/lib/python3.7/site-packages/sklearn/neural_network/multilayer_perceptron.py:562: ConvergenceWarning: Stochastic Optimizer: Maximum iterations (500) reached and the optimization hasn't converged yet.\n",
      "  % self.max_iter, ConvergenceWarning)\n"
     ]
    },
    {
     "name": "stdout",
     "output_type": "stream",
     "text": [
      "Alpha momentum 0.4, learning rate 0.0013 R2 score: 0.9468839436536798\n",
      "Alpha momentum 0.4, learning rate 0.0013 mean squered error: 24250.232702957794\n",
      "Alpha momentum 0.4, learning rate 0.0013 root mean squered error: 155.7248621863503\n"
     ]
    },
    {
     "name": "stderr",
     "output_type": "stream",
     "text": [
      "/home/stas/anaconda3/lib/python3.7/site-packages/sklearn/neural_network/multilayer_perceptron.py:562: ConvergenceWarning: Stochastic Optimizer: Maximum iterations (500) reached and the optimization hasn't converged yet.\n",
      "  % self.max_iter, ConvergenceWarning)\n"
     ]
    },
    {
     "name": "stdout",
     "output_type": "stream",
     "text": [
      "Alpha momentum 0.5, learning rate 0.0013 R2 score: 0.9468839436536798\n",
      "Alpha momentum 0.5, learning rate 0.0013 mean squered error: 24250.232702957794\n",
      "Alpha momentum 0.5, learning rate 0.0013 root mean squered error: 155.7248621863503\n"
     ]
    },
    {
     "name": "stderr",
     "output_type": "stream",
     "text": [
      "/home/stas/anaconda3/lib/python3.7/site-packages/sklearn/neural_network/multilayer_perceptron.py:562: ConvergenceWarning: Stochastic Optimizer: Maximum iterations (500) reached and the optimization hasn't converged yet.\n",
      "  % self.max_iter, ConvergenceWarning)\n"
     ]
    },
    {
     "name": "stdout",
     "output_type": "stream",
     "text": [
      "Alpha momentum 0.6, learning rate 0.0013 R2 score: 0.9468839436536798\n",
      "Alpha momentum 0.6, learning rate 0.0013 mean squered error: 24250.232702957794\n",
      "Alpha momentum 0.6, learning rate 0.0013 root mean squered error: 155.7248621863503\n"
     ]
    },
    {
     "name": "stderr",
     "output_type": "stream",
     "text": [
      "/home/stas/anaconda3/lib/python3.7/site-packages/sklearn/neural_network/multilayer_perceptron.py:562: ConvergenceWarning: Stochastic Optimizer: Maximum iterations (500) reached and the optimization hasn't converged yet.\n",
      "  % self.max_iter, ConvergenceWarning)\n"
     ]
    },
    {
     "name": "stdout",
     "output_type": "stream",
     "text": [
      "Alpha momentum 0.7, learning rate 0.0013 R2 score: 0.9468839436536798\n",
      "Alpha momentum 0.7, learning rate 0.0013 mean squered error: 24250.232702957794\n",
      "Alpha momentum 0.7, learning rate 0.0013 root mean squered error: 155.7248621863503\n"
     ]
    },
    {
     "name": "stderr",
     "output_type": "stream",
     "text": [
      "/home/stas/anaconda3/lib/python3.7/site-packages/sklearn/neural_network/multilayer_perceptron.py:562: ConvergenceWarning: Stochastic Optimizer: Maximum iterations (500) reached and the optimization hasn't converged yet.\n",
      "  % self.max_iter, ConvergenceWarning)\n"
     ]
    },
    {
     "name": "stdout",
     "output_type": "stream",
     "text": [
      "Alpha momentum 0.8, learning rate 0.0013 R2 score: 0.9468839436536798\n",
      "Alpha momentum 0.8, learning rate 0.0013 mean squered error: 24250.232702957794\n",
      "Alpha momentum 0.8, learning rate 0.0013 root mean squered error: 155.7248621863503\n"
     ]
    },
    {
     "name": "stderr",
     "output_type": "stream",
     "text": [
      "/home/stas/anaconda3/lib/python3.7/site-packages/sklearn/neural_network/multilayer_perceptron.py:562: ConvergenceWarning: Stochastic Optimizer: Maximum iterations (500) reached and the optimization hasn't converged yet.\n",
      "  % self.max_iter, ConvergenceWarning)\n"
     ]
    },
    {
     "name": "stdout",
     "output_type": "stream",
     "text": [
      "Alpha momentum 0.9, learning rate 0.0013 R2 score: 0.9468839436536798\n",
      "Alpha momentum 0.9, learning rate 0.0013 mean squered error: 24250.232702957794\n",
      "Alpha momentum 0.9, learning rate 0.0013 root mean squered error: 155.7248621863503\n"
     ]
    },
    {
     "name": "stderr",
     "output_type": "stream",
     "text": [
      "/home/stas/anaconda3/lib/python3.7/site-packages/sklearn/neural_network/multilayer_perceptron.py:562: ConvergenceWarning: Stochastic Optimizer: Maximum iterations (500) reached and the optimization hasn't converged yet.\n",
      "  % self.max_iter, ConvergenceWarning)\n"
     ]
    },
    {
     "name": "stdout",
     "output_type": "stream",
     "text": [
      "Alpha momentum 0.1, learning rate 0.0014 R2 score: 0.9507126650880882\n",
      "Alpha momentum 0.1, learning rate 0.0014 mean squered error: 22837.828196381477\n",
      "Alpha momentum 0.1, learning rate 0.0014 root mean squered error: 151.12189846736797\n"
     ]
    },
    {
     "name": "stderr",
     "output_type": "stream",
     "text": [
      "/home/stas/anaconda3/lib/python3.7/site-packages/sklearn/neural_network/multilayer_perceptron.py:562: ConvergenceWarning: Stochastic Optimizer: Maximum iterations (500) reached and the optimization hasn't converged yet.\n",
      "  % self.max_iter, ConvergenceWarning)\n"
     ]
    },
    {
     "name": "stdout",
     "output_type": "stream",
     "text": [
      "Alpha momentum 0.2, learning rate 0.0014 R2 score: 0.9507126650880882\n",
      "Alpha momentum 0.2, learning rate 0.0014 mean squered error: 22837.828196381477\n",
      "Alpha momentum 0.2, learning rate 0.0014 root mean squered error: 151.12189846736797\n"
     ]
    },
    {
     "name": "stderr",
     "output_type": "stream",
     "text": [
      "/home/stas/anaconda3/lib/python3.7/site-packages/sklearn/neural_network/multilayer_perceptron.py:562: ConvergenceWarning: Stochastic Optimizer: Maximum iterations (500) reached and the optimization hasn't converged yet.\n",
      "  % self.max_iter, ConvergenceWarning)\n"
     ]
    },
    {
     "name": "stdout",
     "output_type": "stream",
     "text": [
      "Alpha momentum 0.3, learning rate 0.0014 R2 score: 0.9507126650880882\n",
      "Alpha momentum 0.3, learning rate 0.0014 mean squered error: 22837.828196381477\n",
      "Alpha momentum 0.3, learning rate 0.0014 root mean squered error: 151.12189846736797\n"
     ]
    },
    {
     "name": "stderr",
     "output_type": "stream",
     "text": [
      "/home/stas/anaconda3/lib/python3.7/site-packages/sklearn/neural_network/multilayer_perceptron.py:562: ConvergenceWarning: Stochastic Optimizer: Maximum iterations (500) reached and the optimization hasn't converged yet.\n",
      "  % self.max_iter, ConvergenceWarning)\n"
     ]
    },
    {
     "name": "stdout",
     "output_type": "stream",
     "text": [
      "Alpha momentum 0.4, learning rate 0.0014 R2 score: 0.9507126650880882\n",
      "Alpha momentum 0.4, learning rate 0.0014 mean squered error: 22837.828196381477\n",
      "Alpha momentum 0.4, learning rate 0.0014 root mean squered error: 151.12189846736797\n"
     ]
    },
    {
     "name": "stderr",
     "output_type": "stream",
     "text": [
      "/home/stas/anaconda3/lib/python3.7/site-packages/sklearn/neural_network/multilayer_perceptron.py:562: ConvergenceWarning: Stochastic Optimizer: Maximum iterations (500) reached and the optimization hasn't converged yet.\n",
      "  % self.max_iter, ConvergenceWarning)\n"
     ]
    },
    {
     "name": "stdout",
     "output_type": "stream",
     "text": [
      "Alpha momentum 0.5, learning rate 0.0014 R2 score: 0.9507126650880882\n",
      "Alpha momentum 0.5, learning rate 0.0014 mean squered error: 22837.828196381477\n",
      "Alpha momentum 0.5, learning rate 0.0014 root mean squered error: 151.12189846736797\n"
     ]
    },
    {
     "name": "stderr",
     "output_type": "stream",
     "text": [
      "/home/stas/anaconda3/lib/python3.7/site-packages/sklearn/neural_network/multilayer_perceptron.py:562: ConvergenceWarning: Stochastic Optimizer: Maximum iterations (500) reached and the optimization hasn't converged yet.\n",
      "  % self.max_iter, ConvergenceWarning)\n"
     ]
    },
    {
     "name": "stdout",
     "output_type": "stream",
     "text": [
      "Alpha momentum 0.6, learning rate 0.0014 R2 score: 0.9507126650880882\n",
      "Alpha momentum 0.6, learning rate 0.0014 mean squered error: 22837.828196381477\n",
      "Alpha momentum 0.6, learning rate 0.0014 root mean squered error: 151.12189846736797\n"
     ]
    },
    {
     "name": "stderr",
     "output_type": "stream",
     "text": [
      "/home/stas/anaconda3/lib/python3.7/site-packages/sklearn/neural_network/multilayer_perceptron.py:562: ConvergenceWarning: Stochastic Optimizer: Maximum iterations (500) reached and the optimization hasn't converged yet.\n",
      "  % self.max_iter, ConvergenceWarning)\n"
     ]
    },
    {
     "name": "stdout",
     "output_type": "stream",
     "text": [
      "Alpha momentum 0.7, learning rate 0.0014 R2 score: 0.9507126650880882\n",
      "Alpha momentum 0.7, learning rate 0.0014 mean squered error: 22837.828196381477\n",
      "Alpha momentum 0.7, learning rate 0.0014 root mean squered error: 151.12189846736797\n"
     ]
    },
    {
     "name": "stderr",
     "output_type": "stream",
     "text": [
      "/home/stas/anaconda3/lib/python3.7/site-packages/sklearn/neural_network/multilayer_perceptron.py:562: ConvergenceWarning: Stochastic Optimizer: Maximum iterations (500) reached and the optimization hasn't converged yet.\n",
      "  % self.max_iter, ConvergenceWarning)\n"
     ]
    },
    {
     "name": "stdout",
     "output_type": "stream",
     "text": [
      "Alpha momentum 0.8, learning rate 0.0014 R2 score: 0.9507126650880882\n",
      "Alpha momentum 0.8, learning rate 0.0014 mean squered error: 22837.828196381477\n",
      "Alpha momentum 0.8, learning rate 0.0014 root mean squered error: 151.12189846736797\n"
     ]
    },
    {
     "name": "stderr",
     "output_type": "stream",
     "text": [
      "/home/stas/anaconda3/lib/python3.7/site-packages/sklearn/neural_network/multilayer_perceptron.py:562: ConvergenceWarning: Stochastic Optimizer: Maximum iterations (500) reached and the optimization hasn't converged yet.\n",
      "  % self.max_iter, ConvergenceWarning)\n"
     ]
    },
    {
     "name": "stdout",
     "output_type": "stream",
     "text": [
      "Alpha momentum 0.9, learning rate 0.0014 R2 score: 0.9507126650880882\n",
      "Alpha momentum 0.9, learning rate 0.0014 mean squered error: 22837.828196381477\n",
      "Alpha momentum 0.9, learning rate 0.0014 root mean squered error: 151.12189846736797\n"
     ]
    },
    {
     "name": "stderr",
     "output_type": "stream",
     "text": [
      "/home/stas/anaconda3/lib/python3.7/site-packages/sklearn/neural_network/multilayer_perceptron.py:562: ConvergenceWarning: Stochastic Optimizer: Maximum iterations (500) reached and the optimization hasn't converged yet.\n",
      "  % self.max_iter, ConvergenceWarning)\n"
     ]
    },
    {
     "name": "stdout",
     "output_type": "stream",
     "text": [
      "Alpha momentum 0.1, learning rate 0.0015 R2 score: 0.953557443286897\n",
      "Alpha momentum 0.1, learning rate 0.0015 mean squered error: 21838.78651592133\n",
      "Alpha momentum 0.1, learning rate 0.0015 root mean squered error: 147.77951994752632\n"
     ]
    },
    {
     "name": "stderr",
     "output_type": "stream",
     "text": [
      "/home/stas/anaconda3/lib/python3.7/site-packages/sklearn/neural_network/multilayer_perceptron.py:562: ConvergenceWarning: Stochastic Optimizer: Maximum iterations (500) reached and the optimization hasn't converged yet.\n",
      "  % self.max_iter, ConvergenceWarning)\n"
     ]
    },
    {
     "name": "stdout",
     "output_type": "stream",
     "text": [
      "Alpha momentum 0.2, learning rate 0.0015 R2 score: 0.953557443286897\n",
      "Alpha momentum 0.2, learning rate 0.0015 mean squered error: 21838.78651592133\n",
      "Alpha momentum 0.2, learning rate 0.0015 root mean squered error: 147.77951994752632\n"
     ]
    },
    {
     "name": "stderr",
     "output_type": "stream",
     "text": [
      "/home/stas/anaconda3/lib/python3.7/site-packages/sklearn/neural_network/multilayer_perceptron.py:562: ConvergenceWarning: Stochastic Optimizer: Maximum iterations (500) reached and the optimization hasn't converged yet.\n",
      "  % self.max_iter, ConvergenceWarning)\n"
     ]
    },
    {
     "name": "stdout",
     "output_type": "stream",
     "text": [
      "Alpha momentum 0.3, learning rate 0.0015 R2 score: 0.953557443286897\n",
      "Alpha momentum 0.3, learning rate 0.0015 mean squered error: 21838.78651592133\n",
      "Alpha momentum 0.3, learning rate 0.0015 root mean squered error: 147.77951994752632\n"
     ]
    },
    {
     "name": "stderr",
     "output_type": "stream",
     "text": [
      "/home/stas/anaconda3/lib/python3.7/site-packages/sklearn/neural_network/multilayer_perceptron.py:562: ConvergenceWarning: Stochastic Optimizer: Maximum iterations (500) reached and the optimization hasn't converged yet.\n",
      "  % self.max_iter, ConvergenceWarning)\n"
     ]
    },
    {
     "name": "stdout",
     "output_type": "stream",
     "text": [
      "Alpha momentum 0.4, learning rate 0.0015 R2 score: 0.953557443286897\n",
      "Alpha momentum 0.4, learning rate 0.0015 mean squered error: 21838.78651592133\n",
      "Alpha momentum 0.4, learning rate 0.0015 root mean squered error: 147.77951994752632\n"
     ]
    },
    {
     "name": "stderr",
     "output_type": "stream",
     "text": [
      "/home/stas/anaconda3/lib/python3.7/site-packages/sklearn/neural_network/multilayer_perceptron.py:562: ConvergenceWarning: Stochastic Optimizer: Maximum iterations (500) reached and the optimization hasn't converged yet.\n",
      "  % self.max_iter, ConvergenceWarning)\n"
     ]
    },
    {
     "name": "stdout",
     "output_type": "stream",
     "text": [
      "Alpha momentum 0.5, learning rate 0.0015 R2 score: 0.953557443286897\n",
      "Alpha momentum 0.5, learning rate 0.0015 mean squered error: 21838.78651592133\n",
      "Alpha momentum 0.5, learning rate 0.0015 root mean squered error: 147.77951994752632\n"
     ]
    },
    {
     "name": "stderr",
     "output_type": "stream",
     "text": [
      "/home/stas/anaconda3/lib/python3.7/site-packages/sklearn/neural_network/multilayer_perceptron.py:562: ConvergenceWarning: Stochastic Optimizer: Maximum iterations (500) reached and the optimization hasn't converged yet.\n",
      "  % self.max_iter, ConvergenceWarning)\n"
     ]
    },
    {
     "name": "stdout",
     "output_type": "stream",
     "text": [
      "Alpha momentum 0.6, learning rate 0.0015 R2 score: 0.953557443286897\n",
      "Alpha momentum 0.6, learning rate 0.0015 mean squered error: 21838.78651592133\n",
      "Alpha momentum 0.6, learning rate 0.0015 root mean squered error: 147.77951994752632\n"
     ]
    },
    {
     "name": "stderr",
     "output_type": "stream",
     "text": [
      "/home/stas/anaconda3/lib/python3.7/site-packages/sklearn/neural_network/multilayer_perceptron.py:562: ConvergenceWarning: Stochastic Optimizer: Maximum iterations (500) reached and the optimization hasn't converged yet.\n",
      "  % self.max_iter, ConvergenceWarning)\n"
     ]
    },
    {
     "name": "stdout",
     "output_type": "stream",
     "text": [
      "Alpha momentum 0.7, learning rate 0.0015 R2 score: 0.953557443286897\n",
      "Alpha momentum 0.7, learning rate 0.0015 mean squered error: 21838.78651592133\n",
      "Alpha momentum 0.7, learning rate 0.0015 root mean squered error: 147.77951994752632\n"
     ]
    },
    {
     "name": "stderr",
     "output_type": "stream",
     "text": [
      "/home/stas/anaconda3/lib/python3.7/site-packages/sklearn/neural_network/multilayer_perceptron.py:562: ConvergenceWarning: Stochastic Optimizer: Maximum iterations (500) reached and the optimization hasn't converged yet.\n",
      "  % self.max_iter, ConvergenceWarning)\n"
     ]
    },
    {
     "name": "stdout",
     "output_type": "stream",
     "text": [
      "Alpha momentum 0.8, learning rate 0.0015 R2 score: 0.953557443286897\n",
      "Alpha momentum 0.8, learning rate 0.0015 mean squered error: 21838.78651592133\n",
      "Alpha momentum 0.8, learning rate 0.0015 root mean squered error: 147.77951994752632\n"
     ]
    },
    {
     "name": "stderr",
     "output_type": "stream",
     "text": [
      "/home/stas/anaconda3/lib/python3.7/site-packages/sklearn/neural_network/multilayer_perceptron.py:562: ConvergenceWarning: Stochastic Optimizer: Maximum iterations (500) reached and the optimization hasn't converged yet.\n",
      "  % self.max_iter, ConvergenceWarning)\n"
     ]
    },
    {
     "name": "stdout",
     "output_type": "stream",
     "text": [
      "Alpha momentum 0.9, learning rate 0.0015 R2 score: 0.953557443286897\n",
      "Alpha momentum 0.9, learning rate 0.0015 mean squered error: 21838.78651592133\n",
      "Alpha momentum 0.9, learning rate 0.0015 root mean squered error: 147.77951994752632\n"
     ]
    },
    {
     "name": "stderr",
     "output_type": "stream",
     "text": [
      "/home/stas/anaconda3/lib/python3.7/site-packages/sklearn/neural_network/multilayer_perceptron.py:562: ConvergenceWarning: Stochastic Optimizer: Maximum iterations (500) reached and the optimization hasn't converged yet.\n",
      "  % self.max_iter, ConvergenceWarning)\n"
     ]
    },
    {
     "name": "stdout",
     "output_type": "stream",
     "text": [
      "Alpha momentum 0.1, learning rate 0.0016 R2 score: 0.9556273708587342\n",
      "Alpha momentum 0.1, learning rate 0.0016 mean squered error: 21053.527801607797\n",
      "Alpha momentum 0.1, learning rate 0.0016 root mean squered error: 145.09833838334538\n"
     ]
    },
    {
     "name": "stderr",
     "output_type": "stream",
     "text": [
      "/home/stas/anaconda3/lib/python3.7/site-packages/sklearn/neural_network/multilayer_perceptron.py:562: ConvergenceWarning: Stochastic Optimizer: Maximum iterations (500) reached and the optimization hasn't converged yet.\n",
      "  % self.max_iter, ConvergenceWarning)\n"
     ]
    },
    {
     "name": "stdout",
     "output_type": "stream",
     "text": [
      "Alpha momentum 0.2, learning rate 0.0016 R2 score: 0.9556273708587342\n",
      "Alpha momentum 0.2, learning rate 0.0016 mean squered error: 21053.527801607797\n",
      "Alpha momentum 0.2, learning rate 0.0016 root mean squered error: 145.09833838334538\n"
     ]
    },
    {
     "name": "stderr",
     "output_type": "stream",
     "text": [
      "/home/stas/anaconda3/lib/python3.7/site-packages/sklearn/neural_network/multilayer_perceptron.py:562: ConvergenceWarning: Stochastic Optimizer: Maximum iterations (500) reached and the optimization hasn't converged yet.\n",
      "  % self.max_iter, ConvergenceWarning)\n"
     ]
    },
    {
     "name": "stdout",
     "output_type": "stream",
     "text": [
      "Alpha momentum 0.3, learning rate 0.0016 R2 score: 0.9556273708587342\n",
      "Alpha momentum 0.3, learning rate 0.0016 mean squered error: 21053.527801607797\n",
      "Alpha momentum 0.3, learning rate 0.0016 root mean squered error: 145.09833838334538\n"
     ]
    },
    {
     "name": "stderr",
     "output_type": "stream",
     "text": [
      "/home/stas/anaconda3/lib/python3.7/site-packages/sklearn/neural_network/multilayer_perceptron.py:562: ConvergenceWarning: Stochastic Optimizer: Maximum iterations (500) reached and the optimization hasn't converged yet.\n",
      "  % self.max_iter, ConvergenceWarning)\n"
     ]
    },
    {
     "name": "stdout",
     "output_type": "stream",
     "text": [
      "Alpha momentum 0.4, learning rate 0.0016 R2 score: 0.9556273708587342\n",
      "Alpha momentum 0.4, learning rate 0.0016 mean squered error: 21053.527801607797\n",
      "Alpha momentum 0.4, learning rate 0.0016 root mean squered error: 145.09833838334538\n"
     ]
    },
    {
     "name": "stderr",
     "output_type": "stream",
     "text": [
      "/home/stas/anaconda3/lib/python3.7/site-packages/sklearn/neural_network/multilayer_perceptron.py:562: ConvergenceWarning: Stochastic Optimizer: Maximum iterations (500) reached and the optimization hasn't converged yet.\n",
      "  % self.max_iter, ConvergenceWarning)\n"
     ]
    },
    {
     "name": "stdout",
     "output_type": "stream",
     "text": [
      "Alpha momentum 0.5, learning rate 0.0016 R2 score: 0.9556273708587342\n",
      "Alpha momentum 0.5, learning rate 0.0016 mean squered error: 21053.527801607797\n",
      "Alpha momentum 0.5, learning rate 0.0016 root mean squered error: 145.09833838334538\n"
     ]
    },
    {
     "name": "stderr",
     "output_type": "stream",
     "text": [
      "/home/stas/anaconda3/lib/python3.7/site-packages/sklearn/neural_network/multilayer_perceptron.py:562: ConvergenceWarning: Stochastic Optimizer: Maximum iterations (500) reached and the optimization hasn't converged yet.\n",
      "  % self.max_iter, ConvergenceWarning)\n"
     ]
    },
    {
     "name": "stdout",
     "output_type": "stream",
     "text": [
      "Alpha momentum 0.6, learning rate 0.0016 R2 score: 0.9556273708587342\n",
      "Alpha momentum 0.6, learning rate 0.0016 mean squered error: 21053.527801607797\n",
      "Alpha momentum 0.6, learning rate 0.0016 root mean squered error: 145.09833838334538\n"
     ]
    },
    {
     "name": "stderr",
     "output_type": "stream",
     "text": [
      "/home/stas/anaconda3/lib/python3.7/site-packages/sklearn/neural_network/multilayer_perceptron.py:562: ConvergenceWarning: Stochastic Optimizer: Maximum iterations (500) reached and the optimization hasn't converged yet.\n",
      "  % self.max_iter, ConvergenceWarning)\n"
     ]
    },
    {
     "name": "stdout",
     "output_type": "stream",
     "text": [
      "Alpha momentum 0.7, learning rate 0.0016 R2 score: 0.9556273708587342\n",
      "Alpha momentum 0.7, learning rate 0.0016 mean squered error: 21053.527801607797\n",
      "Alpha momentum 0.7, learning rate 0.0016 root mean squered error: 145.09833838334538\n"
     ]
    },
    {
     "name": "stderr",
     "output_type": "stream",
     "text": [
      "/home/stas/anaconda3/lib/python3.7/site-packages/sklearn/neural_network/multilayer_perceptron.py:562: ConvergenceWarning: Stochastic Optimizer: Maximum iterations (500) reached and the optimization hasn't converged yet.\n",
      "  % self.max_iter, ConvergenceWarning)\n"
     ]
    },
    {
     "name": "stdout",
     "output_type": "stream",
     "text": [
      "Alpha momentum 0.8, learning rate 0.0016 R2 score: 0.9556273708587342\n",
      "Alpha momentum 0.8, learning rate 0.0016 mean squered error: 21053.527801607797\n",
      "Alpha momentum 0.8, learning rate 0.0016 root mean squered error: 145.09833838334538\n"
     ]
    },
    {
     "name": "stderr",
     "output_type": "stream",
     "text": [
      "/home/stas/anaconda3/lib/python3.7/site-packages/sklearn/neural_network/multilayer_perceptron.py:562: ConvergenceWarning: Stochastic Optimizer: Maximum iterations (500) reached and the optimization hasn't converged yet.\n",
      "  % self.max_iter, ConvergenceWarning)\n"
     ]
    },
    {
     "name": "stdout",
     "output_type": "stream",
     "text": [
      "Alpha momentum 0.9, learning rate 0.0016 R2 score: 0.9556273708587342\n",
      "Alpha momentum 0.9, learning rate 0.0016 mean squered error: 21053.527801607797\n",
      "Alpha momentum 0.9, learning rate 0.0016 root mean squered error: 145.09833838334538\n"
     ]
    },
    {
     "name": "stderr",
     "output_type": "stream",
     "text": [
      "/home/stas/anaconda3/lib/python3.7/site-packages/sklearn/neural_network/multilayer_perceptron.py:562: ConvergenceWarning: Stochastic Optimizer: Maximum iterations (500) reached and the optimization hasn't converged yet.\n",
      "  % self.max_iter, ConvergenceWarning)\n"
     ]
    },
    {
     "name": "stdout",
     "output_type": "stream",
     "text": [
      "Alpha momentum 0.1, learning rate 0.0017 R2 score: 0.9574589945046078\n",
      "Alpha momentum 0.1, learning rate 0.0017 mean squered error: 20231.61559133781\n",
      "Alpha momentum 0.1, learning rate 0.0017 root mean squered error: 142.23788381207663\n"
     ]
    },
    {
     "name": "stderr",
     "output_type": "stream",
     "text": [
      "/home/stas/anaconda3/lib/python3.7/site-packages/sklearn/neural_network/multilayer_perceptron.py:562: ConvergenceWarning: Stochastic Optimizer: Maximum iterations (500) reached and the optimization hasn't converged yet.\n",
      "  % self.max_iter, ConvergenceWarning)\n"
     ]
    },
    {
     "name": "stdout",
     "output_type": "stream",
     "text": [
      "Alpha momentum 0.2, learning rate 0.0017 R2 score: 0.9574589945046078\n",
      "Alpha momentum 0.2, learning rate 0.0017 mean squered error: 20231.61559133781\n",
      "Alpha momentum 0.2, learning rate 0.0017 root mean squered error: 142.23788381207663\n"
     ]
    },
    {
     "name": "stderr",
     "output_type": "stream",
     "text": [
      "/home/stas/anaconda3/lib/python3.7/site-packages/sklearn/neural_network/multilayer_perceptron.py:562: ConvergenceWarning: Stochastic Optimizer: Maximum iterations (500) reached and the optimization hasn't converged yet.\n",
      "  % self.max_iter, ConvergenceWarning)\n"
     ]
    },
    {
     "name": "stdout",
     "output_type": "stream",
     "text": [
      "Alpha momentum 0.3, learning rate 0.0017 R2 score: 0.9574589945046078\n",
      "Alpha momentum 0.3, learning rate 0.0017 mean squered error: 20231.61559133781\n",
      "Alpha momentum 0.3, learning rate 0.0017 root mean squered error: 142.23788381207663\n"
     ]
    },
    {
     "name": "stderr",
     "output_type": "stream",
     "text": [
      "/home/stas/anaconda3/lib/python3.7/site-packages/sklearn/neural_network/multilayer_perceptron.py:562: ConvergenceWarning: Stochastic Optimizer: Maximum iterations (500) reached and the optimization hasn't converged yet.\n",
      "  % self.max_iter, ConvergenceWarning)\n"
     ]
    },
    {
     "name": "stdout",
     "output_type": "stream",
     "text": [
      "Alpha momentum 0.4, learning rate 0.0017 R2 score: 0.9574589945046078\n",
      "Alpha momentum 0.4, learning rate 0.0017 mean squered error: 20231.61559133781\n",
      "Alpha momentum 0.4, learning rate 0.0017 root mean squered error: 142.23788381207663\n"
     ]
    },
    {
     "name": "stderr",
     "output_type": "stream",
     "text": [
      "/home/stas/anaconda3/lib/python3.7/site-packages/sklearn/neural_network/multilayer_perceptron.py:562: ConvergenceWarning: Stochastic Optimizer: Maximum iterations (500) reached and the optimization hasn't converged yet.\n",
      "  % self.max_iter, ConvergenceWarning)\n"
     ]
    },
    {
     "name": "stdout",
     "output_type": "stream",
     "text": [
      "Alpha momentum 0.5, learning rate 0.0017 R2 score: 0.9574589945046078\n",
      "Alpha momentum 0.5, learning rate 0.0017 mean squered error: 20231.61559133781\n",
      "Alpha momentum 0.5, learning rate 0.0017 root mean squered error: 142.23788381207663\n"
     ]
    },
    {
     "name": "stderr",
     "output_type": "stream",
     "text": [
      "/home/stas/anaconda3/lib/python3.7/site-packages/sklearn/neural_network/multilayer_perceptron.py:562: ConvergenceWarning: Stochastic Optimizer: Maximum iterations (500) reached and the optimization hasn't converged yet.\n",
      "  % self.max_iter, ConvergenceWarning)\n"
     ]
    },
    {
     "name": "stdout",
     "output_type": "stream",
     "text": [
      "Alpha momentum 0.6, learning rate 0.0017 R2 score: 0.9574589945046078\n",
      "Alpha momentum 0.6, learning rate 0.0017 mean squered error: 20231.61559133781\n",
      "Alpha momentum 0.6, learning rate 0.0017 root mean squered error: 142.23788381207663\n"
     ]
    },
    {
     "name": "stderr",
     "output_type": "stream",
     "text": [
      "/home/stas/anaconda3/lib/python3.7/site-packages/sklearn/neural_network/multilayer_perceptron.py:562: ConvergenceWarning: Stochastic Optimizer: Maximum iterations (500) reached and the optimization hasn't converged yet.\n",
      "  % self.max_iter, ConvergenceWarning)\n"
     ]
    },
    {
     "name": "stdout",
     "output_type": "stream",
     "text": [
      "Alpha momentum 0.7, learning rate 0.0017 R2 score: 0.9574589945046078\n",
      "Alpha momentum 0.7, learning rate 0.0017 mean squered error: 20231.61559133781\n",
      "Alpha momentum 0.7, learning rate 0.0017 root mean squered error: 142.23788381207663\n"
     ]
    },
    {
     "name": "stderr",
     "output_type": "stream",
     "text": [
      "/home/stas/anaconda3/lib/python3.7/site-packages/sklearn/neural_network/multilayer_perceptron.py:562: ConvergenceWarning: Stochastic Optimizer: Maximum iterations (500) reached and the optimization hasn't converged yet.\n",
      "  % self.max_iter, ConvergenceWarning)\n"
     ]
    },
    {
     "name": "stdout",
     "output_type": "stream",
     "text": [
      "Alpha momentum 0.8, learning rate 0.0017 R2 score: 0.9574589945046078\n",
      "Alpha momentum 0.8, learning rate 0.0017 mean squered error: 20231.61559133781\n",
      "Alpha momentum 0.8, learning rate 0.0017 root mean squered error: 142.23788381207663\n"
     ]
    },
    {
     "name": "stderr",
     "output_type": "stream",
     "text": [
      "/home/stas/anaconda3/lib/python3.7/site-packages/sklearn/neural_network/multilayer_perceptron.py:562: ConvergenceWarning: Stochastic Optimizer: Maximum iterations (500) reached and the optimization hasn't converged yet.\n",
      "  % self.max_iter, ConvergenceWarning)\n"
     ]
    },
    {
     "name": "stdout",
     "output_type": "stream",
     "text": [
      "Alpha momentum 0.9, learning rate 0.0017 R2 score: 0.9574589945046078\n",
      "Alpha momentum 0.9, learning rate 0.0017 mean squered error: 20231.61559133781\n",
      "Alpha momentum 0.9, learning rate 0.0017 root mean squered error: 142.23788381207663\n"
     ]
    },
    {
     "name": "stderr",
     "output_type": "stream",
     "text": [
      "/home/stas/anaconda3/lib/python3.7/site-packages/sklearn/neural_network/multilayer_perceptron.py:562: ConvergenceWarning: Stochastic Optimizer: Maximum iterations (500) reached and the optimization hasn't converged yet.\n",
      "  % self.max_iter, ConvergenceWarning)\n"
     ]
    },
    {
     "name": "stdout",
     "output_type": "stream",
     "text": [
      "Alpha momentum 0.1, learning rate 0.0018 R2 score: 0.9591889354500371\n",
      "Alpha momentum 0.1, learning rate 0.0018 mean squered error: 19257.254725033486\n",
      "Alpha momentum 0.1, learning rate 0.0018 root mean squered error: 138.77051100660213\n"
     ]
    },
    {
     "name": "stderr",
     "output_type": "stream",
     "text": [
      "/home/stas/anaconda3/lib/python3.7/site-packages/sklearn/neural_network/multilayer_perceptron.py:562: ConvergenceWarning: Stochastic Optimizer: Maximum iterations (500) reached and the optimization hasn't converged yet.\n",
      "  % self.max_iter, ConvergenceWarning)\n"
     ]
    },
    {
     "name": "stdout",
     "output_type": "stream",
     "text": [
      "Alpha momentum 0.2, learning rate 0.0018 R2 score: 0.9591889354500371\n",
      "Alpha momentum 0.2, learning rate 0.0018 mean squered error: 19257.254725033486\n",
      "Alpha momentum 0.2, learning rate 0.0018 root mean squered error: 138.77051100660213\n"
     ]
    },
    {
     "name": "stderr",
     "output_type": "stream",
     "text": [
      "/home/stas/anaconda3/lib/python3.7/site-packages/sklearn/neural_network/multilayer_perceptron.py:562: ConvergenceWarning: Stochastic Optimizer: Maximum iterations (500) reached and the optimization hasn't converged yet.\n",
      "  % self.max_iter, ConvergenceWarning)\n"
     ]
    },
    {
     "name": "stdout",
     "output_type": "stream",
     "text": [
      "Alpha momentum 0.3, learning rate 0.0018 R2 score: 0.9591889354500371\n",
      "Alpha momentum 0.3, learning rate 0.0018 mean squered error: 19257.254725033486\n",
      "Alpha momentum 0.3, learning rate 0.0018 root mean squered error: 138.77051100660213\n"
     ]
    },
    {
     "name": "stderr",
     "output_type": "stream",
     "text": [
      "/home/stas/anaconda3/lib/python3.7/site-packages/sklearn/neural_network/multilayer_perceptron.py:562: ConvergenceWarning: Stochastic Optimizer: Maximum iterations (500) reached and the optimization hasn't converged yet.\n",
      "  % self.max_iter, ConvergenceWarning)\n"
     ]
    },
    {
     "name": "stdout",
     "output_type": "stream",
     "text": [
      "Alpha momentum 0.4, learning rate 0.0018 R2 score: 0.9591889354500371\n",
      "Alpha momentum 0.4, learning rate 0.0018 mean squered error: 19257.254725033486\n",
      "Alpha momentum 0.4, learning rate 0.0018 root mean squered error: 138.77051100660213\n"
     ]
    },
    {
     "name": "stderr",
     "output_type": "stream",
     "text": [
      "/home/stas/anaconda3/lib/python3.7/site-packages/sklearn/neural_network/multilayer_perceptron.py:562: ConvergenceWarning: Stochastic Optimizer: Maximum iterations (500) reached and the optimization hasn't converged yet.\n",
      "  % self.max_iter, ConvergenceWarning)\n"
     ]
    },
    {
     "name": "stdout",
     "output_type": "stream",
     "text": [
      "Alpha momentum 0.5, learning rate 0.0018 R2 score: 0.9591889354500371\n",
      "Alpha momentum 0.5, learning rate 0.0018 mean squered error: 19257.254725033486\n",
      "Alpha momentum 0.5, learning rate 0.0018 root mean squered error: 138.77051100660213\n"
     ]
    },
    {
     "name": "stderr",
     "output_type": "stream",
     "text": [
      "/home/stas/anaconda3/lib/python3.7/site-packages/sklearn/neural_network/multilayer_perceptron.py:562: ConvergenceWarning: Stochastic Optimizer: Maximum iterations (500) reached and the optimization hasn't converged yet.\n",
      "  % self.max_iter, ConvergenceWarning)\n"
     ]
    },
    {
     "name": "stdout",
     "output_type": "stream",
     "text": [
      "Alpha momentum 0.6, learning rate 0.0018 R2 score: 0.9591889354500371\n",
      "Alpha momentum 0.6, learning rate 0.0018 mean squered error: 19257.254725033486\n",
      "Alpha momentum 0.6, learning rate 0.0018 root mean squered error: 138.77051100660213\n"
     ]
    },
    {
     "name": "stderr",
     "output_type": "stream",
     "text": [
      "/home/stas/anaconda3/lib/python3.7/site-packages/sklearn/neural_network/multilayer_perceptron.py:562: ConvergenceWarning: Stochastic Optimizer: Maximum iterations (500) reached and the optimization hasn't converged yet.\n",
      "  % self.max_iter, ConvergenceWarning)\n"
     ]
    },
    {
     "name": "stdout",
     "output_type": "stream",
     "text": [
      "Alpha momentum 0.7, learning rate 0.0018 R2 score: 0.9591889354500371\n",
      "Alpha momentum 0.7, learning rate 0.0018 mean squered error: 19257.254725033486\n",
      "Alpha momentum 0.7, learning rate 0.0018 root mean squered error: 138.77051100660213\n"
     ]
    },
    {
     "name": "stderr",
     "output_type": "stream",
     "text": [
      "/home/stas/anaconda3/lib/python3.7/site-packages/sklearn/neural_network/multilayer_perceptron.py:562: ConvergenceWarning: Stochastic Optimizer: Maximum iterations (500) reached and the optimization hasn't converged yet.\n",
      "  % self.max_iter, ConvergenceWarning)\n"
     ]
    },
    {
     "name": "stdout",
     "output_type": "stream",
     "text": [
      "Alpha momentum 0.8, learning rate 0.0018 R2 score: 0.9591889354500371\n",
      "Alpha momentum 0.8, learning rate 0.0018 mean squered error: 19257.254725033486\n",
      "Alpha momentum 0.8, learning rate 0.0018 root mean squered error: 138.77051100660213\n"
     ]
    },
    {
     "name": "stderr",
     "output_type": "stream",
     "text": [
      "/home/stas/anaconda3/lib/python3.7/site-packages/sklearn/neural_network/multilayer_perceptron.py:562: ConvergenceWarning: Stochastic Optimizer: Maximum iterations (500) reached and the optimization hasn't converged yet.\n",
      "  % self.max_iter, ConvergenceWarning)\n"
     ]
    },
    {
     "name": "stdout",
     "output_type": "stream",
     "text": [
      "Alpha momentum 0.9, learning rate 0.0018 R2 score: 0.9591889354500371\n",
      "Alpha momentum 0.9, learning rate 0.0018 mean squered error: 19257.254725033486\n",
      "Alpha momentum 0.9, learning rate 0.0018 root mean squered error: 138.77051100660213\n"
     ]
    },
    {
     "name": "stderr",
     "output_type": "stream",
     "text": [
      "/home/stas/anaconda3/lib/python3.7/site-packages/sklearn/neural_network/multilayer_perceptron.py:562: ConvergenceWarning: Stochastic Optimizer: Maximum iterations (500) reached and the optimization hasn't converged yet.\n",
      "  % self.max_iter, ConvergenceWarning)\n"
     ]
    },
    {
     "name": "stdout",
     "output_type": "stream",
     "text": [
      "Alpha momentum 0.1, learning rate 0.0019 R2 score: 0.9607332730308809\n",
      "Alpha momentum 0.1, learning rate 0.0019 mean squered error: 18301.17763716203\n",
      "Alpha momentum 0.1, learning rate 0.0019 root mean squered error: 135.28184518686174\n"
     ]
    },
    {
     "name": "stderr",
     "output_type": "stream",
     "text": [
      "/home/stas/anaconda3/lib/python3.7/site-packages/sklearn/neural_network/multilayer_perceptron.py:562: ConvergenceWarning: Stochastic Optimizer: Maximum iterations (500) reached and the optimization hasn't converged yet.\n",
      "  % self.max_iter, ConvergenceWarning)\n"
     ]
    },
    {
     "name": "stdout",
     "output_type": "stream",
     "text": [
      "Alpha momentum 0.2, learning rate 0.0019 R2 score: 0.9607332730308809\n",
      "Alpha momentum 0.2, learning rate 0.0019 mean squered error: 18301.17763716203\n",
      "Alpha momentum 0.2, learning rate 0.0019 root mean squered error: 135.28184518686174\n"
     ]
    },
    {
     "name": "stderr",
     "output_type": "stream",
     "text": [
      "/home/stas/anaconda3/lib/python3.7/site-packages/sklearn/neural_network/multilayer_perceptron.py:562: ConvergenceWarning: Stochastic Optimizer: Maximum iterations (500) reached and the optimization hasn't converged yet.\n",
      "  % self.max_iter, ConvergenceWarning)\n"
     ]
    },
    {
     "name": "stdout",
     "output_type": "stream",
     "text": [
      "Alpha momentum 0.3, learning rate 0.0019 R2 score: 0.9607332730308809\n",
      "Alpha momentum 0.3, learning rate 0.0019 mean squered error: 18301.17763716203\n",
      "Alpha momentum 0.3, learning rate 0.0019 root mean squered error: 135.28184518686174\n"
     ]
    },
    {
     "name": "stderr",
     "output_type": "stream",
     "text": [
      "/home/stas/anaconda3/lib/python3.7/site-packages/sklearn/neural_network/multilayer_perceptron.py:562: ConvergenceWarning: Stochastic Optimizer: Maximum iterations (500) reached and the optimization hasn't converged yet.\n",
      "  % self.max_iter, ConvergenceWarning)\n"
     ]
    },
    {
     "name": "stdout",
     "output_type": "stream",
     "text": [
      "Alpha momentum 0.4, learning rate 0.0019 R2 score: 0.9607332730308809\n",
      "Alpha momentum 0.4, learning rate 0.0019 mean squered error: 18301.17763716203\n",
      "Alpha momentum 0.4, learning rate 0.0019 root mean squered error: 135.28184518686174\n"
     ]
    },
    {
     "name": "stderr",
     "output_type": "stream",
     "text": [
      "/home/stas/anaconda3/lib/python3.7/site-packages/sklearn/neural_network/multilayer_perceptron.py:562: ConvergenceWarning: Stochastic Optimizer: Maximum iterations (500) reached and the optimization hasn't converged yet.\n",
      "  % self.max_iter, ConvergenceWarning)\n"
     ]
    },
    {
     "name": "stdout",
     "output_type": "stream",
     "text": [
      "Alpha momentum 0.5, learning rate 0.0019 R2 score: 0.9607332730308809\n",
      "Alpha momentum 0.5, learning rate 0.0019 mean squered error: 18301.17763716203\n",
      "Alpha momentum 0.5, learning rate 0.0019 root mean squered error: 135.28184518686174\n"
     ]
    },
    {
     "name": "stderr",
     "output_type": "stream",
     "text": [
      "/home/stas/anaconda3/lib/python3.7/site-packages/sklearn/neural_network/multilayer_perceptron.py:562: ConvergenceWarning: Stochastic Optimizer: Maximum iterations (500) reached and the optimization hasn't converged yet.\n",
      "  % self.max_iter, ConvergenceWarning)\n"
     ]
    },
    {
     "name": "stdout",
     "output_type": "stream",
     "text": [
      "Alpha momentum 0.6, learning rate 0.0019 R2 score: 0.9607332730308809\n",
      "Alpha momentum 0.6, learning rate 0.0019 mean squered error: 18301.17763716203\n",
      "Alpha momentum 0.6, learning rate 0.0019 root mean squered error: 135.28184518686174\n"
     ]
    },
    {
     "name": "stderr",
     "output_type": "stream",
     "text": [
      "/home/stas/anaconda3/lib/python3.7/site-packages/sklearn/neural_network/multilayer_perceptron.py:562: ConvergenceWarning: Stochastic Optimizer: Maximum iterations (500) reached and the optimization hasn't converged yet.\n",
      "  % self.max_iter, ConvergenceWarning)\n"
     ]
    },
    {
     "name": "stdout",
     "output_type": "stream",
     "text": [
      "Alpha momentum 0.7, learning rate 0.0019 R2 score: 0.9607332730308809\n",
      "Alpha momentum 0.7, learning rate 0.0019 mean squered error: 18301.17763716203\n",
      "Alpha momentum 0.7, learning rate 0.0019 root mean squered error: 135.28184518686174\n"
     ]
    },
    {
     "name": "stderr",
     "output_type": "stream",
     "text": [
      "/home/stas/anaconda3/lib/python3.7/site-packages/sklearn/neural_network/multilayer_perceptron.py:562: ConvergenceWarning: Stochastic Optimizer: Maximum iterations (500) reached and the optimization hasn't converged yet.\n",
      "  % self.max_iter, ConvergenceWarning)\n"
     ]
    },
    {
     "name": "stdout",
     "output_type": "stream",
     "text": [
      "Alpha momentum 0.8, learning rate 0.0019 R2 score: 0.9607332730308809\n",
      "Alpha momentum 0.8, learning rate 0.0019 mean squered error: 18301.17763716203\n",
      "Alpha momentum 0.8, learning rate 0.0019 root mean squered error: 135.28184518686174\n"
     ]
    },
    {
     "name": "stderr",
     "output_type": "stream",
     "text": [
      "/home/stas/anaconda3/lib/python3.7/site-packages/sklearn/neural_network/multilayer_perceptron.py:562: ConvergenceWarning: Stochastic Optimizer: Maximum iterations (500) reached and the optimization hasn't converged yet.\n",
      "  % self.max_iter, ConvergenceWarning)\n"
     ]
    },
    {
     "name": "stdout",
     "output_type": "stream",
     "text": [
      "Alpha momentum 0.9, learning rate 0.0019 R2 score: 0.9607332730308809\n",
      "Alpha momentum 0.9, learning rate 0.0019 mean squered error: 18301.17763716203\n",
      "Alpha momentum 0.9, learning rate 0.0019 root mean squered error: 135.28184518686174\n"
     ]
    },
    {
     "name": "stderr",
     "output_type": "stream",
     "text": [
      "/home/stas/anaconda3/lib/python3.7/site-packages/sklearn/neural_network/multilayer_perceptron.py:562: ConvergenceWarning: Stochastic Optimizer: Maximum iterations (500) reached and the optimization hasn't converged yet.\n",
      "  % self.max_iter, ConvergenceWarning)\n"
     ]
    },
    {
     "name": "stdout",
     "output_type": "stream",
     "text": [
      "Alpha momentum 0.1, learning rate 0.002 R2 score: 0.9620083667045275\n",
      "Alpha momentum 0.1, learning rate 0.002 mean squered error: 17559.07436884555\n",
      "Alpha momentum 0.1, learning rate 0.002 root mean squered error: 132.51065756702573\n"
     ]
    },
    {
     "name": "stderr",
     "output_type": "stream",
     "text": [
      "/home/stas/anaconda3/lib/python3.7/site-packages/sklearn/neural_network/multilayer_perceptron.py:562: ConvergenceWarning: Stochastic Optimizer: Maximum iterations (500) reached and the optimization hasn't converged yet.\n",
      "  % self.max_iter, ConvergenceWarning)\n"
     ]
    },
    {
     "name": "stdout",
     "output_type": "stream",
     "text": [
      "Alpha momentum 0.2, learning rate 0.002 R2 score: 0.9620083667045275\n",
      "Alpha momentum 0.2, learning rate 0.002 mean squered error: 17559.07436884555\n",
      "Alpha momentum 0.2, learning rate 0.002 root mean squered error: 132.51065756702573\n"
     ]
    },
    {
     "name": "stderr",
     "output_type": "stream",
     "text": [
      "/home/stas/anaconda3/lib/python3.7/site-packages/sklearn/neural_network/multilayer_perceptron.py:562: ConvergenceWarning: Stochastic Optimizer: Maximum iterations (500) reached and the optimization hasn't converged yet.\n",
      "  % self.max_iter, ConvergenceWarning)\n"
     ]
    },
    {
     "name": "stdout",
     "output_type": "stream",
     "text": [
      "Alpha momentum 0.3, learning rate 0.002 R2 score: 0.9620083667045275\n",
      "Alpha momentum 0.3, learning rate 0.002 mean squered error: 17559.07436884555\n",
      "Alpha momentum 0.3, learning rate 0.002 root mean squered error: 132.51065756702573\n"
     ]
    },
    {
     "name": "stderr",
     "output_type": "stream",
     "text": [
      "/home/stas/anaconda3/lib/python3.7/site-packages/sklearn/neural_network/multilayer_perceptron.py:562: ConvergenceWarning: Stochastic Optimizer: Maximum iterations (500) reached and the optimization hasn't converged yet.\n",
      "  % self.max_iter, ConvergenceWarning)\n"
     ]
    },
    {
     "name": "stdout",
     "output_type": "stream",
     "text": [
      "Alpha momentum 0.4, learning rate 0.002 R2 score: 0.9620083667045275\n",
      "Alpha momentum 0.4, learning rate 0.002 mean squered error: 17559.07436884555\n",
      "Alpha momentum 0.4, learning rate 0.002 root mean squered error: 132.51065756702573\n"
     ]
    },
    {
     "name": "stderr",
     "output_type": "stream",
     "text": [
      "/home/stas/anaconda3/lib/python3.7/site-packages/sklearn/neural_network/multilayer_perceptron.py:562: ConvergenceWarning: Stochastic Optimizer: Maximum iterations (500) reached and the optimization hasn't converged yet.\n",
      "  % self.max_iter, ConvergenceWarning)\n"
     ]
    },
    {
     "name": "stdout",
     "output_type": "stream",
     "text": [
      "Alpha momentum 0.5, learning rate 0.002 R2 score: 0.9620083667045275\n",
      "Alpha momentum 0.5, learning rate 0.002 mean squered error: 17559.07436884555\n",
      "Alpha momentum 0.5, learning rate 0.002 root mean squered error: 132.51065756702573\n"
     ]
    },
    {
     "name": "stderr",
     "output_type": "stream",
     "text": [
      "/home/stas/anaconda3/lib/python3.7/site-packages/sklearn/neural_network/multilayer_perceptron.py:562: ConvergenceWarning: Stochastic Optimizer: Maximum iterations (500) reached and the optimization hasn't converged yet.\n",
      "  % self.max_iter, ConvergenceWarning)\n"
     ]
    },
    {
     "name": "stdout",
     "output_type": "stream",
     "text": [
      "Alpha momentum 0.6, learning rate 0.002 R2 score: 0.9620083667045275\n",
      "Alpha momentum 0.6, learning rate 0.002 mean squered error: 17559.07436884555\n",
      "Alpha momentum 0.6, learning rate 0.002 root mean squered error: 132.51065756702573\n"
     ]
    },
    {
     "name": "stderr",
     "output_type": "stream",
     "text": [
      "/home/stas/anaconda3/lib/python3.7/site-packages/sklearn/neural_network/multilayer_perceptron.py:562: ConvergenceWarning: Stochastic Optimizer: Maximum iterations (500) reached and the optimization hasn't converged yet.\n",
      "  % self.max_iter, ConvergenceWarning)\n"
     ]
    },
    {
     "name": "stdout",
     "output_type": "stream",
     "text": [
      "Alpha momentum 0.7, learning rate 0.002 R2 score: 0.9620083667045275\n",
      "Alpha momentum 0.7, learning rate 0.002 mean squered error: 17559.07436884555\n",
      "Alpha momentum 0.7, learning rate 0.002 root mean squered error: 132.51065756702573\n"
     ]
    },
    {
     "name": "stderr",
     "output_type": "stream",
     "text": [
      "/home/stas/anaconda3/lib/python3.7/site-packages/sklearn/neural_network/multilayer_perceptron.py:562: ConvergenceWarning: Stochastic Optimizer: Maximum iterations (500) reached and the optimization hasn't converged yet.\n",
      "  % self.max_iter, ConvergenceWarning)\n"
     ]
    },
    {
     "name": "stdout",
     "output_type": "stream",
     "text": [
      "Alpha momentum 0.8, learning rate 0.002 R2 score: 0.9620083667045275\n",
      "Alpha momentum 0.8, learning rate 0.002 mean squered error: 17559.07436884555\n",
      "Alpha momentum 0.8, learning rate 0.002 root mean squered error: 132.51065756702573\n"
     ]
    },
    {
     "name": "stderr",
     "output_type": "stream",
     "text": [
      "/home/stas/anaconda3/lib/python3.7/site-packages/sklearn/neural_network/multilayer_perceptron.py:562: ConvergenceWarning: Stochastic Optimizer: Maximum iterations (500) reached and the optimization hasn't converged yet.\n",
      "  % self.max_iter, ConvergenceWarning)\n"
     ]
    },
    {
     "name": "stdout",
     "output_type": "stream",
     "text": [
      "Alpha momentum 0.9, learning rate 0.002 R2 score: 0.9620083667045275\n",
      "Alpha momentum 0.9, learning rate 0.002 mean squered error: 17559.07436884555\n",
      "Alpha momentum 0.9, learning rate 0.002 root mean squered error: 132.51065756702573\n"
     ]
    },
    {
     "name": "stderr",
     "output_type": "stream",
     "text": [
      "/home/stas/anaconda3/lib/python3.7/site-packages/sklearn/neural_network/multilayer_perceptron.py:562: ConvergenceWarning: Stochastic Optimizer: Maximum iterations (500) reached and the optimization hasn't converged yet.\n",
      "  % self.max_iter, ConvergenceWarning)\n"
     ]
    },
    {
     "name": "stdout",
     "output_type": "stream",
     "text": [
      "Alpha momentum 0.1, learning rate 0.0021 R2 score: 0.9634207200148259\n",
      "Alpha momentum 0.1, learning rate 0.0021 mean squered error: 16685.480928369343\n",
      "Alpha momentum 0.1, learning rate 0.0021 root mean squered error: 129.17229164325198\n"
     ]
    },
    {
     "name": "stderr",
     "output_type": "stream",
     "text": [
      "/home/stas/anaconda3/lib/python3.7/site-packages/sklearn/neural_network/multilayer_perceptron.py:562: ConvergenceWarning: Stochastic Optimizer: Maximum iterations (500) reached and the optimization hasn't converged yet.\n",
      "  % self.max_iter, ConvergenceWarning)\n"
     ]
    },
    {
     "name": "stdout",
     "output_type": "stream",
     "text": [
      "Alpha momentum 0.2, learning rate 0.0021 R2 score: 0.9634207200148259\n",
      "Alpha momentum 0.2, learning rate 0.0021 mean squered error: 16685.480928369343\n",
      "Alpha momentum 0.2, learning rate 0.0021 root mean squered error: 129.17229164325198\n"
     ]
    },
    {
     "name": "stderr",
     "output_type": "stream",
     "text": [
      "/home/stas/anaconda3/lib/python3.7/site-packages/sklearn/neural_network/multilayer_perceptron.py:562: ConvergenceWarning: Stochastic Optimizer: Maximum iterations (500) reached and the optimization hasn't converged yet.\n",
      "  % self.max_iter, ConvergenceWarning)\n"
     ]
    },
    {
     "name": "stdout",
     "output_type": "stream",
     "text": [
      "Alpha momentum 0.3, learning rate 0.0021 R2 score: 0.9634207200148259\n",
      "Alpha momentum 0.3, learning rate 0.0021 mean squered error: 16685.480928369343\n",
      "Alpha momentum 0.3, learning rate 0.0021 root mean squered error: 129.17229164325198\n"
     ]
    },
    {
     "name": "stderr",
     "output_type": "stream",
     "text": [
      "/home/stas/anaconda3/lib/python3.7/site-packages/sklearn/neural_network/multilayer_perceptron.py:562: ConvergenceWarning: Stochastic Optimizer: Maximum iterations (500) reached and the optimization hasn't converged yet.\n",
      "  % self.max_iter, ConvergenceWarning)\n"
     ]
    },
    {
     "name": "stdout",
     "output_type": "stream",
     "text": [
      "Alpha momentum 0.4, learning rate 0.0021 R2 score: 0.9634207200148259\n",
      "Alpha momentum 0.4, learning rate 0.0021 mean squered error: 16685.480928369343\n",
      "Alpha momentum 0.4, learning rate 0.0021 root mean squered error: 129.17229164325198\n"
     ]
    },
    {
     "name": "stderr",
     "output_type": "stream",
     "text": [
      "/home/stas/anaconda3/lib/python3.7/site-packages/sklearn/neural_network/multilayer_perceptron.py:562: ConvergenceWarning: Stochastic Optimizer: Maximum iterations (500) reached and the optimization hasn't converged yet.\n",
      "  % self.max_iter, ConvergenceWarning)\n"
     ]
    },
    {
     "name": "stdout",
     "output_type": "stream",
     "text": [
      "Alpha momentum 0.5, learning rate 0.0021 R2 score: 0.9634207200148259\n",
      "Alpha momentum 0.5, learning rate 0.0021 mean squered error: 16685.480928369343\n",
      "Alpha momentum 0.5, learning rate 0.0021 root mean squered error: 129.17229164325198\n"
     ]
    },
    {
     "name": "stderr",
     "output_type": "stream",
     "text": [
      "/home/stas/anaconda3/lib/python3.7/site-packages/sklearn/neural_network/multilayer_perceptron.py:562: ConvergenceWarning: Stochastic Optimizer: Maximum iterations (500) reached and the optimization hasn't converged yet.\n",
      "  % self.max_iter, ConvergenceWarning)\n"
     ]
    },
    {
     "name": "stdout",
     "output_type": "stream",
     "text": [
      "Alpha momentum 0.6, learning rate 0.0021 R2 score: 0.9634207200148259\n",
      "Alpha momentum 0.6, learning rate 0.0021 mean squered error: 16685.480928369343\n",
      "Alpha momentum 0.6, learning rate 0.0021 root mean squered error: 129.17229164325198\n"
     ]
    },
    {
     "name": "stderr",
     "output_type": "stream",
     "text": [
      "/home/stas/anaconda3/lib/python3.7/site-packages/sklearn/neural_network/multilayer_perceptron.py:562: ConvergenceWarning: Stochastic Optimizer: Maximum iterations (500) reached and the optimization hasn't converged yet.\n",
      "  % self.max_iter, ConvergenceWarning)\n"
     ]
    },
    {
     "name": "stdout",
     "output_type": "stream",
     "text": [
      "Alpha momentum 0.7, learning rate 0.0021 R2 score: 0.9634207200148259\n",
      "Alpha momentum 0.7, learning rate 0.0021 mean squered error: 16685.480928369343\n",
      "Alpha momentum 0.7, learning rate 0.0021 root mean squered error: 129.17229164325198\n"
     ]
    },
    {
     "name": "stderr",
     "output_type": "stream",
     "text": [
      "/home/stas/anaconda3/lib/python3.7/site-packages/sklearn/neural_network/multilayer_perceptron.py:562: ConvergenceWarning: Stochastic Optimizer: Maximum iterations (500) reached and the optimization hasn't converged yet.\n",
      "  % self.max_iter, ConvergenceWarning)\n"
     ]
    },
    {
     "name": "stdout",
     "output_type": "stream",
     "text": [
      "Alpha momentum 0.8, learning rate 0.0021 R2 score: 0.9634207200148259\n",
      "Alpha momentum 0.8, learning rate 0.0021 mean squered error: 16685.480928369343\n",
      "Alpha momentum 0.8, learning rate 0.0021 root mean squered error: 129.17229164325198\n"
     ]
    },
    {
     "name": "stderr",
     "output_type": "stream",
     "text": [
      "/home/stas/anaconda3/lib/python3.7/site-packages/sklearn/neural_network/multilayer_perceptron.py:562: ConvergenceWarning: Stochastic Optimizer: Maximum iterations (500) reached and the optimization hasn't converged yet.\n",
      "  % self.max_iter, ConvergenceWarning)\n"
     ]
    },
    {
     "name": "stdout",
     "output_type": "stream",
     "text": [
      "Alpha momentum 0.9, learning rate 0.0021 R2 score: 0.9634207200148259\n",
      "Alpha momentum 0.9, learning rate 0.0021 mean squered error: 16685.480928369343\n",
      "Alpha momentum 0.9, learning rate 0.0021 root mean squered error: 129.17229164325198\n"
     ]
    },
    {
     "name": "stderr",
     "output_type": "stream",
     "text": [
      "/home/stas/anaconda3/lib/python3.7/site-packages/sklearn/neural_network/multilayer_perceptron.py:562: ConvergenceWarning: Stochastic Optimizer: Maximum iterations (500) reached and the optimization hasn't converged yet.\n",
      "  % self.max_iter, ConvergenceWarning)\n"
     ]
    },
    {
     "name": "stdout",
     "output_type": "stream",
     "text": [
      "Alpha momentum 0.1, learning rate 0.0022 R2 score: 0.9643822703720307\n",
      "Alpha momentum 0.1, learning rate 0.0022 mean squered error: 16057.33977355046\n",
      "Alpha momentum 0.1, learning rate 0.0022 root mean squered error: 126.71755905773462\n"
     ]
    },
    {
     "name": "stderr",
     "output_type": "stream",
     "text": [
      "/home/stas/anaconda3/lib/python3.7/site-packages/sklearn/neural_network/multilayer_perceptron.py:562: ConvergenceWarning: Stochastic Optimizer: Maximum iterations (500) reached and the optimization hasn't converged yet.\n",
      "  % self.max_iter, ConvergenceWarning)\n"
     ]
    },
    {
     "name": "stdout",
     "output_type": "stream",
     "text": [
      "Alpha momentum 0.2, learning rate 0.0022 R2 score: 0.9643822703720307\n",
      "Alpha momentum 0.2, learning rate 0.0022 mean squered error: 16057.33977355046\n",
      "Alpha momentum 0.2, learning rate 0.0022 root mean squered error: 126.71755905773462\n"
     ]
    },
    {
     "name": "stderr",
     "output_type": "stream",
     "text": [
      "/home/stas/anaconda3/lib/python3.7/site-packages/sklearn/neural_network/multilayer_perceptron.py:562: ConvergenceWarning: Stochastic Optimizer: Maximum iterations (500) reached and the optimization hasn't converged yet.\n",
      "  % self.max_iter, ConvergenceWarning)\n"
     ]
    },
    {
     "name": "stdout",
     "output_type": "stream",
     "text": [
      "Alpha momentum 0.3, learning rate 0.0022 R2 score: 0.9643822703720307\n",
      "Alpha momentum 0.3, learning rate 0.0022 mean squered error: 16057.33977355046\n",
      "Alpha momentum 0.3, learning rate 0.0022 root mean squered error: 126.71755905773462\n"
     ]
    },
    {
     "name": "stderr",
     "output_type": "stream",
     "text": [
      "/home/stas/anaconda3/lib/python3.7/site-packages/sklearn/neural_network/multilayer_perceptron.py:562: ConvergenceWarning: Stochastic Optimizer: Maximum iterations (500) reached and the optimization hasn't converged yet.\n",
      "  % self.max_iter, ConvergenceWarning)\n"
     ]
    },
    {
     "name": "stdout",
     "output_type": "stream",
     "text": [
      "Alpha momentum 0.4, learning rate 0.0022 R2 score: 0.9643822703720307\n",
      "Alpha momentum 0.4, learning rate 0.0022 mean squered error: 16057.33977355046\n",
      "Alpha momentum 0.4, learning rate 0.0022 root mean squered error: 126.71755905773462\n"
     ]
    },
    {
     "name": "stderr",
     "output_type": "stream",
     "text": [
      "/home/stas/anaconda3/lib/python3.7/site-packages/sklearn/neural_network/multilayer_perceptron.py:562: ConvergenceWarning: Stochastic Optimizer: Maximum iterations (500) reached and the optimization hasn't converged yet.\n",
      "  % self.max_iter, ConvergenceWarning)\n"
     ]
    },
    {
     "name": "stdout",
     "output_type": "stream",
     "text": [
      "Alpha momentum 0.5, learning rate 0.0022 R2 score: 0.9643822703720307\n",
      "Alpha momentum 0.5, learning rate 0.0022 mean squered error: 16057.33977355046\n",
      "Alpha momentum 0.5, learning rate 0.0022 root mean squered error: 126.71755905773462\n"
     ]
    },
    {
     "name": "stderr",
     "output_type": "stream",
     "text": [
      "/home/stas/anaconda3/lib/python3.7/site-packages/sklearn/neural_network/multilayer_perceptron.py:562: ConvergenceWarning: Stochastic Optimizer: Maximum iterations (500) reached and the optimization hasn't converged yet.\n",
      "  % self.max_iter, ConvergenceWarning)\n"
     ]
    },
    {
     "name": "stdout",
     "output_type": "stream",
     "text": [
      "Alpha momentum 0.6, learning rate 0.0022 R2 score: 0.9643822703720307\n",
      "Alpha momentum 0.6, learning rate 0.0022 mean squered error: 16057.33977355046\n",
      "Alpha momentum 0.6, learning rate 0.0022 root mean squered error: 126.71755905773462\n"
     ]
    },
    {
     "name": "stderr",
     "output_type": "stream",
     "text": [
      "/home/stas/anaconda3/lib/python3.7/site-packages/sklearn/neural_network/multilayer_perceptron.py:562: ConvergenceWarning: Stochastic Optimizer: Maximum iterations (500) reached and the optimization hasn't converged yet.\n",
      "  % self.max_iter, ConvergenceWarning)\n"
     ]
    },
    {
     "name": "stdout",
     "output_type": "stream",
     "text": [
      "Alpha momentum 0.7, learning rate 0.0022 R2 score: 0.9643822703720307\n",
      "Alpha momentum 0.7, learning rate 0.0022 mean squered error: 16057.33977355046\n",
      "Alpha momentum 0.7, learning rate 0.0022 root mean squered error: 126.71755905773462\n"
     ]
    },
    {
     "name": "stderr",
     "output_type": "stream",
     "text": [
      "/home/stas/anaconda3/lib/python3.7/site-packages/sklearn/neural_network/multilayer_perceptron.py:562: ConvergenceWarning: Stochastic Optimizer: Maximum iterations (500) reached and the optimization hasn't converged yet.\n",
      "  % self.max_iter, ConvergenceWarning)\n"
     ]
    },
    {
     "name": "stdout",
     "output_type": "stream",
     "text": [
      "Alpha momentum 0.8, learning rate 0.0022 R2 score: 0.9643822703720307\n",
      "Alpha momentum 0.8, learning rate 0.0022 mean squered error: 16057.33977355046\n",
      "Alpha momentum 0.8, learning rate 0.0022 root mean squered error: 126.71755905773462\n"
     ]
    },
    {
     "name": "stderr",
     "output_type": "stream",
     "text": [
      "/home/stas/anaconda3/lib/python3.7/site-packages/sklearn/neural_network/multilayer_perceptron.py:562: ConvergenceWarning: Stochastic Optimizer: Maximum iterations (500) reached and the optimization hasn't converged yet.\n",
      "  % self.max_iter, ConvergenceWarning)\n"
     ]
    },
    {
     "name": "stdout",
     "output_type": "stream",
     "text": [
      "Alpha momentum 0.9, learning rate 0.0022 R2 score: 0.9643822703720307\n",
      "Alpha momentum 0.9, learning rate 0.0022 mean squered error: 16057.33977355046\n",
      "Alpha momentum 0.9, learning rate 0.0022 root mean squered error: 126.71755905773462\n"
     ]
    },
    {
     "name": "stderr",
     "output_type": "stream",
     "text": [
      "/home/stas/anaconda3/lib/python3.7/site-packages/sklearn/neural_network/multilayer_perceptron.py:562: ConvergenceWarning: Stochastic Optimizer: Maximum iterations (500) reached and the optimization hasn't converged yet.\n",
      "  % self.max_iter, ConvergenceWarning)\n"
     ]
    },
    {
     "name": "stdout",
     "output_type": "stream",
     "text": [
      "Alpha momentum 0.1, learning rate 0.0023 R2 score: 0.9649921230975802\n",
      "Alpha momentum 0.1, learning rate 0.0023 mean squered error: 15657.268503597179\n",
      "Alpha momentum 0.1, learning rate 0.0023 root mean squered error: 125.12900744270762\n"
     ]
    },
    {
     "name": "stderr",
     "output_type": "stream",
     "text": [
      "/home/stas/anaconda3/lib/python3.7/site-packages/sklearn/neural_network/multilayer_perceptron.py:562: ConvergenceWarning: Stochastic Optimizer: Maximum iterations (500) reached and the optimization hasn't converged yet.\n",
      "  % self.max_iter, ConvergenceWarning)\n"
     ]
    },
    {
     "name": "stdout",
     "output_type": "stream",
     "text": [
      "Alpha momentum 0.2, learning rate 0.0023 R2 score: 0.9649921230975802\n",
      "Alpha momentum 0.2, learning rate 0.0023 mean squered error: 15657.268503597179\n",
      "Alpha momentum 0.2, learning rate 0.0023 root mean squered error: 125.12900744270762\n"
     ]
    },
    {
     "name": "stderr",
     "output_type": "stream",
     "text": [
      "/home/stas/anaconda3/lib/python3.7/site-packages/sklearn/neural_network/multilayer_perceptron.py:562: ConvergenceWarning: Stochastic Optimizer: Maximum iterations (500) reached and the optimization hasn't converged yet.\n",
      "  % self.max_iter, ConvergenceWarning)\n"
     ]
    },
    {
     "name": "stdout",
     "output_type": "stream",
     "text": [
      "Alpha momentum 0.3, learning rate 0.0023 R2 score: 0.9649921230975802\n",
      "Alpha momentum 0.3, learning rate 0.0023 mean squered error: 15657.268503597179\n",
      "Alpha momentum 0.3, learning rate 0.0023 root mean squered error: 125.12900744270762\n"
     ]
    },
    {
     "name": "stderr",
     "output_type": "stream",
     "text": [
      "/home/stas/anaconda3/lib/python3.7/site-packages/sklearn/neural_network/multilayer_perceptron.py:562: ConvergenceWarning: Stochastic Optimizer: Maximum iterations (500) reached and the optimization hasn't converged yet.\n",
      "  % self.max_iter, ConvergenceWarning)\n"
     ]
    },
    {
     "name": "stdout",
     "output_type": "stream",
     "text": [
      "Alpha momentum 0.4, learning rate 0.0023 R2 score: 0.9649921230975802\n",
      "Alpha momentum 0.4, learning rate 0.0023 mean squered error: 15657.268503597179\n",
      "Alpha momentum 0.4, learning rate 0.0023 root mean squered error: 125.12900744270762\n"
     ]
    },
    {
     "name": "stderr",
     "output_type": "stream",
     "text": [
      "/home/stas/anaconda3/lib/python3.7/site-packages/sklearn/neural_network/multilayer_perceptron.py:562: ConvergenceWarning: Stochastic Optimizer: Maximum iterations (500) reached and the optimization hasn't converged yet.\n",
      "  % self.max_iter, ConvergenceWarning)\n"
     ]
    },
    {
     "name": "stdout",
     "output_type": "stream",
     "text": [
      "Alpha momentum 0.5, learning rate 0.0023 R2 score: 0.9649921230975802\n",
      "Alpha momentum 0.5, learning rate 0.0023 mean squered error: 15657.268503597179\n",
      "Alpha momentum 0.5, learning rate 0.0023 root mean squered error: 125.12900744270762\n"
     ]
    },
    {
     "name": "stderr",
     "output_type": "stream",
     "text": [
      "/home/stas/anaconda3/lib/python3.7/site-packages/sklearn/neural_network/multilayer_perceptron.py:562: ConvergenceWarning: Stochastic Optimizer: Maximum iterations (500) reached and the optimization hasn't converged yet.\n",
      "  % self.max_iter, ConvergenceWarning)\n"
     ]
    },
    {
     "name": "stdout",
     "output_type": "stream",
     "text": [
      "Alpha momentum 0.6, learning rate 0.0023 R2 score: 0.9649921230975802\n",
      "Alpha momentum 0.6, learning rate 0.0023 mean squered error: 15657.268503597179\n",
      "Alpha momentum 0.6, learning rate 0.0023 root mean squered error: 125.12900744270762\n"
     ]
    },
    {
     "name": "stderr",
     "output_type": "stream",
     "text": [
      "/home/stas/anaconda3/lib/python3.7/site-packages/sklearn/neural_network/multilayer_perceptron.py:562: ConvergenceWarning: Stochastic Optimizer: Maximum iterations (500) reached and the optimization hasn't converged yet.\n",
      "  % self.max_iter, ConvergenceWarning)\n"
     ]
    },
    {
     "name": "stdout",
     "output_type": "stream",
     "text": [
      "Alpha momentum 0.7, learning rate 0.0023 R2 score: 0.9649921230975802\n",
      "Alpha momentum 0.7, learning rate 0.0023 mean squered error: 15657.268503597179\n",
      "Alpha momentum 0.7, learning rate 0.0023 root mean squered error: 125.12900744270762\n"
     ]
    },
    {
     "name": "stderr",
     "output_type": "stream",
     "text": [
      "/home/stas/anaconda3/lib/python3.7/site-packages/sklearn/neural_network/multilayer_perceptron.py:562: ConvergenceWarning: Stochastic Optimizer: Maximum iterations (500) reached and the optimization hasn't converged yet.\n",
      "  % self.max_iter, ConvergenceWarning)\n"
     ]
    },
    {
     "name": "stdout",
     "output_type": "stream",
     "text": [
      "Alpha momentum 0.8, learning rate 0.0023 R2 score: 0.9649921230975802\n",
      "Alpha momentum 0.8, learning rate 0.0023 mean squered error: 15657.268503597179\n",
      "Alpha momentum 0.8, learning rate 0.0023 root mean squered error: 125.12900744270762\n"
     ]
    },
    {
     "name": "stderr",
     "output_type": "stream",
     "text": [
      "/home/stas/anaconda3/lib/python3.7/site-packages/sklearn/neural_network/multilayer_perceptron.py:562: ConvergenceWarning: Stochastic Optimizer: Maximum iterations (500) reached and the optimization hasn't converged yet.\n",
      "  % self.max_iter, ConvergenceWarning)\n"
     ]
    },
    {
     "name": "stdout",
     "output_type": "stream",
     "text": [
      "Alpha momentum 0.9, learning rate 0.0023 R2 score: 0.9649921230975802\n",
      "Alpha momentum 0.9, learning rate 0.0023 mean squered error: 15657.268503597179\n",
      "Alpha momentum 0.9, learning rate 0.0023 root mean squered error: 125.12900744270762\n",
      "Alpha momentum 0.1, learning rate 0.0024 R2 score: 0.9541351587062278\n",
      "Alpha momentum 0.1, learning rate 0.0024 mean squered error: 26503.988622894176\n",
      "Alpha momentum 0.1, learning rate 0.0024 root mean squered error: 162.8004564578803\n",
      "Alpha momentum 0.2, learning rate 0.0024 R2 score: 0.9541351587062278\n",
      "Alpha momentum 0.2, learning rate 0.0024 mean squered error: 26503.988622894176\n",
      "Alpha momentum 0.2, learning rate 0.0024 root mean squered error: 162.8004564578803\n",
      "Alpha momentum 0.3, learning rate 0.0024 R2 score: 0.9541351587062278\n",
      "Alpha momentum 0.3, learning rate 0.0024 mean squered error: 26503.988622894176\n",
      "Alpha momentum 0.3, learning rate 0.0024 root mean squered error: 162.8004564578803\n",
      "Alpha momentum 0.4, learning rate 0.0024 R2 score: 0.9541351587062278\n",
      "Alpha momentum 0.4, learning rate 0.0024 mean squered error: 26503.988622894176\n",
      "Alpha momentum 0.4, learning rate 0.0024 root mean squered error: 162.8004564578803\n",
      "Alpha momentum 0.5, learning rate 0.0024 R2 score: 0.9541351587062278\n",
      "Alpha momentum 0.5, learning rate 0.0024 mean squered error: 26503.988622894176\n",
      "Alpha momentum 0.5, learning rate 0.0024 root mean squered error: 162.8004564578803\n",
      "Alpha momentum 0.6, learning rate 0.0024 R2 score: 0.9541351587062278\n",
      "Alpha momentum 0.6, learning rate 0.0024 mean squered error: 26503.988622894176\n",
      "Alpha momentum 0.6, learning rate 0.0024 root mean squered error: 162.8004564578803\n",
      "Alpha momentum 0.7, learning rate 0.0024 R2 score: 0.9541351587062278\n",
      "Alpha momentum 0.7, learning rate 0.0024 mean squered error: 26503.988622894176\n",
      "Alpha momentum 0.7, learning rate 0.0024 root mean squered error: 162.8004564578803\n",
      "Alpha momentum 0.8, learning rate 0.0024 R2 score: 0.9541351587062278\n",
      "Alpha momentum 0.8, learning rate 0.0024 mean squered error: 26503.988622894176\n",
      "Alpha momentum 0.8, learning rate 0.0024 root mean squered error: 162.8004564578803\n",
      "Alpha momentum 0.9, learning rate 0.0024 R2 score: 0.9541351587062278\n",
      "Alpha momentum 0.9, learning rate 0.0024 mean squered error: 26503.988622894176\n",
      "Alpha momentum 0.9, learning rate 0.0024 root mean squered error: 162.8004564578803\n",
      "Alpha momentum 0.1, learning rate 0.0025 R2 score: 0.9544049687798771\n",
      "Alpha momentum 0.1, learning rate 0.0025 mean squered error: 26419.11832086944\n",
      "Alpha momentum 0.1, learning rate 0.0025 root mean squered error: 162.53959001077072\n",
      "Alpha momentum 0.2, learning rate 0.0025 R2 score: 0.9544049687798771\n",
      "Alpha momentum 0.2, learning rate 0.0025 mean squered error: 26419.11832086944\n",
      "Alpha momentum 0.2, learning rate 0.0025 root mean squered error: 162.53959001077072\n",
      "Alpha momentum 0.3, learning rate 0.0025 R2 score: 0.9544049687798771\n",
      "Alpha momentum 0.3, learning rate 0.0025 mean squered error: 26419.11832086944\n",
      "Alpha momentum 0.3, learning rate 0.0025 root mean squered error: 162.53959001077072\n",
      "Alpha momentum 0.4, learning rate 0.0025 R2 score: 0.9544049687798771\n",
      "Alpha momentum 0.4, learning rate 0.0025 mean squered error: 26419.11832086944\n",
      "Alpha momentum 0.4, learning rate 0.0025 root mean squered error: 162.53959001077072\n",
      "Alpha momentum 0.5, learning rate 0.0025 R2 score: 0.9544049687798771\n",
      "Alpha momentum 0.5, learning rate 0.0025 mean squered error: 26419.11832086944\n",
      "Alpha momentum 0.5, learning rate 0.0025 root mean squered error: 162.53959001077072\n",
      "Alpha momentum 0.6, learning rate 0.0025 R2 score: 0.9544049687798771\n",
      "Alpha momentum 0.6, learning rate 0.0025 mean squered error: 26419.11832086944\n",
      "Alpha momentum 0.6, learning rate 0.0025 root mean squered error: 162.53959001077072\n",
      "Alpha momentum 0.7, learning rate 0.0025 R2 score: 0.9544049687798771\n",
      "Alpha momentum 0.7, learning rate 0.0025 mean squered error: 26419.11832086944\n",
      "Alpha momentum 0.7, learning rate 0.0025 root mean squered error: 162.53959001077072\n",
      "Alpha momentum 0.8, learning rate 0.0025 R2 score: 0.9544049687798771\n",
      "Alpha momentum 0.8, learning rate 0.0025 mean squered error: 26419.11832086944\n",
      "Alpha momentum 0.8, learning rate 0.0025 root mean squered error: 162.53959001077072\n",
      "Alpha momentum 0.9, learning rate 0.0025 R2 score: 0.9544049687798771\n",
      "Alpha momentum 0.9, learning rate 0.0025 mean squered error: 26419.11832086944\n",
      "Alpha momentum 0.9, learning rate 0.0025 root mean squered error: 162.53959001077072\n",
      "Alpha momentum 0.1, learning rate 0.0026 R2 score: 0.9546520692797056\n",
      "Alpha momentum 0.1, learning rate 0.0026 mean squered error: 26263.126370384874\n",
      "Alpha momentum 0.1, learning rate 0.0026 root mean squered error: 162.05902125579087\n",
      "Alpha momentum 0.2, learning rate 0.0026 R2 score: 0.9546520692797056\n",
      "Alpha momentum 0.2, learning rate 0.0026 mean squered error: 26263.126370384874\n",
      "Alpha momentum 0.2, learning rate 0.0026 root mean squered error: 162.05902125579087\n",
      "Alpha momentum 0.3, learning rate 0.0026 R2 score: 0.9546520692797056\n",
      "Alpha momentum 0.3, learning rate 0.0026 mean squered error: 26263.126370384874\n",
      "Alpha momentum 0.3, learning rate 0.0026 root mean squered error: 162.05902125579087\n",
      "Alpha momentum 0.4, learning rate 0.0026 R2 score: 0.9546520692797056\n",
      "Alpha momentum 0.4, learning rate 0.0026 mean squered error: 26263.126370384874\n",
      "Alpha momentum 0.4, learning rate 0.0026 root mean squered error: 162.05902125579087\n",
      "Alpha momentum 0.5, learning rate 0.0026 R2 score: 0.9546520692797056\n",
      "Alpha momentum 0.5, learning rate 0.0026 mean squered error: 26263.126370384874\n",
      "Alpha momentum 0.5, learning rate 0.0026 root mean squered error: 162.05902125579087\n",
      "Alpha momentum 0.6, learning rate 0.0026 R2 score: 0.9546520692797056\n",
      "Alpha momentum 0.6, learning rate 0.0026 mean squered error: 26263.126370384874\n",
      "Alpha momentum 0.6, learning rate 0.0026 root mean squered error: 162.05902125579087\n",
      "Alpha momentum 0.7, learning rate 0.0026 R2 score: 0.9546520692797056\n",
      "Alpha momentum 0.7, learning rate 0.0026 mean squered error: 26263.126370384874\n",
      "Alpha momentum 0.7, learning rate 0.0026 root mean squered error: 162.05902125579087\n",
      "Alpha momentum 0.8, learning rate 0.0026 R2 score: 0.9546520692797056\n",
      "Alpha momentum 0.8, learning rate 0.0026 mean squered error: 26263.126370384874\n",
      "Alpha momentum 0.8, learning rate 0.0026 root mean squered error: 162.05902125579087\n",
      "Alpha momentum 0.9, learning rate 0.0026 R2 score: 0.9546520692797056\n",
      "Alpha momentum 0.9, learning rate 0.0026 mean squered error: 26263.126370384874\n",
      "Alpha momentum 0.9, learning rate 0.0026 root mean squered error: 162.05902125579087\n",
      "Alpha momentum 0.1, learning rate 0.0027 R2 score: 0.9606861012775297\n",
      "Alpha momentum 0.1, learning rate 0.0027 mean squered error: 19569.527123184413\n",
      "Alpha momentum 0.1, learning rate 0.0027 root mean squered error: 139.89112596295882\n",
      "Alpha momentum 0.2, learning rate 0.0027 R2 score: 0.9606861012775297\n",
      "Alpha momentum 0.2, learning rate 0.0027 mean squered error: 19569.527123184413\n",
      "Alpha momentum 0.2, learning rate 0.0027 root mean squered error: 139.89112596295882\n",
      "Alpha momentum 0.3, learning rate 0.0027 R2 score: 0.9606861012775297\n",
      "Alpha momentum 0.3, learning rate 0.0027 mean squered error: 19569.527123184413\n",
      "Alpha momentum 0.3, learning rate 0.0027 root mean squered error: 139.89112596295882\n",
      "Alpha momentum 0.4, learning rate 0.0027 R2 score: 0.9606861012775297\n",
      "Alpha momentum 0.4, learning rate 0.0027 mean squered error: 19569.527123184413\n",
      "Alpha momentum 0.4, learning rate 0.0027 root mean squered error: 139.89112596295882\n",
      "Alpha momentum 0.5, learning rate 0.0027 R2 score: 0.9606861012775297\n",
      "Alpha momentum 0.5, learning rate 0.0027 mean squered error: 19569.527123184413\n",
      "Alpha momentum 0.5, learning rate 0.0027 root mean squered error: 139.89112596295882\n",
      "Alpha momentum 0.6, learning rate 0.0027 R2 score: 0.9606861012775297\n",
      "Alpha momentum 0.6, learning rate 0.0027 mean squered error: 19569.527123184413\n",
      "Alpha momentum 0.6, learning rate 0.0027 root mean squered error: 139.89112596295882\n",
      "Alpha momentum 0.7, learning rate 0.0027 R2 score: 0.9606861012775297\n",
      "Alpha momentum 0.7, learning rate 0.0027 mean squered error: 19569.527123184413\n",
      "Alpha momentum 0.7, learning rate 0.0027 root mean squered error: 139.89112596295882\n"
     ]
    },
    {
     "name": "stdout",
     "output_type": "stream",
     "text": [
      "Alpha momentum 0.8, learning rate 0.0027 R2 score: 0.9606861012775297\n",
      "Alpha momentum 0.8, learning rate 0.0027 mean squered error: 19569.527123184413\n",
      "Alpha momentum 0.8, learning rate 0.0027 root mean squered error: 139.89112596295882\n",
      "Alpha momentum 0.9, learning rate 0.0027 R2 score: 0.9606861012775297\n",
      "Alpha momentum 0.9, learning rate 0.0027 mean squered error: 19569.527123184413\n",
      "Alpha momentum 0.9, learning rate 0.0027 root mean squered error: 139.89112596295882\n",
      "Alpha momentum 0.1, learning rate 0.0028 R2 score: 0.9619926099285965\n",
      "Alpha momentum 0.1, learning rate 0.0028 mean squered error: 18154.242944450776\n",
      "Alpha momentum 0.1, learning rate 0.0028 root mean squered error: 134.73768197668676\n",
      "Alpha momentum 0.2, learning rate 0.0028 R2 score: 0.9619926099285965\n",
      "Alpha momentum 0.2, learning rate 0.0028 mean squered error: 18154.242944450776\n",
      "Alpha momentum 0.2, learning rate 0.0028 root mean squered error: 134.73768197668676\n",
      "Alpha momentum 0.3, learning rate 0.0028 R2 score: 0.9619926099285965\n",
      "Alpha momentum 0.3, learning rate 0.0028 mean squered error: 18154.242944450776\n",
      "Alpha momentum 0.3, learning rate 0.0028 root mean squered error: 134.73768197668676\n",
      "Alpha momentum 0.4, learning rate 0.0028 R2 score: 0.9619926099285965\n",
      "Alpha momentum 0.4, learning rate 0.0028 mean squered error: 18154.242944450776\n",
      "Alpha momentum 0.4, learning rate 0.0028 root mean squered error: 134.73768197668676\n",
      "Alpha momentum 0.5, learning rate 0.0028 R2 score: 0.9619926099285965\n",
      "Alpha momentum 0.5, learning rate 0.0028 mean squered error: 18154.242944450776\n",
      "Alpha momentum 0.5, learning rate 0.0028 root mean squered error: 134.73768197668676\n",
      "Alpha momentum 0.6, learning rate 0.0028 R2 score: 0.9619926099285965\n",
      "Alpha momentum 0.6, learning rate 0.0028 mean squered error: 18154.242944450776\n",
      "Alpha momentum 0.6, learning rate 0.0028 root mean squered error: 134.73768197668676\n",
      "Alpha momentum 0.7, learning rate 0.0028 R2 score: 0.9619926099285965\n",
      "Alpha momentum 0.7, learning rate 0.0028 mean squered error: 18154.242944450776\n",
      "Alpha momentum 0.7, learning rate 0.0028 root mean squered error: 134.73768197668676\n",
      "Alpha momentum 0.8, learning rate 0.0028 R2 score: 0.9619926099285965\n",
      "Alpha momentum 0.8, learning rate 0.0028 mean squered error: 18154.242944450776\n",
      "Alpha momentum 0.8, learning rate 0.0028 root mean squered error: 134.73768197668676\n",
      "Alpha momentum 0.9, learning rate 0.0028 R2 score: 0.9619926099285965\n",
      "Alpha momentum 0.9, learning rate 0.0028 mean squered error: 18154.242944450776\n",
      "Alpha momentum 0.9, learning rate 0.0028 root mean squered error: 134.73768197668676\n",
      "Alpha momentum 0.1, learning rate 0.0029 R2 score: 0.9621081339267731\n",
      "Alpha momentum 0.1, learning rate 0.0029 mean squered error: 18226.773721569676\n",
      "Alpha momentum 0.1, learning rate 0.0029 root mean squered error: 135.0065691793169\n",
      "Alpha momentum 0.2, learning rate 0.0029 R2 score: 0.9621081339267731\n",
      "Alpha momentum 0.2, learning rate 0.0029 mean squered error: 18226.773721569676\n",
      "Alpha momentum 0.2, learning rate 0.0029 root mean squered error: 135.0065691793169\n",
      "Alpha momentum 0.3, learning rate 0.0029 R2 score: 0.9621081339267731\n",
      "Alpha momentum 0.3, learning rate 0.0029 mean squered error: 18226.773721569676\n",
      "Alpha momentum 0.3, learning rate 0.0029 root mean squered error: 135.0065691793169\n",
      "Alpha momentum 0.4, learning rate 0.0029 R2 score: 0.9621081339267731\n",
      "Alpha momentum 0.4, learning rate 0.0029 mean squered error: 18226.773721569676\n",
      "Alpha momentum 0.4, learning rate 0.0029 root mean squered error: 135.0065691793169\n",
      "Alpha momentum 0.5, learning rate 0.0029 R2 score: 0.9621081339267731\n",
      "Alpha momentum 0.5, learning rate 0.0029 mean squered error: 18226.773721569676\n",
      "Alpha momentum 0.5, learning rate 0.0029 root mean squered error: 135.0065691793169\n",
      "Alpha momentum 0.6, learning rate 0.0029 R2 score: 0.9621081339267731\n",
      "Alpha momentum 0.6, learning rate 0.0029 mean squered error: 18226.773721569676\n",
      "Alpha momentum 0.6, learning rate 0.0029 root mean squered error: 135.0065691793169\n",
      "Alpha momentum 0.7, learning rate 0.0029 R2 score: 0.9621081339267731\n",
      "Alpha momentum 0.7, learning rate 0.0029 mean squered error: 18226.773721569676\n",
      "Alpha momentum 0.7, learning rate 0.0029 root mean squered error: 135.0065691793169\n",
      "Alpha momentum 0.8, learning rate 0.0029 R2 score: 0.9621081339267731\n",
      "Alpha momentum 0.8, learning rate 0.0029 mean squered error: 18226.773721569676\n",
      "Alpha momentum 0.8, learning rate 0.0029 root mean squered error: 135.0065691793169\n",
      "Alpha momentum 0.9, learning rate 0.0029 R2 score: 0.9621081339267731\n",
      "Alpha momentum 0.9, learning rate 0.0029 mean squered error: 18226.773721569676\n",
      "Alpha momentum 0.9, learning rate 0.0029 root mean squered error: 135.0065691793169\n"
     ]
    }
   ],
   "source": [
    "from sklearn.neural_network import MLPRegressor\n",
    "from sklearn.metrics import mean_squared_error, explained_variance_score\n",
    "import numpy as np\n",
    "\n",
    "#alphas = np.logspace(-5, 5, 6)\n",
    "momentums = range(1, 10, 1)\n",
    "learning_rates = range(5, 30)\n",
    "\n",
    "regressors = []\n",
    "names = []\n",
    "\n",
    "for lr in learning_rates:\n",
    "    for m in momentums:\n",
    "        regressors.append(MLPRegressor(hidden_layer_sizes=(33, 33, 33),max_iter=500,\n",
    "                                       shuffle=False,\n",
    "                                       activation='relu',\n",
    "                                       alpha=100000, random_state=1,\n",
    "                                       momentum=m/10,learning_rate_init=lr/10000))\n",
    "        names.append('momentum {}, learning rate {}'.format(m/10, lr/10000))\n",
    "\n",
    "for name, regressor in zip(names, regressors):\n",
    "    regressor.fit(X_train,y_train)\n",
    "    y_p = regressor.predict(X_test)\n",
    "    print('Alpha {} R2 score: {}'.format(name, explained_variance_score(y_test, y_p)))\n",
    "    print('Alpha {} mean squered error: {}'.format(name, mean_squared_error(y_test, y_p)))\n",
    "    print('Alpha {} root mean squered error: {}'.format(name, np.sqrt(mean_squared_error(y_test, y_p))))\n"
   ]
  },
  {
   "cell_type": "code",
   "execution_count": 7,
   "metadata": {},
   "outputs": [
    {
     "name": "stderr",
     "output_type": "stream",
     "text": [
      "/home/stas/anaconda3/lib/python3.7/site-packages/sklearn/neural_network/multilayer_perceptron.py:562: ConvergenceWarning: Stochastic Optimizer: Maximum iterations (500) reached and the optimization hasn't converged yet.\n",
      "  % self.max_iter, ConvergenceWarning)\n"
     ]
    },
    {
     "data": {
      "text/plain": [
       "MLPRegressor(activation='relu', alpha=100000, batch_size='auto', beta_1=0.9,\n",
       "       beta_2=0.999, early_stopping=False, epsilon=1e-08,\n",
       "       hidden_layer_sizes=(33, 33, 33), learning_rate='constant',\n",
       "       learning_rate_init=0.0023, max_iter=500, momentum=0.8,\n",
       "       n_iter_no_change=10, nesterovs_momentum=True, power_t=0.5,\n",
       "       random_state=1, shuffle=False, solver='adam', tol=0.0001,\n",
       "       validation_fraction=0.1, verbose=False, warm_start=False)"
      ]
     },
     "execution_count": 7,
     "metadata": {},
     "output_type": "execute_result"
    }
   ],
   "source": [
    "from sklearn.neural_network import MLPRegressor\n",
    "\n",
    "mlp = MLPRegressor(hidden_layer_sizes=(33, 33, 33),max_iter=500,\n",
    "                                       shuffle=False,\n",
    "                                       activation='relu',\n",
    "                                       alpha=100000, random_state=1,\n",
    "                                       momentum=0.8,learning_rate_init=0.0023)\n",
    "mlp.fit(X_train,y_train)"
   ]
  },
  {
   "cell_type": "code",
   "execution_count": 8,
   "metadata": {},
   "outputs": [],
   "source": [
    "y_pred = mlp.predict(X_test)"
   ]
  },
  {
   "cell_type": "code",
   "execution_count": 9,
   "metadata": {},
   "outputs": [
    {
     "name": "stdout",
     "output_type": "stream",
     "text": [
      "R2 score: 0.9649921230975802\n",
      "Mean squered error: 15657.268503597179\n",
      "Root mean squered error: 125.12900744270762\n"
     ]
    }
   ],
   "source": [
    "from sklearn.metrics import mean_squared_error, explained_variance_score\n",
    "import numpy as np\n",
    "\n",
    "print('R2 score: {}'.format(explained_variance_score(y_test, y_pred)))\n",
    "print('Mean squered error: {}'.format(mean_squared_error(y_test, y_pred)))\n",
    "print('Root mean squered error: {}'.format(np.sqrt(mean_squared_error(y_test, y_pred))))"
   ]
  },
  {
   "cell_type": "code",
   "execution_count": 10,
   "metadata": {},
   "outputs": [],
   "source": [
    "from pandas import Series\n",
    "\n",
    "y_pred_df = pd.DataFrame(data=y_pred, index=X['2017-10-01':].index.values)"
   ]
  },
  {
   "cell_type": "code",
   "execution_count": 11,
   "metadata": {},
   "outputs": [],
   "source": [
    "y_pred_df.index = pd.to_datetime(y_pred_df.index)"
   ]
  },
  {
   "cell_type": "code",
   "execution_count": 12,
   "metadata": {},
   "outputs": [],
   "source": [
    "df.index = pd.to_datetime(df.index)"
   ]
  },
  {
   "cell_type": "code",
   "execution_count": 15,
   "metadata": {},
   "outputs": [
    {
     "data": {
      "image/png": "[encoded data removed]",
      "text/plain": [
       "<Figure size 1008x504 with 1 Axes>"
      ]
     },
     "metadata": {
      "needs_background": "light"
     },
     "output_type": "display_data"
    },
    {
     "data": {
      "text/plain": [
       "<Figure size 432x288 with 0 Axes>"
      ]
     },
     "metadata": {},
     "output_type": "display_data"
    }
   ],
   "source": [
    "import matplotlib.pyplot as plt\n",
    "\n",
    "ax = df['Energia(t)'].plot(figsize=(14, 7))\n",
    "y_pred_df.plot(ax=ax, label='Predykcja', alpha=.7, figsize=(14, 7))\n",
    "\n",
    "ax.set_xlabel('Date')\n",
    "ax.set_ylabel('Energy')\n",
    "plt.legend()\n",
    "\n",
    "plt.savefig('wykres.jpg')\n",
    "plt.show()"
   ]
  },
  {
   "cell_type": "code",
   "execution_count": null,
   "metadata": {},
   "outputs": [],
   "source": []
  }
 ],
 "metadata": {
  "kernelspec": {
   "display_name": "Python 3",
   "language": "python",
   "name": "python3"
  },
  "language_info": {
   "codemirror_mode": {
    "name": "ipython",
    "version": 3
   },
   "file_extension": ".py",
   "mimetype": "text/x-python",
   "name": "python",
   "nbconvert_exporter": "python",
   "pygments_lexer": "ipython3",
   "version": "3.7.1"
  }
 },
 "nbformat": 4,
 "nbformat_minor": 2
}
